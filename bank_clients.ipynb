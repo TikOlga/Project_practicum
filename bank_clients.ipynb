{
 "cells": [
  {
   "cell_type": "markdown",
   "metadata": {},
   "source": [
    "# Анализ оттока клиентов"
   ]
  },
  {
   "cell_type": "markdown",
   "metadata": {},
   "source": [
    "Перед нами стоит задача проанализировать клиентов регионального банка «Метанпром» и выделить портрет клиентов, которые склонны уходить из банка."
   ]
  },
  {
   "cell_type": "markdown",
   "metadata": {},
   "source": [
    "#### Описание датасета\n",
    "\n",
    "Датасет содержит данные о клиентах банка «Метанпром». Банк располагается в Ярославле и областных городах: Ростов Великий и Рыбинск.\n",
    "\n",
    "Колонки:\n",
    "\n",
    "- `userid` — идентификатор пользователя,\n",
    "- `score` — баллы кредитного скоринга,\n",
    "- `City` — город,\n",
    "- `Gender` — пол,\n",
    "- `Age` — возраст,\n",
    "- `Objects` — количество объектов в собственности,\n",
    "- `Balance` — баланс на счёте,\n",
    "- `Products` — количество продуктов, которыми пользуется клиент,\n",
    "- `CreditCard` — есть ли кредитная карта,\n",
    "- `Loyalty` — активный клиент,\n",
    "- `estimated_salary` — заработная плата клиента,\n",
    "- `Churn` — ушёл или нет."
   ]
  },
  {
   "cell_type": "markdown",
   "metadata": {},
   "source": [
    "### Шаг 1. Загрузим и проведем первичный осмотр данных."
   ]
  },
  {
   "cell_type": "code",
   "execution_count": 1,
   "metadata": {},
   "outputs": [],
   "source": [
    "import pandas as pd\n",
    "import numpy as np\n",
    "import matplotlib.pyplot as plt\n",
    "import seaborn as sns\n",
    "import scipy.stats as stats"
   ]
  },
  {
   "cell_type": "code",
   "execution_count": 2,
   "metadata": {},
   "outputs": [],
   "source": [
    "df = pd.read_csv('/datasets/bank_dataset.csv')"
   ]
  },
  {
   "cell_type": "code",
   "execution_count": 3,
   "metadata": {},
   "outputs": [
    {
     "data": {
      "text/html": [
       "<div>\n",
       "<style scoped>\n",
       "    .dataframe tbody tr th:only-of-type {\n",
       "        vertical-align: middle;\n",
       "    }\n",
       "\n",
       "    .dataframe tbody tr th {\n",
       "        vertical-align: top;\n",
       "    }\n",
       "\n",
       "    .dataframe thead th {\n",
       "        text-align: right;\n",
       "    }\n",
       "</style>\n",
       "<table border=\"1\" class=\"dataframe\">\n",
       "  <thead>\n",
       "    <tr style=\"text-align: right;\">\n",
       "      <th></th>\n",
       "      <th>userid</th>\n",
       "      <th>score</th>\n",
       "      <th>City</th>\n",
       "      <th>Gender</th>\n",
       "      <th>Age</th>\n",
       "      <th>Objects</th>\n",
       "      <th>Balance</th>\n",
       "      <th>Products</th>\n",
       "      <th>CreditCard</th>\n",
       "      <th>Loyalty</th>\n",
       "      <th>estimated_salary</th>\n",
       "      <th>Churn</th>\n",
       "    </tr>\n",
       "  </thead>\n",
       "  <tbody>\n",
       "    <tr>\n",
       "      <td>0</td>\n",
       "      <td>15677338</td>\n",
       "      <td>619</td>\n",
       "      <td>Ярославль</td>\n",
       "      <td>Ж</td>\n",
       "      <td>42</td>\n",
       "      <td>2</td>\n",
       "      <td>NaN</td>\n",
       "      <td>1</td>\n",
       "      <td>1</td>\n",
       "      <td>1</td>\n",
       "      <td>101348.88</td>\n",
       "      <td>1</td>\n",
       "    </tr>\n",
       "    <tr>\n",
       "      <td>1</td>\n",
       "      <td>15690047</td>\n",
       "      <td>608</td>\n",
       "      <td>Рыбинск</td>\n",
       "      <td>Ж</td>\n",
       "      <td>41</td>\n",
       "      <td>1</td>\n",
       "      <td>83807.86</td>\n",
       "      <td>1</td>\n",
       "      <td>0</td>\n",
       "      <td>1</td>\n",
       "      <td>112542.58</td>\n",
       "      <td>0</td>\n",
       "    </tr>\n",
       "    <tr>\n",
       "      <td>2</td>\n",
       "      <td>15662040</td>\n",
       "      <td>502</td>\n",
       "      <td>Ярославль</td>\n",
       "      <td>Ж</td>\n",
       "      <td>42</td>\n",
       "      <td>8</td>\n",
       "      <td>159660.80</td>\n",
       "      <td>3</td>\n",
       "      <td>1</td>\n",
       "      <td>0</td>\n",
       "      <td>113931.57</td>\n",
       "      <td>1</td>\n",
       "    </tr>\n",
       "    <tr>\n",
       "      <td>3</td>\n",
       "      <td>15744090</td>\n",
       "      <td>699</td>\n",
       "      <td>Ярославль</td>\n",
       "      <td>Ж</td>\n",
       "      <td>39</td>\n",
       "      <td>1</td>\n",
       "      <td>NaN</td>\n",
       "      <td>2</td>\n",
       "      <td>0</td>\n",
       "      <td>0</td>\n",
       "      <td>93826.63</td>\n",
       "      <td>0</td>\n",
       "    </tr>\n",
       "    <tr>\n",
       "      <td>4</td>\n",
       "      <td>15780624</td>\n",
       "      <td>850</td>\n",
       "      <td>Рыбинск</td>\n",
       "      <td>Ж</td>\n",
       "      <td>43</td>\n",
       "      <td>2</td>\n",
       "      <td>125510.82</td>\n",
       "      <td>1</td>\n",
       "      <td>1</td>\n",
       "      <td>1</td>\n",
       "      <td>79084.10</td>\n",
       "      <td>0</td>\n",
       "    </tr>\n",
       "  </tbody>\n",
       "</table>\n",
       "</div>"
      ],
      "text/plain": [
       "     userid  score       City Gender  Age  Objects    Balance  Products  \\\n",
       "0  15677338    619  Ярославль      Ж   42        2        NaN         1   \n",
       "1  15690047    608    Рыбинск      Ж   41        1   83807.86         1   \n",
       "2  15662040    502  Ярославль      Ж   42        8  159660.80         3   \n",
       "3  15744090    699  Ярославль      Ж   39        1        NaN         2   \n",
       "4  15780624    850    Рыбинск      Ж   43        2  125510.82         1   \n",
       "\n",
       "   CreditCard  Loyalty  estimated_salary  Churn  \n",
       "0           1        1         101348.88      1  \n",
       "1           0        1         112542.58      0  \n",
       "2           1        0         113931.57      1  \n",
       "3           0        0          93826.63      0  \n",
       "4           1        1          79084.10      0  "
      ]
     },
     "execution_count": 3,
     "metadata": {},
     "output_type": "execute_result"
    }
   ],
   "source": [
    "df.head()"
   ]
  },
  {
   "cell_type": "code",
   "execution_count": 4,
   "metadata": {},
   "outputs": [
    {
     "name": "stdout",
     "output_type": "stream",
     "text": [
      "<class 'pandas.core.frame.DataFrame'>\n",
      "RangeIndex: 10000 entries, 0 to 9999\n",
      "Data columns (total 12 columns):\n",
      "userid              10000 non-null int64\n",
      "score               10000 non-null int64\n",
      "City                10000 non-null object\n",
      "Gender              10000 non-null object\n",
      "Age                 10000 non-null int64\n",
      "Objects             10000 non-null int64\n",
      "Balance             6383 non-null float64\n",
      "Products            10000 non-null int64\n",
      "CreditCard          10000 non-null int64\n",
      "Loyalty             10000 non-null int64\n",
      "estimated_salary    10000 non-null float64\n",
      "Churn               10000 non-null int64\n",
      "dtypes: float64(2), int64(8), object(2)\n",
      "memory usage: 937.6+ KB\n"
     ]
    }
   ],
   "source": [
    "df.info()"
   ]
  },
  {
   "cell_type": "code",
   "execution_count": 5,
   "metadata": {},
   "outputs": [
    {
     "data": {
      "text/plain": [
       "(10000, 12)"
      ]
     },
     "execution_count": 5,
     "metadata": {},
     "output_type": "execute_result"
    }
   ],
   "source": [
    "df.shape"
   ]
  },
  {
   "cell_type": "code",
   "execution_count": 6,
   "metadata": {},
   "outputs": [
    {
     "data": {
      "text/plain": [
       "Index(['userid', 'score', 'City', 'Gender', 'Age', 'Objects', 'Balance',\n",
       "       'Products', 'CreditCard', 'Loyalty', 'estimated_salary', 'Churn'],\n",
       "      dtype='object')"
      ]
     },
     "execution_count": 6,
     "metadata": {},
     "output_type": "execute_result"
    }
   ],
   "source": [
    "df.columns"
   ]
  },
  {
   "cell_type": "code",
   "execution_count": 7,
   "metadata": {},
   "outputs": [
    {
     "data": {
      "text/plain": [
       "0"
      ]
     },
     "execution_count": 7,
     "metadata": {},
     "output_type": "execute_result"
    }
   ],
   "source": [
    "df.duplicated().sum()"
   ]
  },
  {
   "cell_type": "code",
   "execution_count": 8,
   "metadata": {},
   "outputs": [
    {
     "data": {
      "text/plain": [
       "10000"
      ]
     },
     "execution_count": 8,
     "metadata": {},
     "output_type": "execute_result"
    }
   ],
   "source": [
    "df['userid'].nunique()"
   ]
  },
  {
   "cell_type": "code",
   "execution_count": 9,
   "metadata": {},
   "outputs": [
    {
     "data": {
      "text/plain": [
       "userid                 0\n",
       "score                  0\n",
       "City                   0\n",
       "Gender                 0\n",
       "Age                    0\n",
       "Objects                0\n",
       "Balance             3617\n",
       "Products               0\n",
       "CreditCard             0\n",
       "Loyalty                0\n",
       "estimated_salary       0\n",
       "Churn                  0\n",
       "dtype: int64"
      ]
     },
     "execution_count": 9,
     "metadata": {},
     "output_type": "execute_result"
    }
   ],
   "source": [
    "df.isnull().sum()"
   ]
  },
  {
   "cell_type": "markdown",
   "metadata": {},
   "source": [
    "**Вывод:** Импортировали дасет, состящий из 10000 уникальных строк и 12 столбцов. Баланс и заработная плата имеют тип float, разный регистр в названиях столбцов, дубликаты отсутствуют, имеются пропуски в столбце баланса."
   ]
  },
  {
   "cell_type": "markdown",
   "metadata": {},
   "source": [
    "### Шаг. 2  Проведение исследовательского анализа данных (EDA)"
   ]
  },
  {
   "cell_type": "markdown",
   "metadata": {},
   "source": [
    "#### Предобработка данных:"
   ]
  },
  {
   "cell_type": "markdown",
   "metadata": {},
   "source": [
    "- Приведем к нижнему регистру названия столбцов."
   ]
  },
  {
   "cell_type": "code",
   "execution_count": 10,
   "metadata": {},
   "outputs": [],
   "source": [
    "df.set_axis(df.columns.str.lower(), axis='columns', inplace=True)"
   ]
  },
  {
   "cell_type": "code",
   "execution_count": 11,
   "metadata": {},
   "outputs": [
    {
     "data": {
      "text/plain": [
       "Index(['userid', 'score', 'city', 'gender', 'age', 'objects', 'balance',\n",
       "       'products', 'creditcard', 'loyalty', 'estimated_salary', 'churn'],\n",
       "      dtype='object')"
      ]
     },
     "execution_count": 11,
     "metadata": {},
     "output_type": "execute_result"
    }
   ],
   "source": [
    "df.columns"
   ]
  },
  {
   "cell_type": "markdown",
   "metadata": {},
   "source": [
    "- Замена пропусков"
   ]
  },
  {
   "cell_type": "markdown",
   "metadata": {},
   "source": [
    "В стоблце Баланс у нас имеет 36% пропущенных значений, для решения поиска данных необходимо обратиться к администратору базы. Поскольку у нас нет такой возможности, а под NaN может быть как любое число так и не заполненные данные. В связи с этим, принято решение оставить данные как есть."
   ]
  },
  {
   "cell_type": "markdown",
   "metadata": {},
   "source": [
    " - Приведем данные в целочисленный формат."
   ]
  },
  {
   "cell_type": "code",
   "execution_count": 12,
   "metadata": {},
   "outputs": [],
   "source": [
    "df['estimated_salary'] = df['estimated_salary'].astype('int')"
   ]
  },
  {
   "cell_type": "code",
   "execution_count": 13,
   "metadata": {},
   "outputs": [
    {
     "name": "stdout",
     "output_type": "stream",
     "text": [
      "<class 'pandas.core.frame.DataFrame'>\n",
      "RangeIndex: 10000 entries, 0 to 9999\n",
      "Data columns (total 12 columns):\n",
      "userid              10000 non-null int64\n",
      "score               10000 non-null int64\n",
      "city                10000 non-null object\n",
      "gender              10000 non-null object\n",
      "age                 10000 non-null int64\n",
      "objects             10000 non-null int64\n",
      "balance             6383 non-null float64\n",
      "products            10000 non-null int64\n",
      "creditcard          10000 non-null int64\n",
      "loyalty             10000 non-null int64\n",
      "estimated_salary    10000 non-null int64\n",
      "churn               10000 non-null int64\n",
      "dtypes: float64(1), int64(9), object(2)\n",
      "memory usage: 937.6+ KB\n"
     ]
    }
   ],
   "source": [
    "df.info()"
   ]
  },
  {
   "cell_type": "markdown",
   "metadata": {},
   "source": [
    "**Вывод:** Привели названия столбцов к нижнему регистру, пропуски в стобце баланса, оставили без изменений(необходимо обратиться к администратору базы данных), данные в столбце заработная плата перевели в целочисленный формат. "
   ]
  },
  {
   "cell_type": "markdown",
   "metadata": {},
   "source": [
    "#### Изучим средние значения"
   ]
  },
  {
   "cell_type": "code",
   "execution_count": 14,
   "metadata": {},
   "outputs": [
    {
     "data": {
      "text/html": [
       "<div>\n",
       "<style scoped>\n",
       "    .dataframe tbody tr th:only-of-type {\n",
       "        vertical-align: middle;\n",
       "    }\n",
       "\n",
       "    .dataframe tbody tr th {\n",
       "        vertical-align: top;\n",
       "    }\n",
       "\n",
       "    .dataframe thead th {\n",
       "        text-align: right;\n",
       "    }\n",
       "</style>\n",
       "<table border=\"1\" class=\"dataframe\">\n",
       "  <thead>\n",
       "    <tr style=\"text-align: right;\">\n",
       "      <th></th>\n",
       "      <th>userid</th>\n",
       "      <th>score</th>\n",
       "      <th>age</th>\n",
       "      <th>objects</th>\n",
       "      <th>balance</th>\n",
       "      <th>products</th>\n",
       "      <th>creditcard</th>\n",
       "      <th>loyalty</th>\n",
       "      <th>estimated_salary</th>\n",
       "      <th>churn</th>\n",
       "    </tr>\n",
       "  </thead>\n",
       "  <tbody>\n",
       "    <tr>\n",
       "      <td>count</td>\n",
       "      <td>1.000000e+04</td>\n",
       "      <td>10000.000000</td>\n",
       "      <td>10000.000000</td>\n",
       "      <td>10000.000000</td>\n",
       "      <td>6383.000000</td>\n",
       "      <td>10000.000000</td>\n",
       "      <td>10000.00000</td>\n",
       "      <td>10000.000000</td>\n",
       "      <td>10000.000000</td>\n",
       "      <td>10000.000000</td>\n",
       "    </tr>\n",
       "    <tr>\n",
       "      <td>mean</td>\n",
       "      <td>1.573368e+07</td>\n",
       "      <td>650.528800</td>\n",
       "      <td>38.921800</td>\n",
       "      <td>5.012800</td>\n",
       "      <td>119827.493793</td>\n",
       "      <td>1.530200</td>\n",
       "      <td>0.70550</td>\n",
       "      <td>0.515100</td>\n",
       "      <td>100089.748400</td>\n",
       "      <td>0.203700</td>\n",
       "    </tr>\n",
       "    <tr>\n",
       "      <td>std</td>\n",
       "      <td>7.193619e+04</td>\n",
       "      <td>96.653299</td>\n",
       "      <td>10.487806</td>\n",
       "      <td>2.892174</td>\n",
       "      <td>30095.056462</td>\n",
       "      <td>0.581654</td>\n",
       "      <td>0.45584</td>\n",
       "      <td>0.499797</td>\n",
       "      <td>57510.491042</td>\n",
       "      <td>0.402769</td>\n",
       "    </tr>\n",
       "    <tr>\n",
       "      <td>min</td>\n",
       "      <td>1.560844e+07</td>\n",
       "      <td>350.000000</td>\n",
       "      <td>18.000000</td>\n",
       "      <td>0.000000</td>\n",
       "      <td>3768.690000</td>\n",
       "      <td>1.000000</td>\n",
       "      <td>0.00000</td>\n",
       "      <td>0.000000</td>\n",
       "      <td>11.000000</td>\n",
       "      <td>0.000000</td>\n",
       "    </tr>\n",
       "    <tr>\n",
       "      <td>25%</td>\n",
       "      <td>1.567126e+07</td>\n",
       "      <td>584.000000</td>\n",
       "      <td>32.000000</td>\n",
       "      <td>3.000000</td>\n",
       "      <td>100181.975000</td>\n",
       "      <td>1.000000</td>\n",
       "      <td>0.00000</td>\n",
       "      <td>0.000000</td>\n",
       "      <td>51001.750000</td>\n",
       "      <td>0.000000</td>\n",
       "    </tr>\n",
       "    <tr>\n",
       "      <td>50%</td>\n",
       "      <td>1.573347e+07</td>\n",
       "      <td>652.000000</td>\n",
       "      <td>37.000000</td>\n",
       "      <td>5.000000</td>\n",
       "      <td>119839.690000</td>\n",
       "      <td>1.000000</td>\n",
       "      <td>1.00000</td>\n",
       "      <td>1.000000</td>\n",
       "      <td>100193.500000</td>\n",
       "      <td>0.000000</td>\n",
       "    </tr>\n",
       "    <tr>\n",
       "      <td>75%</td>\n",
       "      <td>1.579597e+07</td>\n",
       "      <td>718.000000</td>\n",
       "      <td>44.000000</td>\n",
       "      <td>7.000000</td>\n",
       "      <td>139512.290000</td>\n",
       "      <td>2.000000</td>\n",
       "      <td>1.00000</td>\n",
       "      <td>1.000000</td>\n",
       "      <td>149387.750000</td>\n",
       "      <td>0.000000</td>\n",
       "    </tr>\n",
       "    <tr>\n",
       "      <td>max</td>\n",
       "      <td>1.585843e+07</td>\n",
       "      <td>850.000000</td>\n",
       "      <td>92.000000</td>\n",
       "      <td>10.000000</td>\n",
       "      <td>250898.090000</td>\n",
       "      <td>4.000000</td>\n",
       "      <td>1.00000</td>\n",
       "      <td>1.000000</td>\n",
       "      <td>199992.000000</td>\n",
       "      <td>1.000000</td>\n",
       "    </tr>\n",
       "  </tbody>\n",
       "</table>\n",
       "</div>"
      ],
      "text/plain": [
       "             userid         score           age       objects        balance  \\\n",
       "count  1.000000e+04  10000.000000  10000.000000  10000.000000    6383.000000   \n",
       "mean   1.573368e+07    650.528800     38.921800      5.012800  119827.493793   \n",
       "std    7.193619e+04     96.653299     10.487806      2.892174   30095.056462   \n",
       "min    1.560844e+07    350.000000     18.000000      0.000000    3768.690000   \n",
       "25%    1.567126e+07    584.000000     32.000000      3.000000  100181.975000   \n",
       "50%    1.573347e+07    652.000000     37.000000      5.000000  119839.690000   \n",
       "75%    1.579597e+07    718.000000     44.000000      7.000000  139512.290000   \n",
       "max    1.585843e+07    850.000000     92.000000     10.000000  250898.090000   \n",
       "\n",
       "           products   creditcard       loyalty  estimated_salary         churn  \n",
       "count  10000.000000  10000.00000  10000.000000      10000.000000  10000.000000  \n",
       "mean       1.530200      0.70550      0.515100     100089.748400      0.203700  \n",
       "std        0.581654      0.45584      0.499797      57510.491042      0.402769  \n",
       "min        1.000000      0.00000      0.000000         11.000000      0.000000  \n",
       "25%        1.000000      0.00000      0.000000      51001.750000      0.000000  \n",
       "50%        1.000000      1.00000      1.000000     100193.500000      0.000000  \n",
       "75%        2.000000      1.00000      1.000000     149387.750000      0.000000  \n",
       "max        4.000000      1.00000      1.000000     199992.000000      1.000000  "
      ]
     },
     "execution_count": 14,
     "metadata": {},
     "output_type": "execute_result"
    }
   ],
   "source": [
    "df.describe()"
   ]
  },
  {
   "cell_type": "markdown",
   "metadata": {},
   "source": [
    "**Вывод:** Портрет среднестатистического клиента: средний кредитный рейтинг 650, средний возраст 39 лет со средней заработной платой 100000 и балансом на счету 120000. Доля ушедших клиентов равняется 20,37 %. "
   ]
  },
  {
   "cell_type": "markdown",
   "metadata": {},
   "source": [
    "Посмотрим работников с зарплатой 11 рублей, отсортируем таблицу по столбцу зараборной платы."
   ]
  },
  {
   "cell_type": "code",
   "execution_count": 15,
   "metadata": {},
   "outputs": [
    {
     "data": {
      "text/html": [
       "<div>\n",
       "<style scoped>\n",
       "    .dataframe tbody tr th:only-of-type {\n",
       "        vertical-align: middle;\n",
       "    }\n",
       "\n",
       "    .dataframe tbody tr th {\n",
       "        vertical-align: top;\n",
       "    }\n",
       "\n",
       "    .dataframe thead th {\n",
       "        text-align: right;\n",
       "    }\n",
       "</style>\n",
       "<table border=\"1\" class=\"dataframe\">\n",
       "  <thead>\n",
       "    <tr style=\"text-align: right;\">\n",
       "      <th></th>\n",
       "      <th>userid</th>\n",
       "      <th>score</th>\n",
       "      <th>city</th>\n",
       "      <th>gender</th>\n",
       "      <th>age</th>\n",
       "      <th>objects</th>\n",
       "      <th>balance</th>\n",
       "      <th>products</th>\n",
       "      <th>creditcard</th>\n",
       "      <th>loyalty</th>\n",
       "      <th>estimated_salary</th>\n",
       "      <th>churn</th>\n",
       "    </tr>\n",
       "  </thead>\n",
       "  <tbody>\n",
       "    <tr>\n",
       "      <td>2362</td>\n",
       "      <td>15833789</td>\n",
       "      <td>709</td>\n",
       "      <td>Ростов Великий</td>\n",
       "      <td>М</td>\n",
       "      <td>45</td>\n",
       "      <td>4</td>\n",
       "      <td>122917.71</td>\n",
       "      <td>1</td>\n",
       "      <td>1</td>\n",
       "      <td>1</td>\n",
       "      <td>11</td>\n",
       "      <td>1</td>\n",
       "    </tr>\n",
       "    <tr>\n",
       "      <td>9647</td>\n",
       "      <td>15722429</td>\n",
       "      <td>625</td>\n",
       "      <td>Ярославль</td>\n",
       "      <td>М</td>\n",
       "      <td>31</td>\n",
       "      <td>5</td>\n",
       "      <td>NaN</td>\n",
       "      <td>2</td>\n",
       "      <td>0</td>\n",
       "      <td>1</td>\n",
       "      <td>90</td>\n",
       "      <td>0</td>\n",
       "    </tr>\n",
       "    <tr>\n",
       "      <td>9010</td>\n",
       "      <td>15829199</td>\n",
       "      <td>645</td>\n",
       "      <td>Ростов Великий</td>\n",
       "      <td>Ж</td>\n",
       "      <td>59</td>\n",
       "      <td>8</td>\n",
       "      <td>121669.93</td>\n",
       "      <td>2</td>\n",
       "      <td>0</td>\n",
       "      <td>0</td>\n",
       "      <td>91</td>\n",
       "      <td>1</td>\n",
       "    </tr>\n",
       "    <tr>\n",
       "      <td>5548</td>\n",
       "      <td>15682398</td>\n",
       "      <td>710</td>\n",
       "      <td>Ярославль</td>\n",
       "      <td>М</td>\n",
       "      <td>38</td>\n",
       "      <td>2</td>\n",
       "      <td>NaN</td>\n",
       "      <td>2</td>\n",
       "      <td>1</td>\n",
       "      <td>0</td>\n",
       "      <td>96</td>\n",
       "      <td>0</td>\n",
       "    </tr>\n",
       "    <tr>\n",
       "      <td>4989</td>\n",
       "      <td>15645587</td>\n",
       "      <td>629</td>\n",
       "      <td>Ярославль</td>\n",
       "      <td>М</td>\n",
       "      <td>40</td>\n",
       "      <td>9</td>\n",
       "      <td>NaN</td>\n",
       "      <td>1</td>\n",
       "      <td>1</td>\n",
       "      <td>0</td>\n",
       "      <td>106</td>\n",
       "      <td>0</td>\n",
       "    </tr>\n",
       "  </tbody>\n",
       "</table>\n",
       "</div>"
      ],
      "text/plain": [
       "        userid  score            city gender  age  objects    balance  \\\n",
       "2362  15833789    709  Ростов Великий      М   45        4  122917.71   \n",
       "9647  15722429    625       Ярославль      М   31        5        NaN   \n",
       "9010  15829199    645  Ростов Великий      Ж   59        8  121669.93   \n",
       "5548  15682398    710       Ярославль      М   38        2        NaN   \n",
       "4989  15645587    629       Ярославль      М   40        9        NaN   \n",
       "\n",
       "      products  creditcard  loyalty  estimated_salary  churn  \n",
       "2362         1           1        1                11      1  \n",
       "9647         2           0        1                90      0  \n",
       "9010         2           0        0                91      1  \n",
       "5548         2           1        0                96      0  \n",
       "4989         1           1        0               106      0  "
      ]
     },
     "execution_count": 15,
     "metadata": {},
     "output_type": "execute_result"
    }
   ],
   "source": [
    "df.sort_values(by='estimated_salary').head()"
   ]
  },
  {
   "cell_type": "markdown",
   "metadata": {},
   "source": [
    "Следует предположить, что строка зарабоная плата это ни как таковая заработная, а поступления различных средств с разных источников на счета клиентов, возможно даже переводы самому себе с другого банка, а также остатки.  "
   ]
  },
  {
   "cell_type": "markdown",
   "metadata": {},
   "source": [
    "Посмотрим средние значения данных у оставшихся и ушедших."
   ]
  },
  {
   "cell_type": "code",
   "execution_count": 16,
   "metadata": {},
   "outputs": [],
   "source": [
    "df_leave_stay = df.groupby('churn').mean()\n",
    "df_leave_stay = df_leave_stay.drop(columns = 'userid')"
   ]
  },
  {
   "cell_type": "code",
   "execution_count": 17,
   "metadata": {},
   "outputs": [
    {
     "data": {
      "text/html": [
       "<style  type=\"text/css\" >\n",
       "</style><table id=\"T_38453666_0d77_11ec_96f1_02420a392433\" ><caption>Средние значения признаков по группам, тех кто ушел 1, тех кто остался 0</caption><thead>    <tr>        <th class=\"index_name level0\" >churn</th>        <th class=\"col_heading level0 col0\" >0</th>        <th class=\"col_heading level0 col1\" >1</th>    </tr></thead><tbody>\n",
       "                <tr>\n",
       "                        <th id=\"T_38453666_0d77_11ec_96f1_02420a392433level0_row0\" class=\"row_heading level0 row0\" >score</th>\n",
       "                        <td id=\"T_38453666_0d77_11ec_96f1_02420a392433row0_col0\" class=\"data row0 col0\" >651.85</td>\n",
       "                        <td id=\"T_38453666_0d77_11ec_96f1_02420a392433row0_col1\" class=\"data row0 col1\" >645.35</td>\n",
       "            </tr>\n",
       "            <tr>\n",
       "                        <th id=\"T_38453666_0d77_11ec_96f1_02420a392433level0_row1\" class=\"row_heading level0 row1\" >age</th>\n",
       "                        <td id=\"T_38453666_0d77_11ec_96f1_02420a392433row1_col0\" class=\"data row1 col0\" >37.41</td>\n",
       "                        <td id=\"T_38453666_0d77_11ec_96f1_02420a392433row1_col1\" class=\"data row1 col1\" >44.84</td>\n",
       "            </tr>\n",
       "            <tr>\n",
       "                        <th id=\"T_38453666_0d77_11ec_96f1_02420a392433level0_row2\" class=\"row_heading level0 row2\" >objects</th>\n",
       "                        <td id=\"T_38453666_0d77_11ec_96f1_02420a392433row2_col0\" class=\"data row2 col0\" >5.03</td>\n",
       "                        <td id=\"T_38453666_0d77_11ec_96f1_02420a392433row2_col1\" class=\"data row2 col1\" >4.93</td>\n",
       "            </tr>\n",
       "            <tr>\n",
       "                        <th id=\"T_38453666_0d77_11ec_96f1_02420a392433level0_row3\" class=\"row_heading level0 row3\" >balance</th>\n",
       "                        <td id=\"T_38453666_0d77_11ec_96f1_02420a392433row3_col0\" class=\"data row3 col0\" >119,535.86</td>\n",
       "                        <td id=\"T_38453666_0d77_11ec_96f1_02420a392433row3_col1\" class=\"data row3 col1\" >120,746.97</td>\n",
       "            </tr>\n",
       "            <tr>\n",
       "                        <th id=\"T_38453666_0d77_11ec_96f1_02420a392433level0_row4\" class=\"row_heading level0 row4\" >products</th>\n",
       "                        <td id=\"T_38453666_0d77_11ec_96f1_02420a392433row4_col0\" class=\"data row4 col0\" >1.54</td>\n",
       "                        <td id=\"T_38453666_0d77_11ec_96f1_02420a392433row4_col1\" class=\"data row4 col1\" >1.48</td>\n",
       "            </tr>\n",
       "            <tr>\n",
       "                        <th id=\"T_38453666_0d77_11ec_96f1_02420a392433level0_row5\" class=\"row_heading level0 row5\" >creditcard</th>\n",
       "                        <td id=\"T_38453666_0d77_11ec_96f1_02420a392433row5_col0\" class=\"data row5 col0\" >0.71</td>\n",
       "                        <td id=\"T_38453666_0d77_11ec_96f1_02420a392433row5_col1\" class=\"data row5 col1\" >0.70</td>\n",
       "            </tr>\n",
       "            <tr>\n",
       "                        <th id=\"T_38453666_0d77_11ec_96f1_02420a392433level0_row6\" class=\"row_heading level0 row6\" >loyalty</th>\n",
       "                        <td id=\"T_38453666_0d77_11ec_96f1_02420a392433row6_col0\" class=\"data row6 col0\" >0.55</td>\n",
       "                        <td id=\"T_38453666_0d77_11ec_96f1_02420a392433row6_col1\" class=\"data row6 col1\" >0.36</td>\n",
       "            </tr>\n",
       "            <tr>\n",
       "                        <th id=\"T_38453666_0d77_11ec_96f1_02420a392433level0_row7\" class=\"row_heading level0 row7\" >estimated_salary</th>\n",
       "                        <td id=\"T_38453666_0d77_11ec_96f1_02420a392433row7_col0\" class=\"data row7 col0\" >99,737.90</td>\n",
       "                        <td id=\"T_38453666_0d77_11ec_96f1_02420a392433row7_col1\" class=\"data row7 col1\" >101,465.18</td>\n",
       "            </tr>\n",
       "    </tbody></table>"
      ],
      "text/plain": [
       "<pandas.io.formats.style.Styler at 0x7f85605da550>"
      ]
     },
     "execution_count": 17,
     "metadata": {},
     "output_type": "execute_result"
    }
   ],
   "source": [
    "df_leave_stay.T.style.format('{:,.2f}').set_caption('Средние значения признаков по группам, тех кто ушел 1, тех кто остался 0')"
   ]
  },
  {
   "cell_type": "markdown",
   "metadata": {},
   "source": [
    "**Вывод:** Критических измений средних значений не наблюдаем, в основном все значения имеют небольшое отличие, наиболее отличны возраст: уходят примерно 45 летние наименее активные клиенты, а остаются 37 летние и активные клиенты."
   ]
  },
  {
   "cell_type": "markdown",
   "metadata": {},
   "source": [
    "#### Посчитаем количество оставшихся и ушедших клиентов"
   ]
  },
  {
   "cell_type": "code",
   "execution_count": 18,
   "metadata": {},
   "outputs": [
    {
     "data": {
      "text/plain": [
       "0    7963\n",
       "1    2037\n",
       "Name: churn, dtype: int64"
      ]
     },
     "execution_count": 18,
     "metadata": {},
     "output_type": "execute_result"
    }
   ],
   "source": [
    "df.churn.value_counts()"
   ]
  },
  {
   "cell_type": "markdown",
   "metadata": {},
   "source": [
    "**Вывод:** Количество оставшихся клиентов **7963**, количество ушедших **2037**."
   ]
  },
  {
   "cell_type": "markdown",
   "metadata": {},
   "source": [
    "#### Сколько клиентов в каких городах проживает?"
   ]
  },
  {
   "cell_type": "code",
   "execution_count": 19,
   "metadata": {},
   "outputs": [
    {
     "data": {
      "text/plain": [
       "Ярославль         5014\n",
       "Ростов Великий    2509\n",
       "Рыбинск           2477\n",
       "Name: city, dtype: int64"
      ]
     },
     "execution_count": 19,
     "metadata": {},
     "output_type": "execute_result"
    }
   ],
   "source": [
    "df['city'].value_counts()"
   ]
  },
  {
   "cell_type": "markdown",
   "metadata": {},
   "source": [
    "**Вывод:** В Ярославле больше всего клиентов, в Ростове великом и Рыбинке почти сопоставимы."
   ]
  },
  {
   "cell_type": "markdown",
   "metadata": {},
   "source": [
    "#### Построим столбчатые диаграммы для тех кто ушел и тех кто остался"
   ]
  },
  {
   "cell_type": "markdown",
   "metadata": {},
   "source": [
    "Напишем функцию для рассчета данных и построения гистограмм. Для начала категоризуем данные по баллам кредитного скоринга, возрасту, балансу и заработной плате, воспользуемся квантилями."
   ]
  },
  {
   "cell_type": "code",
   "execution_count": 20,
   "metadata": {},
   "outputs": [
    {
     "data": {
      "text/plain": [
       "0.25    584.0\n",
       "0.50    652.0\n",
       "0.75    718.0\n",
       "Name: score, dtype: float64"
      ]
     },
     "execution_count": 20,
     "metadata": {},
     "output_type": "execute_result"
    }
   ],
   "source": [
    "# выберем квантили\n",
    "df['score'].quantile([0.25,0.5,0.75])  "
   ]
  },
  {
   "cell_type": "code",
   "execution_count": 21,
   "metadata": {},
   "outputs": [
    {
     "name": "stdout",
     "output_type": "stream",
     "text": [
      "по 584\n",
      "по 584      2534\n",
      "по 718      2502\n",
      "по 652      2501\n",
      "выше 719    2463\n",
      "Name: score_level, dtype: int64\n"
     ]
    }
   ],
   "source": [
    "# напишем функцию для перебора и присвоения соответствуещего значения в новом столбце, который добавляем в таблицу\n",
    "def score_level(score):\n",
    "    if score <= 584:\n",
    "        return 'по 584'\n",
    "    if score <= 652:\n",
    "        return 'по 652'\n",
    "    if score <= 718:\n",
    "        return 'по 718'\n",
    "    return 'выше 719'\n",
    "print(score_level(525))\n",
    "df['score_level'] = df['score'].apply(score_level)   \n",
    "print(df['score_level'].value_counts()) "
   ]
  },
  {
   "cell_type": "code",
   "execution_count": 22,
   "metadata": {},
   "outputs": [
    {
     "data": {
      "text/plain": [
       "0.25    32.0\n",
       "0.50    37.0\n",
       "0.75    44.0\n",
       "Name: age, dtype: float64"
      ]
     },
     "execution_count": 22,
     "metadata": {},
     "output_type": "execute_result"
    }
   ],
   "source": [
    "df['age'].quantile([0.25,0.5,0.75])"
   ]
  },
  {
   "cell_type": "code",
   "execution_count": 23,
   "metadata": {},
   "outputs": [
    {
     "name": "stdout",
     "output_type": "stream",
     "text": [
      "выше 45\n",
      "по 32      2790\n",
      "по 44      2573\n",
      "выше 45    2340\n",
      "по 37      2297\n",
      "Name: age_level, dtype: int64\n"
     ]
    }
   ],
   "source": [
    "def age_level(age):\n",
    "    if age <= 32:\n",
    "        return 'по 32'\n",
    "    if age <= 37:\n",
    "        return 'по 37'\n",
    "    if age <= 44:\n",
    "        return 'по 44'\n",
    "    return 'выше 45'\n",
    "print(age_level(52))\n",
    "df['age_level'] = df['age'].apply(age_level)   \n",
    "print(df['age_level'].value_counts()) "
   ]
  },
  {
   "cell_type": "code",
   "execution_count": 24,
   "metadata": {},
   "outputs": [
    {
     "data": {
      "text/plain": [
       "0.25    100181.975\n",
       "0.50    119839.690\n",
       "0.75    139512.290\n",
       "Name: balance, dtype: float64"
      ]
     },
     "execution_count": 24,
     "metadata": {},
     "output_type": "execute_result"
    }
   ],
   "source": [
    "df['balance'].quantile([0.25,0.5,0.75])"
   ]
  },
  {
   "cell_type": "code",
   "execution_count": 25,
   "metadata": {},
   "outputs": [
    {
     "name": "stdout",
     "output_type": "stream",
     "text": [
      "по 100182\n",
      "выше 139513    5213\n",
      "по 119840      1596\n",
      "по 100182      1596\n",
      "по 139512      1595\n",
      "Name: balance_level, dtype: int64\n"
     ]
    }
   ],
   "source": [
    "def balance_level(balance):\n",
    "    if balance <= 100182:\n",
    "        return 'по 100182'\n",
    "    if balance <= 119840:\n",
    "        return 'по 119840'\n",
    "    if balance <= 139512:\n",
    "        return 'по 139512'\n",
    "    return 'выше 139513'\n",
    "print(balance_level(52))\n",
    "df['balance_level'] = df['balance'].apply(balance_level)   \n",
    "print(df['balance_level'].value_counts())"
   ]
  },
  {
   "cell_type": "code",
   "execution_count": 26,
   "metadata": {},
   "outputs": [
    {
     "data": {
      "text/plain": [
       "0.25     51001.75\n",
       "0.50    100193.50\n",
       "0.75    149387.75\n",
       "Name: estimated_salary, dtype: float64"
      ]
     },
     "execution_count": 26,
     "metadata": {},
     "output_type": "execute_result"
    }
   ],
   "source": [
    "df['estimated_salary'].quantile([0.25,0.5,0.75])"
   ]
  },
  {
   "cell_type": "code",
   "execution_count": 27,
   "metadata": {},
   "outputs": [
    {
     "name": "stdout",
     "output_type": "stream",
     "text": [
      "по 149388\n",
      "по 100194      2500\n",
      "по 149388      2500\n",
      "выше 149389    2500\n",
      "по 51002       2500\n",
      "Name: salary_level, dtype: int64\n"
     ]
    }
   ],
   "source": [
    "def salary_level(estimated_salary):\n",
    "    if estimated_salary <= 51002:\n",
    "        return 'по 51002'\n",
    "    if estimated_salary <= 100194:\n",
    "        return 'по 100194'\n",
    "    if estimated_salary <= 149388:\n",
    "        return 'по 149388'\n",
    "    return 'выше 149389'\n",
    "print(salary_level(105352))\n",
    "df['salary_level'] = df['estimated_salary'].apply(salary_level)   \n",
    "print(df['salary_level'].value_counts())"
   ]
  },
  {
   "cell_type": "code",
   "execution_count": 28,
   "metadata": {},
   "outputs": [
    {
     "data": {
      "text/html": [
       "<div>\n",
       "<style scoped>\n",
       "    .dataframe tbody tr th:only-of-type {\n",
       "        vertical-align: middle;\n",
       "    }\n",
       "\n",
       "    .dataframe tbody tr th {\n",
       "        vertical-align: top;\n",
       "    }\n",
       "\n",
       "    .dataframe thead th {\n",
       "        text-align: right;\n",
       "    }\n",
       "</style>\n",
       "<table border=\"1\" class=\"dataframe\">\n",
       "  <thead>\n",
       "    <tr style=\"text-align: right;\">\n",
       "      <th></th>\n",
       "      <th>userid</th>\n",
       "      <th>score</th>\n",
       "      <th>city</th>\n",
       "      <th>gender</th>\n",
       "      <th>age</th>\n",
       "      <th>objects</th>\n",
       "      <th>balance</th>\n",
       "      <th>products</th>\n",
       "      <th>creditcard</th>\n",
       "      <th>loyalty</th>\n",
       "      <th>estimated_salary</th>\n",
       "      <th>churn</th>\n",
       "      <th>score_level</th>\n",
       "      <th>age_level</th>\n",
       "      <th>balance_level</th>\n",
       "      <th>salary_level</th>\n",
       "    </tr>\n",
       "  </thead>\n",
       "  <tbody>\n",
       "    <tr>\n",
       "      <td>0</td>\n",
       "      <td>15677338</td>\n",
       "      <td>619</td>\n",
       "      <td>Ярославль</td>\n",
       "      <td>Ж</td>\n",
       "      <td>42</td>\n",
       "      <td>2</td>\n",
       "      <td>NaN</td>\n",
       "      <td>1</td>\n",
       "      <td>1</td>\n",
       "      <td>1</td>\n",
       "      <td>101348</td>\n",
       "      <td>1</td>\n",
       "      <td>по 652</td>\n",
       "      <td>по 44</td>\n",
       "      <td>выше 139513</td>\n",
       "      <td>по 149388</td>\n",
       "    </tr>\n",
       "    <tr>\n",
       "      <td>1</td>\n",
       "      <td>15690047</td>\n",
       "      <td>608</td>\n",
       "      <td>Рыбинск</td>\n",
       "      <td>Ж</td>\n",
       "      <td>41</td>\n",
       "      <td>1</td>\n",
       "      <td>83807.86</td>\n",
       "      <td>1</td>\n",
       "      <td>0</td>\n",
       "      <td>1</td>\n",
       "      <td>112542</td>\n",
       "      <td>0</td>\n",
       "      <td>по 652</td>\n",
       "      <td>по 44</td>\n",
       "      <td>по 100182</td>\n",
       "      <td>по 149388</td>\n",
       "    </tr>\n",
       "    <tr>\n",
       "      <td>2</td>\n",
       "      <td>15662040</td>\n",
       "      <td>502</td>\n",
       "      <td>Ярославль</td>\n",
       "      <td>Ж</td>\n",
       "      <td>42</td>\n",
       "      <td>8</td>\n",
       "      <td>159660.80</td>\n",
       "      <td>3</td>\n",
       "      <td>1</td>\n",
       "      <td>0</td>\n",
       "      <td>113931</td>\n",
       "      <td>1</td>\n",
       "      <td>по 584</td>\n",
       "      <td>по 44</td>\n",
       "      <td>выше 139513</td>\n",
       "      <td>по 149388</td>\n",
       "    </tr>\n",
       "    <tr>\n",
       "      <td>3</td>\n",
       "      <td>15744090</td>\n",
       "      <td>699</td>\n",
       "      <td>Ярославль</td>\n",
       "      <td>Ж</td>\n",
       "      <td>39</td>\n",
       "      <td>1</td>\n",
       "      <td>NaN</td>\n",
       "      <td>2</td>\n",
       "      <td>0</td>\n",
       "      <td>0</td>\n",
       "      <td>93826</td>\n",
       "      <td>0</td>\n",
       "      <td>по 718</td>\n",
       "      <td>по 44</td>\n",
       "      <td>выше 139513</td>\n",
       "      <td>по 100194</td>\n",
       "    </tr>\n",
       "    <tr>\n",
       "      <td>4</td>\n",
       "      <td>15780624</td>\n",
       "      <td>850</td>\n",
       "      <td>Рыбинск</td>\n",
       "      <td>Ж</td>\n",
       "      <td>43</td>\n",
       "      <td>2</td>\n",
       "      <td>125510.82</td>\n",
       "      <td>1</td>\n",
       "      <td>1</td>\n",
       "      <td>1</td>\n",
       "      <td>79084</td>\n",
       "      <td>0</td>\n",
       "      <td>выше 719</td>\n",
       "      <td>по 44</td>\n",
       "      <td>по 139512</td>\n",
       "      <td>по 100194</td>\n",
       "    </tr>\n",
       "  </tbody>\n",
       "</table>\n",
       "</div>"
      ],
      "text/plain": [
       "     userid  score       city gender  age  objects    balance  products  \\\n",
       "0  15677338    619  Ярославль      Ж   42        2        NaN         1   \n",
       "1  15690047    608    Рыбинск      Ж   41        1   83807.86         1   \n",
       "2  15662040    502  Ярославль      Ж   42        8  159660.80         3   \n",
       "3  15744090    699  Ярославль      Ж   39        1        NaN         2   \n",
       "4  15780624    850    Рыбинск      Ж   43        2  125510.82         1   \n",
       "\n",
       "   creditcard  loyalty  estimated_salary  churn score_level age_level  \\\n",
       "0           1        1            101348      1      по 652     по 44   \n",
       "1           0        1            112542      0      по 652     по 44   \n",
       "2           1        0            113931      1      по 584     по 44   \n",
       "3           0        0             93826      0      по 718     по 44   \n",
       "4           1        1             79084      0    выше 719     по 44   \n",
       "\n",
       "  balance_level salary_level  \n",
       "0   выше 139513    по 149388  \n",
       "1     по 100182    по 149388  \n",
       "2   выше 139513    по 149388  \n",
       "3   выше 139513    по 100194  \n",
       "4     по 139512    по 100194  "
      ]
     },
     "execution_count": 28,
     "metadata": {},
     "output_type": "execute_result"
    }
   ],
   "source": [
    "df.head()"
   ]
  },
  {
   "cell_type": "markdown",
   "metadata": {},
   "source": [
    "Данные категоризированны, продолжаем изучение."
   ]
  },
  {
   "cell_type": "markdown",
   "metadata": {},
   "source": [
    "##### Есть ли зависимость между городом и уходом клиента?"
   ]
  },
  {
   "cell_type": "code",
   "execution_count": 29,
   "metadata": {},
   "outputs": [],
   "source": [
    "# выберим необходимые колонки для анализа\n",
    "columns = ['city', 'gender', 'age_level', 'objects', 'balance_level', 'products',\n",
    "       'creditcard', 'loyalty', 'salary_level']\n",
    "#напишем функцию для расчета количества клиентов и построения графика. \n",
    "def fig(name):\n",
    "    name = df.pivot_table(index = name, columns = 'churn', values = 'userid', aggfunc = 'count')\n",
    "    name.columns = ['stay', 'leave']\n",
    "    name['all'] = name['leave'] + name['stay']\n",
    "    name['%'] = ((name['leave'] / name['stay'])*100).round(1)\n",
    "    print(name.reset_index())\n",
    "    name.plot(kind='bar', y = [\"stay\", \"leave\"],  legend=True, figsize = (10, 5), rot = 0)\n",
    "    plt.title('Оставшиеся и ушедшие клиенты', color = \"grey\")\n",
    "    plt.ylabel('Количество клиентов');"
   ]
  },
  {
   "cell_type": "code",
   "execution_count": 30,
   "metadata": {
    "scrolled": false
   },
   "outputs": [
    {
     "name": "stdout",
     "output_type": "stream",
     "text": [
      "             city  stay  leave   all     %\n",
      "0  Ростов Великий  1695    814  2509  48.0\n",
      "1         Рыбинск  2064    413  2477  20.0\n",
      "2       Ярославль  4204    810  5014  19.3\n"
     ]
    },
    {
     "data": {
      "image/png": "[encoded data removed]",
      "text/plain": [
       "<Figure size 720x360 with 1 Axes>"
      ]
     },
     "metadata": {
      "needs_background": "light"
     },
     "output_type": "display_data"
    }
   ],
   "source": [
    "fig('city')"
   ]
  },
  {
   "cell_type": "markdown",
   "metadata": {},
   "source": [
    "Наибольшее количество ушедших клиентов в городе Ростов Великий 48%! это почти половина всех клиентов, причины могут быть разные, как связанные с закрытием филиала или с уходом крупных компаний с зарплатными проектами, а также с приходом в город банков конкурентов с более выгодными предложениями. В Рыбинске и Ярославле оттоки сопоставимы на уровне примерно 20%. "
   ]
  },
  {
   "cell_type": "markdown",
   "metadata": {},
   "source": [
    "##### Есть ли зависимость между полом и уходом клиента?"
   ]
  },
  {
   "cell_type": "code",
   "execution_count": 31,
   "metadata": {
    "scrolled": false
   },
   "outputs": [
    {
     "name": "stdout",
     "output_type": "stream",
     "text": [
      "  gender  stay  leave   all     %\n",
      "0      Ж  3404   1139  4543  33.5\n",
      "1      М  4559    898  5457  19.7\n"
     ]
    },
    {
     "data": {
      "image/png": "[encoded data removed]",
      "text/plain": [
       "<Figure size 720x360 with 1 Axes>"
      ]
     },
     "metadata": {
      "needs_background": "light"
     },
     "output_type": "display_data"
    }
   ],
   "source": [
    "fig('gender')"
   ]
  },
  {
   "cell_type": "markdown",
   "metadata": {},
   "source": [
    "Женщины наиболее стремительно покидают банк в отличии от мужчин 33,5% и 19,7% соответственно, вероятно это связано с их характером. "
   ]
  },
  {
   "cell_type": "markdown",
   "metadata": {},
   "source": [
    "##### Есть ли зависимость между возрастом и уходом клиента?"
   ]
  },
  {
   "cell_type": "code",
   "execution_count": 32,
   "metadata": {},
   "outputs": [
    {
     "name": "stdout",
     "output_type": "stream",
     "text": [
      "  age_level  stay  leave   all     %\n",
      "0   выше 45  1296   1044  2340  80.6\n",
      "1     по 32  2577    213  2790   8.3\n",
      "2     по 37  2048    249  2297  12.2\n",
      "3     по 44  2042    531  2573  26.0\n"
     ]
    },
    {
     "data": {
      "image/png": "[encoded data removed]",
      "text/plain": [
       "<Figure size 720x360 with 1 Axes>"
      ]
     },
     "metadata": {
      "needs_background": "light"
     },
     "output_type": "display_data"
    }
   ],
   "source": [
    "fig('age_level')"
   ]
  },
  {
   "cell_type": "markdown",
   "metadata": {},
   "source": [
    "Наблюдается критичный отток клиентов свыше 45 лет - 80,6%, наименьший отток у молодежи возрастом до 32 лет - 8,3%. "
   ]
  },
  {
   "cell_type": "markdown",
   "metadata": {},
   "source": [
    "##### Есть ли зависимость между количеством объектов и уходом клиента?"
   ]
  },
  {
   "cell_type": "code",
   "execution_count": 33,
   "metadata": {},
   "outputs": [
    {
     "name": "stdout",
     "output_type": "stream",
     "text": [
      "    objects  stay  leave   all     %\n",
      "0         0   318     95   413  29.9\n",
      "1         1   803    232  1035  28.9\n",
      "2         2   847    201  1048  23.7\n",
      "3         3   796    213  1009  26.8\n",
      "4         4   786    203   989  25.8\n",
      "5         5   803    209  1012  26.0\n",
      "6         6   771    196   967  25.4\n",
      "7         7   851    177  1028  20.8\n",
      "8         8   828    197  1025  23.8\n",
      "9         9   771    213   984  27.6\n",
      "10       10   389    101   490  26.0\n"
     ]
    },
    {
     "data": {
      "image/png": "[encoded data removed]",
      "text/plain": [
       "<Figure size 720x360 with 1 Axes>"
      ]
     },
     "metadata": {
      "needs_background": "light"
     },
     "output_type": "display_data"
    }
   ],
   "source": [
    "fig('objects')"
   ]
  },
  {
   "cell_type": "markdown",
   "metadata": {},
   "source": [
    "Четкой зависимости не наблюдается, в разброс от 20% до 30%."
   ]
  },
  {
   "cell_type": "markdown",
   "metadata": {},
   "source": [
    "##### Есть ли зависимость между балансом на счете и уходом клиента?"
   ]
  },
  {
   "cell_type": "code",
   "execution_count": 34,
   "metadata": {},
   "outputs": [
    {
     "name": "stdout",
     "output_type": "stream",
     "text": [
      "  balance_level  stay  leave   all     %\n",
      "0   выше 139513  4346    867  5213  19.9\n",
      "1     по 100182  1267    329  1596  26.0\n",
      "2     по 119840  1159    437  1596  37.7\n",
      "3     по 139512  1191    404  1595  33.9\n"
     ]
    },
    {
     "data": {
      "image/png": "[encoded data removed]",
      "text/plain": [
       "<Figure size 720x360 with 1 Axes>"
      ]
     },
     "metadata": {
      "needs_background": "light"
     },
     "output_type": "display_data"
    }
   ],
   "source": [
    "fig('balance_level')"
   ]
  },
  {
   "cell_type": "markdown",
   "metadata": {},
   "source": [
    "Клиенты с балансом счета от 100182 - 119840 имеют наибольший отток 37,7% , на втором месте клиенты с балансом 119840 -139512 имеют отток 33,9% наименьший отток у клиентов со счетом выше 139513 - 19,9%. "
   ]
  },
  {
   "cell_type": "markdown",
   "metadata": {},
   "source": [
    "##### Есть ли зависимость между количеством продуктов и уходом клиента?"
   ]
  },
  {
   "cell_type": "code",
   "execution_count": 35,
   "metadata": {},
   "outputs": [
    {
     "name": "stdout",
     "output_type": "stream",
     "text": [
      "   products    stay   leave     all      %\n",
      "0         1  3675.0  1409.0  5084.0   38.3\n",
      "1         2  4242.0   348.0  4590.0    8.2\n",
      "2         3    46.0   220.0   266.0  478.3\n",
      "3         4     NaN    60.0     NaN    NaN\n"
     ]
    },
    {
     "data": {
      "image/png": "[encoded data removed]",
      "text/plain": [
       "<Figure size 720x360 with 1 Axes>"
      ]
     },
     "metadata": {
      "needs_background": "light"
     },
     "output_type": "display_data"
    }
   ],
   "source": [
    "fig('products')"
   ]
  },
  {
   "cell_type": "markdown",
   "metadata": {},
   "source": [
    "Самый космически лидирующий отток у клиентов, которые пользуются 3 продуктами компании **478,3%**, по 4 продукта никто из оставшихся не пользуется, а всего их было 60 человек, хотелось бы узнать что это были за такие \"бомбические\" продукты. Наименьший отток у клиентов, использующих два продукта банка и составляет 8,2%."
   ]
  },
  {
   "cell_type": "markdown",
   "metadata": {},
   "source": [
    "##### Есть ли зависимость между наличием кредитной карты и уходом клиента?"
   ]
  },
  {
   "cell_type": "code",
   "execution_count": 36,
   "metadata": {},
   "outputs": [
    {
     "name": "stdout",
     "output_type": "stream",
     "text": [
      "   creditcard  stay  leave   all     %\n",
      "0           0  2332    613  2945  26.3\n",
      "1           1  5631   1424  7055  25.3\n"
     ]
    },
    {
     "data": {
      "image/png": "[encoded data removed]",
      "text/plain": [
       "<Figure size 720x360 with 1 Axes>"
      ]
     },
     "metadata": {
      "needs_background": "light"
     },
     "output_type": "display_data"
    }
   ],
   "source": [
    "fig('creditcard')"
   ]
  },
  {
   "cell_type": "markdown",
   "metadata": {},
   "source": [
    "Явных различий между клиентами имеющих кредитную карту и нет, не имеется разница составляет порядка 25-26%. "
   ]
  },
  {
   "cell_type": "markdown",
   "metadata": {},
   "source": [
    "##### Есть ли зависимость между активностью клиента и уходом клиента?"
   ]
  },
  {
   "cell_type": "code",
   "execution_count": 37,
   "metadata": {},
   "outputs": [
    {
     "name": "stdout",
     "output_type": "stream",
     "text": [
      "   loyalty  stay  leave   all     %\n",
      "0        0  3547   1302  4849  36.7\n",
      "1        1  4416    735  5151  16.6\n"
     ]
    },
    {
     "data": {
      "image/png": "[encoded data removed]",
      "text/plain": [
       "<Figure size 720x360 with 1 Axes>"
      ]
     },
     "metadata": {
      "needs_background": "light"
     },
     "output_type": "display_data"
    }
   ],
   "source": [
    "fig('loyalty')"
   ]
  },
  {
   "cell_type": "markdown",
   "metadata": {},
   "source": [
    "Отток у не активных клиентов больше и составляет 36,7% , активные клиенты меньше уходят из банка 16,6%."
   ]
  },
  {
   "cell_type": "markdown",
   "metadata": {},
   "source": [
    "##### Есть ли зависимость уровнем заработной платы и уходом клиента?"
   ]
  },
  {
   "cell_type": "code",
   "execution_count": 38,
   "metadata": {},
   "outputs": [
    {
     "name": "stdout",
     "output_type": "stream",
     "text": [
      "  salary_level  stay  leave   all     %\n",
      "0  выше 149389  1961    539  2500  27.5\n",
      "1    по 100194  2005    495  2500  24.7\n",
      "2    по 149388  1997    503  2500  25.2\n",
      "3     по 51002  2000    500  2500  25.0\n"
     ]
    },
    {
     "data": {
      "image/png": "[encoded data removed]",
      "text/plain": [
       "<Figure size 720x360 with 1 Axes>"
      ]
     },
     "metadata": {
      "needs_background": "light"
     },
     "output_type": "display_data"
    }
   ],
   "source": [
    "fig('salary_level')"
   ]
  },
  {
   "cell_type": "markdown",
   "metadata": {},
   "source": [
    "Датасет поделен божественно, никого не обидели. Явной зависимости оттока клиентов не наблюдается, но чуть больше отток происходит у клиентов с зарплатой выше 149389 - 27,5%"
   ]
  },
  {
   "cell_type": "markdown",
   "metadata": {},
   "source": [
    "### Шаг 3. Сформулировать и проверить статистические гипотезы"
   ]
  },
  {
   "cell_type": "code",
   "execution_count": 39,
   "metadata": {},
   "outputs": [
    {
     "data": {
      "image/png": "[encoded data removed]",
      "text/plain": [
       "<Figure size 720x432 with 1 Axes>"
      ]
     },
     "metadata": {
      "needs_background": "light"
     },
     "output_type": "display_data"
    },
    {
     "data": {
      "image/png": "[encoded data removed]",
      "text/plain": [
       "<Figure size 720x432 with 1 Axes>"
      ]
     },
     "metadata": {
      "needs_background": "light"
     },
     "output_type": "display_data"
    },
    {
     "data": {
      "image/png": "[encoded data removed]",
      "text/plain": [
       "<Figure size 720x432 with 1 Axes>"
      ]
     },
     "metadata": {
      "needs_background": "light"
     },
     "output_type": "display_data"
    },
    {
     "data": {
      "image/png": "[encoded data removed]",
      "text/plain": [
       "<Figure size 720x432 with 1 Axes>"
      ]
     },
     "metadata": {
      "needs_background": "light"
     },
     "output_type": "display_data"
    }
   ],
   "source": [
    "# посмотрим на распределения создадим таблицы по клиентам и список необходимых столбцов\n",
    "leave = df[df['churn'] == 1]\n",
    "stay = df[df['churn'] == 0]\n",
    "distplot_columns = ['age', 'products', 'objects', 'estimated_salary']\n",
    "# напишем цикл для отрисовки графиков\n",
    "for column in distplot_columns: \n",
    "    plt.figure(figsize=(10,6)) \n",
    "    plt.title(column)\n",
    "    sns.distplot(leave[column])\n",
    "    sns.distplot(stay[column])\n",
    "    plt.legend(['Отток', 'Оставшиеся'])\n",
    "    plt.show()"
   ]
  },
  {
   "cell_type": "markdown",
   "metadata": {},
   "source": [
    "#### Гипотеза:  различия дохода между теми клиентами, которые ушли и теми, которые остались"
   ]
  },
  {
   "cell_type": "markdown",
   "metadata": {},
   "source": [
    "Поскольку выборки не имеют нормального распределения, воспользуемся  непараметрическим критерием статистической значимости U-критерий Манна-Уитни, сделаем двустороннюю проверку гипотез.  "
   ]
  },
  {
   "cell_type": "markdown",
   "metadata": {},
   "source": [
    "Нулевая гипотеза: различий дохода между теми клиентами, которые ушли и теми, которые остались нет"
   ]
  },
  {
   "cell_type": "markdown",
   "metadata": {},
   "source": [
    "Альтернативная гипотеза: между теми клиентами, которые ушли и теми, которые остались есть значимая разница дохода."
   ]
  },
  {
   "cell_type": "code",
   "execution_count": 40,
   "metadata": {},
   "outputs": [],
   "source": [
    "#выделим данные для проведения теста\n",
    "salary_0 = df[df['churn'] == 0][['estimated_salary']]\n",
    "salary_1 = df[df['churn'] == 1][['estimated_salary']]"
   ]
  },
  {
   "cell_type": "code",
   "execution_count": 41,
   "metadata": {},
   "outputs": [
    {
     "name": "stdout",
     "output_type": "stream",
     "text": [
      "Statistics=7969862.000, p=0.227\n",
      "Не удается отклонить нулевую гипотезу\n"
     ]
    }
   ],
   "source": [
    "# проведем тест, выберим значение alpha = 0.05\n",
    "stat,p = stats.mannwhitneyu(salary_0, salary_1, alternative = 'two-sided')\n",
    "print('Statistics=%.3f, p=%.3f' % (stat, p))\n",
    "alpha = 0.05\n",
    "if p > alpha:\n",
    "    print('Не удается отклонить нулевую гипотезу')\n",
    "else:\n",
    "    print('Отклоняем нулевую гипотезу')"
   ]
  },
  {
   "cell_type": "markdown",
   "metadata": {},
   "source": [
    "Из полученных данных можно сделать вывод, что различий дохода между теми клиентами, которые ушли и которые остались нет."
   ]
  },
  {
   "cell_type": "markdown",
   "metadata": {},
   "source": [
    "#### Гипотеза:  различия возраста между теми клиентами, которые ушли и теми, которые остались"
   ]
  },
  {
   "cell_type": "markdown",
   "metadata": {},
   "source": [
    "Поскольку распределение нормальное, то воспользуемся параметрическим тестом Стьюдента."
   ]
  },
  {
   "cell_type": "markdown",
   "metadata": {},
   "source": [
    "Нулевая гипотеза: различий возраст между теми клиентами, которые ушли и теми, которые остались нет"
   ]
  },
  {
   "cell_type": "markdown",
   "metadata": {},
   "source": [
    "Альтернативная гипотеза: между теми клиентами, которые ушли и теми, которые остались есть значимая разница возраста."
   ]
  },
  {
   "cell_type": "code",
   "execution_count": 42,
   "metadata": {},
   "outputs": [],
   "source": [
    "age_0 = df[df['churn'] == 0][['age']]\n",
    "age_1 = df[df['churn'] == 1][['age']]"
   ]
  },
  {
   "cell_type": "code",
   "execution_count": 43,
   "metadata": {},
   "outputs": [
    {
     "name": "stdout",
     "output_type": "stream",
     "text": [
      "Statistics=-29.767, p=0.000\n",
      "Отклоняем нулевую гипотезу\n"
     ]
    }
   ],
   "source": [
    "stat, p = stats.ttest_ind(age_0, age_1)\n",
    "print('Statistics=%.3f, p=%.3f' % (stat, p))\n",
    "alpha = 0.05\n",
    "if p > alpha:\n",
    "    print('Не удается отклонить нулевую гипотезу')\n",
    "else:\n",
    "    print('Отклоняем нулевую гипотезу')"
   ]
  },
  {
   "cell_type": "markdown",
   "metadata": {},
   "source": [
    "Значимая разница различия возраста между ушедшими и оставшимися клиентами есть. "
   ]
  },
  {
   "cell_type": "markdown",
   "metadata": {},
   "source": [
    "#### Гипотеза:  различия количества продуктов между теми клиентами, которые ушли и теми, которые остались"
   ]
  },
  {
   "cell_type": "markdown",
   "metadata": {},
   "source": [
    "Поскольку выборки не имеют нормального распределения, воспользуемся  непараметрическим критерием статистической значимости U-критерий Манна-Уитни, сделаем двустороннюю проверку гипотез.  "
   ]
  },
  {
   "cell_type": "markdown",
   "metadata": {},
   "source": [
    "Нулевая гипотеза: различий по количеству продуктов между теми клиентами, которые ушли и теми, которые остались нет"
   ]
  },
  {
   "cell_type": "markdown",
   "metadata": {},
   "source": [
    "Альтернативная гипотеза: между теми клиентами, которые ушли и теми, которые остались есть значимая разница по количеству продуктов."
   ]
  },
  {
   "cell_type": "code",
   "execution_count": 44,
   "metadata": {},
   "outputs": [],
   "source": [
    "products_0 = df[df['churn'] == 0][['products']]\n",
    "products_1 = df[df['churn'] == 1][['products']]"
   ]
  },
  {
   "cell_type": "code",
   "execution_count": 45,
   "metadata": {},
   "outputs": [
    {
     "name": "stdout",
     "output_type": "stream",
     "text": [
      "Statistics=9390005.500, p=0.000\n",
      "Отклоняем нулевую гипотезу\n"
     ]
    }
   ],
   "source": [
    "stat,p = stats.mannwhitneyu(products_0, products_1, alternative = 'two-sided')\n",
    "print('Statistics=%.3f, p=%.3f' % (stat, p))\n",
    "alpha = 0.05\n",
    "if p > alpha:\n",
    "    print('Не удается отклонить нулевую гипотезу')\n",
    "else:\n",
    "    print('Отклоняем нулевую гипотезу')"
   ]
  },
  {
   "cell_type": "markdown",
   "metadata": {},
   "source": [
    "Значимая разница различий по количеству продуков банка между ушедшими и оставшимися клиентами есть. "
   ]
  },
  {
   "cell_type": "markdown",
   "metadata": {},
   "source": [
    "#### Гипотеза:  различия количества объектов между теми клиентами, которые ушли и теми, которые остались"
   ]
  },
  {
   "cell_type": "markdown",
   "metadata": {},
   "source": [
    "Поскольку выборки не имеют нормального распределения, воспользуемся  непараметрическим критерием статистической значимости U-критерий Манна-Уитни, сделаем двустороннюю проверку гипотез.  "
   ]
  },
  {
   "cell_type": "markdown",
   "metadata": {},
   "source": [
    "Нулевая гипотеза: различий по количеству объектов между теми клиентами, которые ушли и теми, которые остались нет"
   ]
  },
  {
   "cell_type": "markdown",
   "metadata": {},
   "source": [
    "Альтернативная гипотеза: между теми клиентами, которые ушли и теми, которые остались есть значимая разница по количеству объектов."
   ]
  },
  {
   "cell_type": "code",
   "execution_count": 46,
   "metadata": {},
   "outputs": [],
   "source": [
    "objects_0 = df[df['churn'] == 0][['objects']]\n",
    "objects_1 = df[df['churn'] == 1][['objects']]"
   ]
  },
  {
   "cell_type": "code",
   "execution_count": 47,
   "metadata": {},
   "outputs": [
    {
     "name": "stdout",
     "output_type": "stream",
     "text": [
      "Statistics=8272055.500, p=0.162\n",
      "Не удается отклонить нулевую гипотезу\n"
     ]
    }
   ],
   "source": [
    "stat,p = stats.mannwhitneyu(objects_0, objects_1, alternative = 'two-sided')\n",
    "print('Statistics=%.3f, p=%.3f' % (stat, p))\n",
    "alpha = 0.05\n",
    "if p > alpha:\n",
    "    print('Не удается отклонить нулевую гипотезу')\n",
    "else:\n",
    "    print('Отклоняем нулевую гипотезу')"
   ]
  },
  {
   "cell_type": "markdown",
   "metadata": {},
   "source": [
    "Из полученных данных можно сделать вывод, что различий по количеству объектов в собственности между теми клиентами, которые ушли и которые остались нет."
   ]
  },
  {
   "cell_type": "markdown",
   "metadata": {},
   "source": [
    "### Шаг 4. Выводы"
   ]
  },
  {
   "cell_type": "markdown",
   "metadata": {},
   "source": [
    "Был произведен анализ данных, с целью описания портрета клиента попавшего в отток. "
   ]
  },
  {
   "cell_type": "markdown",
   "metadata": {},
   "source": [
    "**Портрет:** Женщины, старше 45 лет с балансом на счете от 100182 до 119840 рублей использующие 3 продукта и являющиеся неактивными клиентами."
   ]
  },
  {
   "cell_type": "markdown",
   "metadata": {},
   "source": [
    "В ходе анализа данных была получена следующая информация:\n",
    " - в столбце Баланс обнаружено 36% пропущенных значений. Под NaN может быть как любое число так и не заполненные данные. В связи с этим, принято решение оставить данные как есть;\n",
    " - портрет среднестатистического клиента: средний кредитный рейтинг 650, средний возраст 39 лет со средней заработной платой 100000 и балансом на счету 120000;\n",
    " - доля ушедших клиентов составила 20,37 %;\n",
    " - в срених значения по выборкам между ушедшими и оставшимися различий не наблюдается, кроме возраста, активно уходят клиенты старше 45 лет;\n",
    " - количество оставшихся клиентов 7963, количество ушедших 2037;\n",
    " - в Ярославле проживает больше всего клиентов 5014, в Ростове Великом - 2509 и Рыбинске - 2477;\n",
    " - наибольшее количество ушедших клиентов в городе Ростов Великий 48%, в Рыбинске и Ярославле оттоки сопоставимы на уровне примерно 20%;\n",
    " - женщины наиболее стремительно покидают банк в отличии от мужчин 33,5% и 19,7% соответственно;\n",
    " - критичный отток клиентов свыше 45 лет - 80,6%, наименьший отток у молодежи возрастом до 32 лет - 8,3%;\n",
    " - зависимости по количеству объектов недвижимости, по ушедшим и оставшимся не наблюдается;\n",
    " - клиенты с балансом счета от 100182 - 119840 имеют наибольший отток 37,7%, наименьший отток у клиентов со счетом выше 139513 - 19,9%;\n",
    " - лидирующий отток у клиентов, которые пользуются 3 продуктами компании 478,3%, по 4 продукта никто из оставшихся не пользуется, наименьший отток у клиентов, использующих два продукта банка и составляет 8,2%;\n",
    " - различий между клиентами имеющих кредитную карту и нет, не имеется, разница составляет порядка 25-26%;\n",
    " - отток у не активных клиентов больше и составляет 36,7% , активные клиенты меньше уходят из банка 16,6%;\n",
    " - явной зависимости оттока клиентов не наблюдается, но чуть больше отток происходит у клиентов с зарплатой выше 149389 - 27,5%;\n",
    " - различий дохода между теми клиентами, которые ушли и которые остались нет;\n",
    " - значимая разница различия возраста между ушедшими и оставшимися клиентами есть;\n",
    " - значимая разница различий по количеству продуктов банка между ушедшими и оставшимися клиентами есть;\n",
    " - различий по количеству объектов в собственности между теми клиентами, которые ушли и которые остались нет.\n",
    "\n",
    "\n",
    " "
   ]
  },
  {
   "cell_type": "markdown",
   "metadata": {},
   "source": [
    "Рекомендации: \n",
    "- администратору базы при выгрузке смотреть на данные;\n",
    "- обратить внимание на город Ростов Великий, там происходит большой отток;\n",
    "- пересмотреть продукты банка;\n",
    "- выяснить почему клиенты свыше 45 лет активно покидают банк."
   ]
  },
  {
   "cell_type": "markdown",
   "metadata": {},
   "source": [
    "### Шаг 5. Презентация"
   ]
  },
  {
   "cell_type": "markdown",
   "metadata": {},
   "source": [
    "[https://drive.google.com/file/d/1y6krH7KQ0iHQx40PXAqAiSa1GuCDqLIT/view?usp=sharing]"
   ]
  }
 ],
 "metadata": {
  "ExecuteTimeLog": [
   {
    "duration": 713,
    "start_time": "2021-06-25T13:09:04.446Z"
   },
   {
    "duration": 6312,
    "start_time": "2021-06-25T13:18:41.515Z"
   },
   {
    "duration": 328,
    "start_time": "2021-06-25T13:25:03.978Z"
   },
   {
    "duration": 128,
    "start_time": "2021-06-25T13:25:27.914Z"
   },
   {
    "duration": 5117,
    "start_time": "2021-06-25T13:25:30.130Z"
   },
   {
    "duration": 4871,
    "start_time": "2021-06-25T13:25:42.254Z"
   },
   {
    "duration": -140,
    "start_time": "2021-06-25T13:25:47.268Z"
   },
   {
    "duration": 4,
    "start_time": "2021-06-25T13:26:15.707Z"
   },
   {
    "duration": 5225,
    "start_time": "2021-06-25T13:26:17.055Z"
   },
   {
    "duration": 696,
    "start_time": "2021-06-25T13:36:14.612Z"
   },
   {
    "duration": 5093,
    "start_time": "2021-06-25T13:45:10.147Z"
   },
   {
    "duration": 774,
    "start_time": "2021-06-25T13:48:52.199Z"
   },
   {
    "duration": 6118,
    "start_time": "2021-06-25T13:53:10.465Z"
   },
   {
    "duration": 622,
    "start_time": "2021-06-25T13:55:01.450Z"
   },
   {
    "duration": 751,
    "start_time": "2021-06-25T13:59:54.984Z"
   },
   {
    "duration": 746,
    "start_time": "2021-06-25T14:00:07.325Z"
   },
   {
    "duration": 4660,
    "start_time": "2021-06-25T14:01:57.577Z"
   },
   {
    "duration": 2020,
    "start_time": "2021-06-25T14:09:13.021Z"
   },
   {
    "duration": 1902,
    "start_time": "2021-06-25T14:17:57.169Z"
   },
   {
    "duration": 4443,
    "start_time": "2021-06-25T14:18:39.406Z"
   },
   {
    "duration": 2025,
    "start_time": "2021-06-25T15:02:51.940Z"
   },
   {
    "duration": 345,
    "start_time": "2021-06-25T15:11:36.948Z"
   },
   {
    "duration": 21,
    "start_time": "2021-06-25T15:11:51.911Z"
   },
   {
    "duration": 13,
    "start_time": "2021-06-25T15:17:10.908Z"
   },
   {
    "duration": 6,
    "start_time": "2021-06-25T15:20:32.099Z"
   },
   {
    "duration": 6,
    "start_time": "2021-06-25T15:20:45.575Z"
   },
   {
    "duration": 64,
    "start_time": "2021-06-25T15:21:12.791Z"
   },
   {
    "duration": 15,
    "start_time": "2021-06-25T15:21:54.048Z"
   },
   {
    "duration": 10,
    "start_time": "2021-06-25T15:22:16.108Z"
   },
   {
    "duration": 8,
    "start_time": "2021-06-25T15:27:11.490Z"
   },
   {
    "duration": 6,
    "start_time": "2021-06-25T15:28:25.815Z"
   },
   {
    "duration": 12,
    "start_time": "2021-06-25T15:28:28.569Z"
   },
   {
    "duration": 741,
    "start_time": "2021-06-25T15:28:43.516Z"
   },
   {
    "duration": 11,
    "start_time": "2021-06-25T15:29:53.255Z"
   },
   {
    "duration": 11,
    "start_time": "2021-06-25T15:32:27.951Z"
   },
   {
    "duration": 419,
    "start_time": "2021-06-25T15:32:31.128Z"
   },
   {
    "duration": 574,
    "start_time": "2021-06-25T15:32:54.052Z"
   },
   {
    "duration": 332,
    "start_time": "2021-06-25T15:33:00.156Z"
   },
   {
    "duration": 4,
    "start_time": "2021-06-25T15:33:13.072Z"
   },
   {
    "duration": 3216,
    "start_time": "2021-06-25T15:33:18.552Z"
   },
   {
    "duration": 9,
    "start_time": "2021-06-25T15:33:53.572Z"
   },
   {
    "duration": 10,
    "start_time": "2021-06-25T15:34:00.824Z"
   },
   {
    "duration": 3975,
    "start_time": "2021-06-25T15:34:01.904Z"
   },
   {
    "duration": 11,
    "start_time": "2021-06-25T15:34:57.105Z"
   },
   {
    "duration": 3985,
    "start_time": "2021-06-25T15:34:58.397Z"
   },
   {
    "duration": 1425,
    "start_time": "2021-06-25T15:36:13.413Z"
   },
   {
    "duration": 1088,
    "start_time": "2021-06-28T02:52:02.961Z"
   },
   {
    "duration": 29,
    "start_time": "2021-06-28T02:52:04.051Z"
   },
   {
    "duration": 15,
    "start_time": "2021-06-28T02:52:05.055Z"
   },
   {
    "duration": 10,
    "start_time": "2021-06-28T02:52:05.969Z"
   },
   {
    "duration": 4,
    "start_time": "2021-06-28T02:52:07.000Z"
   },
   {
    "duration": 4,
    "start_time": "2021-06-28T02:52:07.977Z"
   },
   {
    "duration": 11,
    "start_time": "2021-06-28T02:52:08.578Z"
   },
   {
    "duration": 8,
    "start_time": "2021-06-28T02:52:09.205Z"
   },
   {
    "duration": 4,
    "start_time": "2021-06-28T02:52:12.739Z"
   },
   {
    "duration": 280,
    "start_time": "2021-06-28T02:56:49.160Z"
   },
   {
    "duration": 4,
    "start_time": "2021-06-28T02:57:52.520Z"
   },
   {
    "duration": 10,
    "start_time": "2021-06-28T02:58:16.573Z"
   },
   {
    "duration": 197,
    "start_time": "2021-06-28T03:16:48.594Z"
   },
   {
    "duration": 185,
    "start_time": "2021-06-28T03:17:43.278Z"
   },
   {
    "duration": 172,
    "start_time": "2021-06-28T03:17:52.974Z"
   },
   {
    "duration": 205,
    "start_time": "2021-06-28T03:19:51.230Z"
   },
   {
    "duration": 6,
    "start_time": "2021-06-28T03:20:06.380Z"
   },
   {
    "duration": 5,
    "start_time": "2021-06-28T03:21:40.184Z"
   },
   {
    "duration": 3,
    "start_time": "2021-06-28T03:23:10.256Z"
   },
   {
    "duration": 60,
    "start_time": "2021-06-28T03:23:15.798Z"
   },
   {
    "duration": 58,
    "start_time": "2021-06-28T03:23:42.920Z"
   },
   {
    "duration": 63,
    "start_time": "2021-06-28T03:23:54.002Z"
   },
   {
    "duration": 96,
    "start_time": "2021-06-28T03:24:03.921Z"
   },
   {
    "duration": 5,
    "start_time": "2021-06-28T03:24:25.990Z"
   },
   {
    "duration": 186,
    "start_time": "2021-06-28T03:28:05.717Z"
   },
   {
    "duration": 67,
    "start_time": "2021-06-28T03:29:32.785Z"
   },
   {
    "duration": 3,
    "start_time": "2021-06-28T03:31:00.034Z"
   },
   {
    "duration": 188,
    "start_time": "2021-06-28T03:31:05.865Z"
   },
   {
    "duration": 187,
    "start_time": "2021-06-28T03:31:14.892Z"
   },
   {
    "duration": 4,
    "start_time": "2021-06-28T03:31:20.113Z"
   },
   {
    "duration": 192,
    "start_time": "2021-06-28T03:31:23.526Z"
   },
   {
    "duration": 5,
    "start_time": "2021-06-28T03:31:26.405Z"
   },
   {
    "duration": 189,
    "start_time": "2021-06-28T03:31:27.634Z"
   },
   {
    "duration": 59,
    "start_time": "2021-06-28T03:31:30.289Z"
   },
   {
    "duration": 3,
    "start_time": "2021-06-28T03:34:14.214Z"
   },
   {
    "duration": 5,
    "start_time": "2021-06-28T03:34:38.783Z"
   },
   {
    "duration": 5,
    "start_time": "2021-06-28T03:39:47.530Z"
   },
   {
    "duration": 5,
    "start_time": "2021-06-28T03:40:05.785Z"
   },
   {
    "duration": 6,
    "start_time": "2021-06-28T03:42:37.427Z"
   },
   {
    "duration": 4,
    "start_time": "2021-06-28T03:43:06.664Z"
   },
   {
    "duration": 195,
    "start_time": "2021-06-28T03:48:30.095Z"
   },
   {
    "duration": 3,
    "start_time": "2021-06-28T03:48:43.690Z"
   },
   {
    "duration": 39,
    "start_time": "2021-06-28T03:50:23.955Z"
   },
   {
    "duration": 6,
    "start_time": "2021-06-28T04:19:21.154Z"
   },
   {
    "duration": 380,
    "start_time": "2021-06-28T05:31:07.335Z"
   },
   {
    "duration": 373,
    "start_time": "2021-06-28T05:32:27.596Z"
   },
   {
    "duration": 392,
    "start_time": "2021-06-28T05:33:29.881Z"
   },
   {
    "duration": 205,
    "start_time": "2021-06-28T05:34:55.777Z"
   },
   {
    "duration": 193,
    "start_time": "2021-06-28T05:35:00.741Z"
   },
   {
    "duration": 150082,
    "start_time": "2021-06-28T05:35:18.561Z"
   },
   {
    "duration": 8,
    "start_time": "2021-06-28T05:39:17.336Z"
   },
   {
    "duration": 7,
    "start_time": "2021-06-28T05:40:29.332Z"
   },
   {
    "duration": 183,
    "start_time": "2021-06-28T05:40:47.236Z"
   },
   {
    "duration": 4870,
    "start_time": "2021-06-28T05:41:11.428Z"
   },
   {
    "duration": 4,
    "start_time": "2021-06-28T05:50:32.137Z"
   },
   {
    "duration": 5,
    "start_time": "2021-06-28T05:50:36.885Z"
   },
   {
    "duration": 7,
    "start_time": "2021-06-28T05:50:41.510Z"
   },
   {
    "duration": 6,
    "start_time": "2021-06-28T05:50:55.894Z"
   },
   {
    "duration": 38,
    "start_time": "2021-06-28T05:51:07.177Z"
   },
   {
    "duration": 188,
    "start_time": "2021-06-28T05:51:37.650Z"
   },
   {
    "duration": 7,
    "start_time": "2021-06-28T05:51:45.434Z"
   },
   {
    "duration": 297,
    "start_time": "2021-06-28T05:51:46.238Z"
   },
   {
    "duration": 10,
    "start_time": "2021-06-28T05:52:27.391Z"
   },
   {
    "duration": 6,
    "start_time": "2021-06-28T05:55:35.976Z"
   },
   {
    "duration": 717,
    "start_time": "2021-06-28T05:55:37.756Z"
   },
   {
    "duration": -121,
    "start_time": "2021-06-28T05:55:38.597Z"
   },
   {
    "duration": 1009,
    "start_time": "2021-06-28T05:57:28.235Z"
   },
   {
    "duration": 28,
    "start_time": "2021-06-28T05:57:29.855Z"
   },
   {
    "duration": 14,
    "start_time": "2021-06-28T05:57:30.597Z"
   },
   {
    "duration": 9,
    "start_time": "2021-06-28T05:57:32.253Z"
   },
   {
    "duration": 4,
    "start_time": "2021-06-28T05:57:32.913Z"
   },
   {
    "duration": 4,
    "start_time": "2021-06-28T05:57:33.577Z"
   },
   {
    "duration": 10,
    "start_time": "2021-06-28T05:57:34.181Z"
   },
   {
    "duration": 7,
    "start_time": "2021-06-28T05:57:34.969Z"
   },
   {
    "duration": 3,
    "start_time": "2021-06-28T05:57:37.457Z"
   },
   {
    "duration": 5,
    "start_time": "2021-06-28T05:57:49.289Z"
   },
   {
    "duration": 3,
    "start_time": "2021-06-28T05:57:53.009Z"
   },
   {
    "duration": 283,
    "start_time": "2021-06-28T05:57:54.545Z"
   },
   {
    "duration": 3,
    "start_time": "2021-06-28T05:58:02.190Z"
   },
   {
    "duration": 8,
    "start_time": "2021-06-28T05:58:03.473Z"
   },
   {
    "duration": 8,
    "start_time": "2021-06-28T05:58:06.214Z"
   },
   {
    "duration": 7,
    "start_time": "2021-06-28T05:58:07.709Z"
   },
   {
    "duration": 37,
    "start_time": "2021-06-28T05:58:09.285Z"
   },
   {
    "duration": 402,
    "start_time": "2021-06-28T05:59:33.658Z"
   },
   {
    "duration": 6,
    "start_time": "2021-06-28T05:59:37.782Z"
   },
   {
    "duration": 8,
    "start_time": "2021-06-28T06:17:11.951Z"
   },
   {
    "duration": 277,
    "start_time": "2021-06-28T06:17:12.519Z"
   },
   {
    "duration": 9,
    "start_time": "2021-06-28T06:17:24.019Z"
   },
   {
    "duration": 7,
    "start_time": "2021-06-28T06:17:50.972Z"
   },
   {
    "duration": 375,
    "start_time": "2021-06-28T06:17:52.411Z"
   },
   {
    "duration": 7,
    "start_time": "2021-06-28T06:18:01.544Z"
   },
   {
    "duration": 2300,
    "start_time": "2021-06-28T06:18:04.339Z"
   },
   {
    "duration": 7,
    "start_time": "2021-06-28T06:21:44.598Z"
   },
   {
    "duration": 7,
    "start_time": "2021-06-28T06:22:04.554Z"
   },
   {
    "duration": 6,
    "start_time": "2021-06-28T06:24:07.145Z"
   },
   {
    "duration": 6,
    "start_time": "2021-06-28T06:24:23.683Z"
   },
   {
    "duration": 6,
    "start_time": "2021-06-28T06:24:42.375Z"
   },
   {
    "duration": 7,
    "start_time": "2021-06-28T06:24:57.131Z"
   },
   {
    "duration": 7,
    "start_time": "2021-06-28T06:25:12.719Z"
   },
   {
    "duration": 6,
    "start_time": "2021-06-28T06:25:45.452Z"
   },
   {
    "duration": 5,
    "start_time": "2021-06-28T06:26:15.692Z"
   },
   {
    "duration": 7,
    "start_time": "2021-06-28T06:27:59.732Z"
   },
   {
    "duration": 7,
    "start_time": "2021-06-28T06:28:12.085Z"
   },
   {
    "duration": 6,
    "start_time": "2021-06-28T06:28:41.002Z"
   },
   {
    "duration": 8,
    "start_time": "2021-06-28T06:29:29.461Z"
   },
   {
    "duration": 7,
    "start_time": "2021-06-28T06:29:48.833Z"
   },
   {
    "duration": 15,
    "start_time": "2021-06-28T06:35:44.649Z"
   },
   {
    "duration": 14,
    "start_time": "2021-06-28T06:36:02.153Z"
   },
   {
    "duration": 14,
    "start_time": "2021-06-28T06:38:27.063Z"
   },
   {
    "duration": 14,
    "start_time": "2021-06-28T06:47:05.231Z"
   },
   {
    "duration": 395,
    "start_time": "2021-06-28T06:51:58.629Z"
   },
   {
    "duration": 369,
    "start_time": "2021-06-28T06:52:21.102Z"
   },
   {
    "duration": 181,
    "start_time": "2021-06-28T06:52:37.401Z"
   },
   {
    "duration": 479,
    "start_time": "2021-06-28T06:53:00.473Z"
   },
   {
    "duration": 378,
    "start_time": "2021-06-28T06:53:21.898Z"
   },
   {
    "duration": 375,
    "start_time": "2021-06-28T06:56:15.812Z"
   },
   {
    "duration": 382,
    "start_time": "2021-06-28T06:56:26.180Z"
   },
   {
    "duration": 367,
    "start_time": "2021-06-28T06:56:58.932Z"
   },
   {
    "duration": 5,
    "start_time": "2021-06-28T07:21:30.756Z"
   },
   {
    "duration": 5,
    "start_time": "2021-06-28T08:44:50.387Z"
   },
   {
    "duration": 4,
    "start_time": "2021-06-28T08:45:23.943Z"
   },
   {
    "duration": 4,
    "start_time": "2021-06-28T08:45:24.267Z"
   },
   {
    "duration": 3,
    "start_time": "2021-06-28T08:46:24.185Z"
   },
   {
    "duration": 7,
    "start_time": "2021-06-28T08:46:24.920Z"
   },
   {
    "duration": 8,
    "start_time": "2021-06-28T08:46:40.913Z"
   },
   {
    "duration": 7,
    "start_time": "2021-06-28T08:48:24.597Z"
   },
   {
    "duration": 7,
    "start_time": "2021-06-28T08:53:10.227Z"
   },
   {
    "duration": 67,
    "start_time": "2021-06-28T08:53:22.831Z"
   },
   {
    "duration": 6,
    "start_time": "2021-06-28T08:54:02.628Z"
   },
   {
    "duration": 8,
    "start_time": "2021-06-28T08:57:23.829Z"
   },
   {
    "duration": 179,
    "start_time": "2021-06-28T09:02:47.172Z"
   },
   {
    "duration": 3,
    "start_time": "2021-06-28T09:02:51.129Z"
   },
   {
    "duration": 137115,
    "start_time": "2021-06-28T09:02:52.401Z"
   },
   {
    "duration": 131516,
    "start_time": "2021-06-28T09:05:17.207Z"
   },
   {
    "duration": 91264,
    "start_time": "2021-06-28T09:07:30.323Z"
   },
   {
    "duration": -208,
    "start_time": "2021-06-28T09:09:01.797Z"
   },
   {
    "duration": 7,
    "start_time": "2021-06-28T09:09:05.408Z"
   },
   {
    "duration": -216,
    "start_time": "2021-06-28T09:10:38.523Z"
   },
   {
    "duration": -223,
    "start_time": "2021-06-28T09:11:46.945Z"
   },
   {
    "duration": 182,
    "start_time": "2021-06-28T09:12:51.522Z"
   },
   {
    "duration": 185,
    "start_time": "2021-06-28T09:13:03.102Z"
   },
   {
    "duration": 218,
    "start_time": "2021-06-28T09:13:31.434Z"
   },
   {
    "duration": 254,
    "start_time": "2021-06-28T09:14:02.395Z"
   },
   {
    "duration": 196,
    "start_time": "2021-06-28T09:15:14.131Z"
   },
   {
    "duration": 155,
    "start_time": "2021-06-28T09:17:07.324Z"
   },
   {
    "duration": 2199,
    "start_time": "2021-06-28T09:20:59.718Z"
   },
   {
    "duration": 213,
    "start_time": "2021-06-28T09:21:37.518Z"
   },
   {
    "duration": 140,
    "start_time": "2021-06-28T09:22:12.315Z"
   },
   {
    "duration": 218,
    "start_time": "2021-06-28T09:22:43.307Z"
   },
   {
    "duration": 179,
    "start_time": "2021-06-28T09:23:27.048Z"
   },
   {
    "duration": 181,
    "start_time": "2021-06-28T09:31:51.704Z"
   },
   {
    "duration": 3376,
    "start_time": "2021-06-28T09:32:05.677Z"
   },
   {
    "duration": 6980,
    "start_time": "2021-06-28T09:35:52.770Z"
   },
   {
    "duration": 7161,
    "start_time": "2021-06-28T09:36:05.298Z"
   },
   {
    "duration": 7028,
    "start_time": "2021-06-28T09:36:38.576Z"
   },
   {
    "duration": 7,
    "start_time": "2021-06-28T09:46:57.467Z"
   },
   {
    "duration": 5,
    "start_time": "2021-06-28T09:57:32.105Z"
   },
   {
    "duration": 2840,
    "start_time": "2021-06-28T10:17:45.835Z"
   },
   {
    "duration": 8,
    "start_time": "2021-06-28T10:18:44.456Z"
   },
   {
    "duration": 2340,
    "start_time": "2021-06-28T10:18:48.413Z"
   },
   {
    "duration": 187,
    "start_time": "2021-06-28T10:26:20.111Z"
   },
   {
    "duration": 213,
    "start_time": "2021-06-28T10:26:28.588Z"
   },
   {
    "duration": 185,
    "start_time": "2021-06-28T10:26:47.008Z"
   },
   {
    "duration": 191,
    "start_time": "2021-06-28T10:26:53.304Z"
   },
   {
    "duration": 9,
    "start_time": "2021-06-28T10:27:02.929Z"
   },
   {
    "duration": 6,
    "start_time": "2021-06-28T10:27:05.113Z"
   },
   {
    "duration": 295,
    "start_time": "2021-06-28T11:11:13.353Z"
   },
   {
    "duration": 18,
    "start_time": "2021-06-28T11:11:28.054Z"
   },
   {
    "duration": 4423,
    "start_time": "2021-06-28T11:12:03.413Z"
   },
   {
    "duration": 18,
    "start_time": "2021-06-28T11:12:12.853Z"
   },
   {
    "duration": 17,
    "start_time": "2021-06-28T11:12:54.602Z"
   },
   {
    "duration": 17,
    "start_time": "2021-06-28T11:13:32.102Z"
   },
   {
    "duration": 77,
    "start_time": "2021-06-28T11:38:44.865Z"
   },
   {
    "duration": 75,
    "start_time": "2021-06-28T11:39:28.593Z"
   },
   {
    "duration": 91,
    "start_time": "2021-06-28T11:40:16.152Z"
   },
   {
    "duration": 2122,
    "start_time": "2021-06-28T11:41:52.170Z"
   },
   {
    "duration": -177,
    "start_time": "2021-06-28T11:45:29.699Z"
   },
   {
    "duration": 1458,
    "start_time": "2021-06-28T11:45:39.789Z"
   },
   {
    "duration": 1510,
    "start_time": "2021-06-28T11:45:59.988Z"
   },
   {
    "duration": 1694,
    "start_time": "2021-06-28T11:48:47.311Z"
   },
   {
    "duration": 1324,
    "start_time": "2021-06-28T11:49:12.203Z"
   },
   {
    "duration": 71,
    "start_time": "2021-06-28T11:50:56.515Z"
   },
   {
    "duration": 81,
    "start_time": "2021-06-28T11:52:09.376Z"
   },
   {
    "duration": 70,
    "start_time": "2021-06-28T11:52:19.116Z"
   },
   {
    "duration": 71,
    "start_time": "2021-06-28T11:52:23.860Z"
   },
   {
    "duration": 76,
    "start_time": "2021-06-28T11:52:36.424Z"
   },
   {
    "duration": 1593,
    "start_time": "2021-06-28T11:52:46.432Z"
   },
   {
    "duration": 19,
    "start_time": "2021-06-28T11:52:54.072Z"
   },
   {
    "duration": 5,
    "start_time": "2021-06-28T11:54:50.420Z"
   },
   {
    "duration": 1311,
    "start_time": "2021-06-28T11:55:25.724Z"
   },
   {
    "duration": 4,
    "start_time": "2021-06-28T11:57:23.837Z"
   },
   {
    "duration": 377,
    "start_time": "2021-06-28T11:57:24.916Z"
   },
   {
    "duration": 353,
    "start_time": "2021-06-28T11:57:37.920Z"
   },
   {
    "duration": 69,
    "start_time": "2021-06-28T11:58:35.773Z"
   },
   {
    "duration": 75,
    "start_time": "2021-06-28T11:58:51.501Z"
   },
   {
    "duration": 4,
    "start_time": "2021-06-28T12:01:03.650Z"
   },
   {
    "duration": 386,
    "start_time": "2021-06-28T12:01:11.790Z"
   },
   {
    "duration": 4,
    "start_time": "2021-06-28T12:01:18.958Z"
   },
   {
    "duration": 368,
    "start_time": "2021-06-28T12:01:20.618Z"
   },
   {
    "duration": 391,
    "start_time": "2021-06-28T12:01:30.478Z"
   },
   {
    "duration": 4,
    "start_time": "2021-06-28T12:04:12.352Z"
   },
   {
    "duration": 344,
    "start_time": "2021-06-28T12:04:13.895Z"
   },
   {
    "duration": 4,
    "start_time": "2021-06-28T12:07:26.465Z"
   },
   {
    "duration": 347,
    "start_time": "2021-06-28T12:07:27.601Z"
   },
   {
    "duration": 182,
    "start_time": "2021-06-28T12:07:49.233Z"
   },
   {
    "duration": 5,
    "start_time": "2021-06-28T12:08:55.277Z"
   },
   {
    "duration": 1311,
    "start_time": "2021-06-28T12:08:56.410Z"
   },
   {
    "duration": 4,
    "start_time": "2021-06-28T12:11:20.670Z"
   },
   {
    "duration": 351,
    "start_time": "2021-06-28T12:11:21.570Z"
   },
   {
    "duration": 364,
    "start_time": "2021-06-28T12:11:32.638Z"
   },
   {
    "duration": 6,
    "start_time": "2021-06-28T12:12:38.262Z"
   },
   {
    "duration": 1707,
    "start_time": "2021-06-28T12:12:42.399Z"
   },
   {
    "duration": 4,
    "start_time": "2021-06-28T12:13:07.519Z"
   },
   {
    "duration": 1318,
    "start_time": "2021-06-28T12:13:09.627Z"
   },
   {
    "duration": 4,
    "start_time": "2021-06-28T12:15:30.325Z"
   },
   {
    "duration": 359,
    "start_time": "2021-06-28T12:15:32.840Z"
   },
   {
    "duration": 5,
    "start_time": "2021-06-28T12:16:05.287Z"
   },
   {
    "duration": 213,
    "start_time": "2021-06-28T12:16:06.436Z"
   },
   {
    "duration": 4,
    "start_time": "2021-06-28T12:16:30.509Z"
   },
   {
    "duration": 215,
    "start_time": "2021-06-28T12:16:31.713Z"
   },
   {
    "duration": 5,
    "start_time": "2021-06-28T12:16:51.957Z"
   },
   {
    "duration": 225,
    "start_time": "2021-06-28T12:16:53.333Z"
   },
   {
    "duration": 4,
    "start_time": "2021-06-28T12:17:19.965Z"
   },
   {
    "duration": 214,
    "start_time": "2021-06-28T12:17:20.881Z"
   },
   {
    "duration": 4,
    "start_time": "2021-06-28T12:18:10.398Z"
   },
   {
    "duration": 212,
    "start_time": "2021-06-28T12:18:11.203Z"
   },
   {
    "duration": 4,
    "start_time": "2021-06-28T12:18:25.946Z"
   },
   {
    "duration": 214,
    "start_time": "2021-06-28T12:18:26.758Z"
   },
   {
    "duration": 4,
    "start_time": "2021-06-28T12:18:34.610Z"
   },
   {
    "duration": 214,
    "start_time": "2021-06-28T12:18:36.310Z"
   },
   {
    "duration": 4,
    "start_time": "2021-06-28T12:20:58.727Z"
   },
   {
    "duration": 585,
    "start_time": "2021-06-28T12:20:59.287Z"
   },
   {
    "duration": 4,
    "start_time": "2021-06-28T12:21:21.767Z"
   },
   {
    "duration": 226,
    "start_time": "2021-06-28T12:21:22.528Z"
   },
   {
    "duration": 187,
    "start_time": "2021-06-28T12:25:53.801Z"
   },
   {
    "duration": 8,
    "start_time": "2021-06-28T12:35:36.343Z"
   },
   {
    "duration": 173,
    "start_time": "2021-06-28T12:38:48.024Z"
   },
   {
    "duration": 192,
    "start_time": "2021-06-28T12:39:10.456Z"
   },
   {
    "duration": 297,
    "start_time": "2021-06-28T12:39:35.621Z"
   },
   {
    "duration": 11,
    "start_time": "2021-06-28T12:40:08.477Z"
   },
   {
    "duration": 10,
    "start_time": "2021-06-28T12:40:34.294Z"
   },
   {
    "duration": 12,
    "start_time": "2021-06-28T12:41:00.910Z"
   },
   {
    "duration": 10,
    "start_time": "2021-06-28T12:42:07.874Z"
   },
   {
    "duration": 12,
    "start_time": "2021-06-28T12:42:52.934Z"
   },
   {
    "duration": 11,
    "start_time": "2021-06-28T12:44:33.227Z"
   },
   {
    "duration": 7,
    "start_time": "2021-06-28T12:45:17.008Z"
   },
   {
    "duration": 14,
    "start_time": "2021-06-28T12:47:30.269Z"
   },
   {
    "duration": 10,
    "start_time": "2021-06-28T12:48:26.966Z"
   },
   {
    "duration": 8,
    "start_time": "2021-06-28T12:49:07.955Z"
   },
   {
    "duration": 9,
    "start_time": "2021-06-28T12:51:33.331Z"
   },
   {
    "duration": 7,
    "start_time": "2021-06-28T12:51:56.255Z"
   },
   {
    "duration": 12,
    "start_time": "2021-06-28T12:51:57.331Z"
   },
   {
    "duration": 10,
    "start_time": "2021-06-28T12:54:16.613Z"
   },
   {
    "duration": 10,
    "start_time": "2021-06-28T12:54:29.575Z"
   },
   {
    "duration": 7,
    "start_time": "2021-06-28T12:55:55.097Z"
   },
   {
    "duration": 10,
    "start_time": "2021-06-28T12:57:42.530Z"
   },
   {
    "duration": 10,
    "start_time": "2021-06-28T12:59:19.751Z"
   },
   {
    "duration": 14,
    "start_time": "2021-06-28T12:59:32.011Z"
   },
   {
    "duration": 5,
    "start_time": "2021-06-28T13:00:49.387Z"
   },
   {
    "duration": 216,
    "start_time": "2021-06-28T13:00:52.740Z"
   },
   {
    "duration": 207,
    "start_time": "2021-06-28T13:00:57.632Z"
   },
   {
    "duration": 5,
    "start_time": "2021-06-28T13:04:02.559Z"
   },
   {
    "duration": 220,
    "start_time": "2021-06-28T13:04:04.593Z"
   },
   {
    "duration": 191,
    "start_time": "2021-06-28T13:04:37.970Z"
   },
   {
    "duration": 195,
    "start_time": "2021-06-28T13:05:18.710Z"
   },
   {
    "duration": 10,
    "start_time": "2021-06-28T13:05:31.770Z"
   },
   {
    "duration": 14,
    "start_time": "2021-06-28T13:05:35.782Z"
   },
   {
    "duration": 224,
    "start_time": "2021-06-28T13:05:44.906Z"
   },
   {
    "duration": 299,
    "start_time": "2021-06-28T13:07:06.463Z"
   },
   {
    "duration": 222,
    "start_time": "2021-06-28T13:08:04.620Z"
   },
   {
    "duration": 220,
    "start_time": "2021-06-28T13:09:20.928Z"
   },
   {
    "duration": 199,
    "start_time": "2021-06-28T13:11:18.036Z"
   },
   {
    "duration": 189,
    "start_time": "2021-06-28T13:12:06.714Z"
   },
   {
    "duration": 237,
    "start_time": "2021-06-28T13:13:08.606Z"
   },
   {
    "duration": 9,
    "start_time": "2021-06-28T13:14:28.047Z"
   },
   {
    "duration": 7,
    "start_time": "2021-06-28T13:14:46.526Z"
   },
   {
    "duration": 4408,
    "start_time": "2021-06-28T13:18:44.909Z"
   },
   {
    "duration": 4489,
    "start_time": "2021-06-28T13:19:39.106Z"
   },
   {
    "duration": 4734,
    "start_time": "2021-06-28T13:20:00.542Z"
   },
   {
    "duration": 9,
    "start_time": "2021-06-28T13:20:12.169Z"
   },
   {
    "duration": 4310,
    "start_time": "2021-06-28T13:20:29.998Z"
   },
   {
    "duration": 4363,
    "start_time": "2021-06-28T13:20:45.294Z"
   },
   {
    "duration": 10,
    "start_time": "2021-06-28T13:21:16.690Z"
   },
   {
    "duration": 7,
    "start_time": "2021-06-28T13:21:17.950Z"
   },
   {
    "duration": 7,
    "start_time": "2021-06-28T13:24:10.079Z"
   },
   {
    "duration": 7,
    "start_time": "2021-06-28T13:24:11.931Z"
   },
   {
    "duration": 9,
    "start_time": "2021-06-28T13:24:17.712Z"
   },
   {
    "duration": 464,
    "start_time": "2021-06-28T13:35:14.586Z"
   },
   {
    "duration": 12,
    "start_time": "2021-06-28T13:35:36.326Z"
   },
   {
    "duration": 12,
    "start_time": "2021-06-28T13:35:46.541Z"
   },
   {
    "duration": 5,
    "start_time": "2021-06-28T13:36:04.294Z"
   },
   {
    "duration": 4,
    "start_time": "2021-06-28T13:44:50.150Z"
   },
   {
    "duration": 210,
    "start_time": "2021-06-28T13:44:52.422Z"
   },
   {
    "duration": 5,
    "start_time": "2021-06-28T13:45:44.135Z"
   },
   {
    "duration": 594,
    "start_time": "2021-06-28T13:45:46.682Z"
   },
   {
    "duration": 5,
    "start_time": "2021-06-28T13:45:55.963Z"
   },
   {
    "duration": 211,
    "start_time": "2021-06-28T13:45:57.475Z"
   },
   {
    "duration": 64,
    "start_time": "2021-06-28T13:46:44.871Z"
   },
   {
    "duration": 5,
    "start_time": "2021-06-28T13:46:49.484Z"
   },
   {
    "duration": 215,
    "start_time": "2021-06-28T13:46:51.247Z"
   },
   {
    "duration": 5,
    "start_time": "2021-06-28T13:47:19.315Z"
   },
   {
    "duration": 981,
    "start_time": "2021-06-28T13:47:20.985Z"
   },
   {
    "duration": 4,
    "start_time": "2021-06-28T13:49:41.139Z"
   },
   {
    "duration": 215,
    "start_time": "2021-06-28T13:49:43.077Z"
   },
   {
    "duration": 338,
    "start_time": "2021-06-28T13:53:40.975Z"
   },
   {
    "duration": 19,
    "start_time": "2021-06-28T13:56:45.972Z"
   },
   {
    "duration": 4578,
    "start_time": "2021-06-28T13:58:25.194Z"
   },
   {
    "duration": 858,
    "start_time": "2021-06-28T13:59:05.889Z"
   },
   {
    "duration": 4901,
    "start_time": "2021-06-28T13:59:07.730Z"
   },
   {
    "duration": 20,
    "start_time": "2021-06-28T13:59:44.922Z"
   },
   {
    "duration": 4532,
    "start_time": "2021-06-28T13:59:46.574Z"
   },
   {
    "duration": 61,
    "start_time": "2021-06-28T14:02:47.836Z"
   },
   {
    "duration": 5,
    "start_time": "2021-06-28T14:02:56.108Z"
   },
   {
    "duration": 403,
    "start_time": "2021-06-28T14:03:01.244Z"
   },
   {
    "duration": 4,
    "start_time": "2021-06-28T14:03:43.948Z"
   },
   {
    "duration": 1537,
    "start_time": "2021-06-28T14:03:48.271Z"
   },
   {
    "duration": 5,
    "start_time": "2021-06-28T14:04:00.624Z"
   },
   {
    "duration": 214,
    "start_time": "2021-06-28T14:04:05.478Z"
   },
   {
    "duration": 4,
    "start_time": "2021-06-28T14:06:04.361Z"
   },
   {
    "duration": 204,
    "start_time": "2021-06-28T14:06:05.449Z"
   },
   {
    "duration": 5,
    "start_time": "2021-06-28T14:06:19.211Z"
   },
   {
    "duration": 202,
    "start_time": "2021-06-28T14:06:21.622Z"
   },
   {
    "duration": 5,
    "start_time": "2021-06-28T14:08:49.323Z"
   },
   {
    "duration": 553,
    "start_time": "2021-06-28T14:08:51.035Z"
   },
   {
    "duration": 4,
    "start_time": "2021-06-28T14:09:11.127Z"
   },
   {
    "duration": 215,
    "start_time": "2021-06-28T14:09:12.465Z"
   },
   {
    "duration": 4,
    "start_time": "2021-06-28T14:09:44.727Z"
   },
   {
    "duration": 5,
    "start_time": "2021-06-28T14:09:49.495Z"
   },
   {
    "duration": 218,
    "start_time": "2021-06-28T14:09:50.367Z"
   },
   {
    "duration": 4,
    "start_time": "2021-06-28T14:19:51.925Z"
   },
   {
    "duration": 359,
    "start_time": "2021-06-28T14:19:53.209Z"
   },
   {
    "duration": 4,
    "start_time": "2021-06-28T14:20:37.429Z"
   },
   {
    "duration": 321,
    "start_time": "2021-06-28T14:20:39.941Z"
   },
   {
    "duration": 4,
    "start_time": "2021-06-28T14:20:52.317Z"
   },
   {
    "duration": 206,
    "start_time": "2021-06-28T14:20:53.662Z"
   },
   {
    "duration": 5,
    "start_time": "2021-06-28T14:24:46.092Z"
   },
   {
    "duration": 209,
    "start_time": "2021-06-28T14:24:49.060Z"
   },
   {
    "duration": 5,
    "start_time": "2021-06-28T14:25:15.956Z"
   },
   {
    "duration": 3683,
    "start_time": "2021-06-28T14:25:17.824Z"
   },
   {
    "duration": 5,
    "start_time": "2021-06-28T14:25:29.536Z"
   },
   {
    "duration": 211,
    "start_time": "2021-06-28T14:25:30.337Z"
   },
   {
    "duration": 186,
    "start_time": "2021-06-28T14:31:03.071Z"
   },
   {
    "duration": 208,
    "start_time": "2021-06-28T14:33:21.836Z"
   },
   {
    "duration": 286,
    "start_time": "2021-06-28T14:36:12.433Z"
   },
   {
    "duration": 215,
    "start_time": "2021-06-28T14:37:48.318Z"
   },
   {
    "duration": 211,
    "start_time": "2021-06-28T14:41:34.609Z"
   },
   {
    "duration": 194,
    "start_time": "2021-06-28T14:47:44.916Z"
   },
   {
    "duration": 187,
    "start_time": "2021-06-28T14:49:30.248Z"
   },
   {
    "duration": 316,
    "start_time": "2021-06-28T14:53:03.554Z"
   },
   {
    "duration": 9,
    "start_time": "2021-06-28T14:55:50.888Z"
   },
   {
    "duration": 12,
    "start_time": "2021-06-28T14:55:57.004Z"
   },
   {
    "duration": 10,
    "start_time": "2021-06-28T14:56:03.264Z"
   },
   {
    "duration": 10,
    "start_time": "2021-06-28T14:56:08.648Z"
   },
   {
    "duration": 13,
    "start_time": "2021-06-28T14:56:12.988Z"
   },
   {
    "duration": 5,
    "start_time": "2021-06-28T14:56:16.095Z"
   },
   {
    "duration": 217,
    "start_time": "2021-06-28T14:56:16.102Z"
   },
   {
    "duration": 189,
    "start_time": "2021-06-28T14:56:19.398Z"
   },
   {
    "duration": 217,
    "start_time": "2021-06-28T14:56:23.902Z"
   },
   {
    "duration": 281,
    "start_time": "2021-06-28T14:56:35.728Z"
   },
   {
    "duration": 205,
    "start_time": "2021-06-28T14:56:39.524Z"
   },
   {
    "duration": 211,
    "start_time": "2021-06-28T14:57:05.289Z"
   },
   {
    "duration": 188,
    "start_time": "2021-06-28T14:57:09.548Z"
   },
   {
    "duration": 193,
    "start_time": "2021-06-28T14:57:11.714Z"
   },
   {
    "duration": 219,
    "start_time": "2021-06-28T14:57:13.724Z"
   },
   {
    "duration": 3,
    "start_time": "2021-06-28T15:59:18.684Z"
   },
   {
    "duration": 58,
    "start_time": "2021-06-28T15:59:40.429Z"
   },
   {
    "duration": 184,
    "start_time": "2021-06-28T16:06:55.249Z"
   },
   {
    "duration": 7,
    "start_time": "2021-06-28T16:06:57.312Z"
   },
   {
    "duration": 199,
    "start_time": "2021-06-28T16:06:58.187Z"
   },
   {
    "duration": 6,
    "start_time": "2021-06-28T16:08:54.503Z"
   },
   {
    "duration": 5,
    "start_time": "2021-06-28T16:09:21.803Z"
   },
   {
    "duration": 8,
    "start_time": "2021-06-28T16:09:32.126Z"
   },
   {
    "duration": 8,
    "start_time": "2021-06-28T16:09:33.053Z"
   },
   {
    "duration": 244,
    "start_time": "2021-06-28T16:09:35.730Z"
   },
   {
    "duration": 322,
    "start_time": "2021-06-28T16:09:45.034Z"
   },
   {
    "duration": 1373,
    "start_time": "2021-06-29T02:36:41.861Z"
   },
   {
    "duration": 34,
    "start_time": "2021-06-29T02:36:44.013Z"
   },
   {
    "duration": 21,
    "start_time": "2021-06-29T02:36:44.733Z"
   },
   {
    "duration": 12,
    "start_time": "2021-06-29T02:36:45.305Z"
   },
   {
    "duration": 5,
    "start_time": "2021-06-29T02:36:45.855Z"
   },
   {
    "duration": 6,
    "start_time": "2021-06-29T02:36:46.273Z"
   },
   {
    "duration": 15,
    "start_time": "2021-06-29T02:36:46.565Z"
   },
   {
    "duration": 6,
    "start_time": "2021-06-29T02:36:46.825Z"
   },
   {
    "duration": 9,
    "start_time": "2021-06-29T02:36:47.116Z"
   },
   {
    "duration": 4,
    "start_time": "2021-06-29T02:36:48.441Z"
   },
   {
    "duration": 6,
    "start_time": "2021-06-29T02:36:48.637Z"
   },
   {
    "duration": 5,
    "start_time": "2021-06-29T02:36:49.777Z"
   },
   {
    "duration": 11,
    "start_time": "2021-06-29T02:36:50.109Z"
   },
   {
    "duration": 58,
    "start_time": "2021-06-29T02:36:50.997Z"
   },
   {
    "duration": 19,
    "start_time": "2021-06-29T02:36:51.969Z"
   },
   {
    "duration": 11,
    "start_time": "2021-06-29T02:36:52.873Z"
   },
   {
    "duration": 531,
    "start_time": "2021-06-29T02:36:53.165Z"
   },
   {
    "duration": 10,
    "start_time": "2021-06-29T02:36:54.525Z"
   },
   {
    "duration": 9,
    "start_time": "2021-06-29T02:36:58.843Z"
   },
   {
    "duration": 9,
    "start_time": "2021-06-29T02:37:01.434Z"
   },
   {
    "duration": 14,
    "start_time": "2021-06-29T02:37:02.034Z"
   },
   {
    "duration": 9,
    "start_time": "2021-06-29T02:37:02.577Z"
   },
   {
    "duration": 13,
    "start_time": "2021-06-29T02:37:03.106Z"
   },
   {
    "duration": 9,
    "start_time": "2021-06-29T02:37:03.657Z"
   },
   {
    "duration": 14,
    "start_time": "2021-06-29T02:37:04.146Z"
   },
   {
    "duration": 8,
    "start_time": "2021-06-29T02:37:04.634Z"
   },
   {
    "duration": 14,
    "start_time": "2021-06-29T02:37:05.193Z"
   },
   {
    "duration": 21,
    "start_time": "2021-06-29T02:37:05.942Z"
   },
   {
    "duration": 8,
    "start_time": "2021-06-29T02:37:07.854Z"
   },
   {
    "duration": 373,
    "start_time": "2021-06-29T02:37:08.781Z"
   },
   {
    "duration": 310,
    "start_time": "2021-06-29T02:37:11.925Z"
   },
   {
    "duration": 355,
    "start_time": "2021-06-29T02:37:13.706Z"
   },
   {
    "duration": 427,
    "start_time": "2021-06-29T02:37:15.325Z"
   },
   {
    "duration": 342,
    "start_time": "2021-06-29T02:37:17.366Z"
   },
   {
    "duration": 364,
    "start_time": "2021-06-29T02:37:19.358Z"
   },
   {
    "duration": 325,
    "start_time": "2021-06-29T02:37:21.342Z"
   },
   {
    "duration": 397,
    "start_time": "2021-06-29T02:37:23.682Z"
   },
   {
    "duration": 355,
    "start_time": "2021-06-29T02:37:26.022Z"
   },
   {
    "duration": 11,
    "start_time": "2021-06-29T02:37:42.331Z"
   },
   {
    "duration": 11,
    "start_time": "2021-06-29T02:37:43.094Z"
   },
   {
    "duration": 452,
    "start_time": "2021-06-29T02:37:45.466Z"
   },
   {
    "duration": 3,
    "start_time": "2021-06-29T02:45:17.390Z"
   },
   {
    "duration": 339,
    "start_time": "2021-06-29T02:45:18.182Z"
   },
   {
    "duration": 8,
    "start_time": "2021-06-29T02:45:36.297Z"
   },
   {
    "duration": 345,
    "start_time": "2021-06-29T02:47:25.026Z"
   },
   {
    "duration": 4,
    "start_time": "2021-06-29T02:49:59.121Z"
   },
   {
    "duration": 349,
    "start_time": "2021-06-29T02:52:42.893Z"
   },
   {
    "duration": 328,
    "start_time": "2021-06-29T02:56:10.422Z"
   },
   {
    "duration": 8,
    "start_time": "2021-06-29T02:56:30.610Z"
   },
   {
    "duration": 9,
    "start_time": "2021-06-29T02:57:11.310Z"
   },
   {
    "duration": 315,
    "start_time": "2021-06-29T02:57:29.627Z"
   },
   {
    "duration": 307,
    "start_time": "2021-06-29T02:58:16.959Z"
   },
   {
    "duration": 8,
    "start_time": "2021-06-29T02:58:44.459Z"
   },
   {
    "duration": 128,
    "start_time": "2021-06-29T02:59:01.899Z"
   },
   {
    "duration": 348,
    "start_time": "2021-06-29T02:59:21.484Z"
   },
   {
    "duration": 307,
    "start_time": "2021-06-29T02:59:27.394Z"
   },
   {
    "duration": 10,
    "start_time": "2021-06-29T03:01:57.965Z"
   },
   {
    "duration": 8,
    "start_time": "2021-06-29T03:01:58.552Z"
   },
   {
    "duration": 7,
    "start_time": "2021-06-29T03:07:56.652Z"
   },
   {
    "duration": 9,
    "start_time": "2021-06-29T03:08:09.872Z"
   },
   {
    "duration": 8,
    "start_time": "2021-06-29T03:08:16.200Z"
   },
   {
    "duration": 8,
    "start_time": "2021-06-29T03:08:26.347Z"
   },
   {
    "duration": 599,
    "start_time": "2021-06-29T03:10:31.280Z"
   },
   {
    "duration": 126,
    "start_time": "2021-06-29T03:11:20.304Z"
   },
   {
    "duration": 2115,
    "start_time": "2021-06-29T03:11:25.912Z"
   },
   {
    "duration": 2208,
    "start_time": "2021-06-29T03:12:29.513Z"
   },
   {
    "duration": 9,
    "start_time": "2021-06-29T03:14:41.238Z"
   },
   {
    "duration": 94,
    "start_time": "2021-06-29T03:16:14.763Z"
   },
   {
    "duration": 10,
    "start_time": "2021-06-29T03:18:38.504Z"
   },
   {
    "duration": 325,
    "start_time": "2021-06-29T03:26:50.932Z"
   },
   {
    "duration": 7,
    "start_time": "2021-06-29T03:27:11.640Z"
   },
   {
    "duration": 8,
    "start_time": "2021-06-29T03:27:30.707Z"
   },
   {
    "duration": 7,
    "start_time": "2021-06-29T03:27:36.548Z"
   },
   {
    "duration": 7,
    "start_time": "2021-06-29T03:27:45.240Z"
   },
   {
    "duration": 297,
    "start_time": "2021-06-29T03:28:39.957Z"
   },
   {
    "duration": 8,
    "start_time": "2021-06-29T03:29:14.105Z"
   },
   {
    "duration": 7,
    "start_time": "2021-06-29T03:29:56.246Z"
   },
   {
    "duration": 10,
    "start_time": "2021-06-29T03:39:26.911Z"
   },
   {
    "duration": 7,
    "start_time": "2021-06-29T03:39:44.700Z"
   },
   {
    "duration": 7,
    "start_time": "2021-06-29T03:39:52.863Z"
   },
   {
    "duration": 2122,
    "start_time": "2021-06-29T03:41:40.144Z"
   },
   {
    "duration": 92,
    "start_time": "2021-06-29T03:42:40.753Z"
   },
   {
    "duration": 12,
    "start_time": "2021-06-29T03:43:55.529Z"
   },
   {
    "duration": 8,
    "start_time": "2021-06-29T03:44:02.693Z"
   },
   {
    "duration": 8,
    "start_time": "2021-06-29T03:44:36.054Z"
   },
   {
    "duration": 7,
    "start_time": "2021-06-29T03:50:54.289Z"
   },
   {
    "duration": 10,
    "start_time": "2021-06-29T03:53:15.970Z"
   },
   {
    "duration": 1504,
    "start_time": "2021-06-29T06:11:31.338Z"
   },
   {
    "duration": 32,
    "start_time": "2021-06-29T06:11:32.844Z"
   },
   {
    "duration": 20,
    "start_time": "2021-06-29T06:11:32.879Z"
   },
   {
    "duration": 14,
    "start_time": "2021-06-29T06:11:33.606Z"
   },
   {
    "duration": 5,
    "start_time": "2021-06-29T06:11:34.030Z"
   },
   {
    "duration": 6,
    "start_time": "2021-06-29T06:11:34.370Z"
   },
   {
    "duration": 17,
    "start_time": "2021-06-29T06:11:34.614Z"
   },
   {
    "duration": 7,
    "start_time": "2021-06-29T06:11:34.826Z"
   },
   {
    "duration": 9,
    "start_time": "2021-06-29T06:11:35.038Z"
   },
   {
    "duration": 4,
    "start_time": "2021-06-29T06:11:35.942Z"
   },
   {
    "duration": 6,
    "start_time": "2021-06-29T06:11:36.130Z"
   },
   {
    "duration": 5,
    "start_time": "2021-06-29T06:11:36.826Z"
   },
   {
    "duration": 11,
    "start_time": "2021-06-29T06:11:37.013Z"
   },
   {
    "duration": 60,
    "start_time": "2021-06-29T06:11:37.678Z"
   },
   {
    "duration": 19,
    "start_time": "2021-06-29T06:11:38.398Z"
   },
   {
    "duration": 11,
    "start_time": "2021-06-29T06:11:39.596Z"
   },
   {
    "duration": 563,
    "start_time": "2021-06-29T06:11:39.898Z"
   },
   {
    "duration": 9,
    "start_time": "2021-06-29T06:11:40.791Z"
   },
   {
    "duration": 9,
    "start_time": "2021-06-29T06:11:42.110Z"
   },
   {
    "duration": 10,
    "start_time": "2021-06-29T06:11:43.679Z"
   },
   {
    "duration": 13,
    "start_time": "2021-06-29T06:11:44.063Z"
   },
   {
    "duration": 9,
    "start_time": "2021-06-29T06:11:44.442Z"
   },
   {
    "duration": 15,
    "start_time": "2021-06-29T06:11:44.990Z"
   },
   {
    "duration": 9,
    "start_time": "2021-06-29T06:11:45.527Z"
   },
   {
    "duration": 15,
    "start_time": "2021-06-29T06:11:45.987Z"
   },
   {
    "duration": 10,
    "start_time": "2021-06-29T06:11:46.466Z"
   },
   {
    "duration": 15,
    "start_time": "2021-06-29T06:11:46.914Z"
   },
   {
    "duration": 20,
    "start_time": "2021-06-29T06:11:47.334Z"
   },
   {
    "duration": 8,
    "start_time": "2021-06-29T06:11:48.764Z"
   },
   {
    "duration": 374,
    "start_time": "2021-06-29T06:11:49.395Z"
   },
   {
    "duration": 325,
    "start_time": "2021-06-29T06:11:51.560Z"
   },
   {
    "duration": 345,
    "start_time": "2021-06-29T06:11:52.806Z"
   },
   {
    "duration": 448,
    "start_time": "2021-06-29T06:11:54.127Z"
   },
   {
    "duration": 431,
    "start_time": "2021-06-29T06:11:55.922Z"
   },
   {
    "duration": 369,
    "start_time": "2021-06-29T06:11:57.654Z"
   },
   {
    "duration": 322,
    "start_time": "2021-06-29T06:11:59.214Z"
   },
   {
    "duration": 328,
    "start_time": "2021-06-29T06:12:00.863Z"
   },
   {
    "duration": 364,
    "start_time": "2021-06-29T06:12:02.352Z"
   },
   {
    "duration": 2448,
    "start_time": "2021-06-29T06:12:04.398Z"
   },
   {
    "duration": 13,
    "start_time": "2021-06-29T06:12:07.995Z"
   },
   {
    "duration": 10,
    "start_time": "2021-06-29T06:12:08.454Z"
   },
   {
    "duration": 13,
    "start_time": "2021-06-29T06:12:11.054Z"
   },
   {
    "duration": 7,
    "start_time": "2021-06-29T06:12:11.430Z"
   },
   {
    "duration": 13,
    "start_time": "2021-06-29T06:12:13.770Z"
   },
   {
    "duration": 8,
    "start_time": "2021-06-29T06:12:14.083Z"
   },
   {
    "duration": 11,
    "start_time": "2021-06-29T06:12:16.323Z"
   },
   {
    "duration": 9,
    "start_time": "2021-06-29T06:12:16.667Z"
   },
   {
    "duration": 1478,
    "start_time": "2021-06-29T22:05:05.762Z"
   },
   {
    "duration": 33,
    "start_time": "2021-06-29T22:05:07.243Z"
   },
   {
    "duration": 22,
    "start_time": "2021-06-29T22:05:07.279Z"
   },
   {
    "duration": 11,
    "start_time": "2021-06-29T22:05:07.304Z"
   },
   {
    "duration": 5,
    "start_time": "2021-06-29T22:05:07.628Z"
   },
   {
    "duration": 5,
    "start_time": "2021-06-29T22:05:08.204Z"
   },
   {
    "duration": 15,
    "start_time": "2021-06-29T22:05:08.648Z"
   },
   {
    "duration": 5,
    "start_time": "2021-06-29T22:05:09.059Z"
   },
   {
    "duration": 8,
    "start_time": "2021-06-29T22:05:09.594Z"
   },
   {
    "duration": 5,
    "start_time": "2021-06-29T22:05:11.427Z"
   },
   {
    "duration": 6,
    "start_time": "2021-06-29T22:05:11.745Z"
   },
   {
    "duration": 5,
    "start_time": "2021-06-29T22:05:12.977Z"
   },
   {
    "duration": 11,
    "start_time": "2021-06-29T22:05:13.527Z"
   },
   {
    "duration": 57,
    "start_time": "2021-06-29T22:05:14.740Z"
   },
   {
    "duration": 20,
    "start_time": "2021-06-29T22:05:15.769Z"
   },
   {
    "duration": 12,
    "start_time": "2021-06-29T22:05:17.035Z"
   },
   {
    "duration": 676,
    "start_time": "2021-06-29T22:05:17.266Z"
   },
   {
    "duration": 11,
    "start_time": "2021-06-29T22:05:18.982Z"
   },
   {
    "duration": 10,
    "start_time": "2021-06-29T22:05:20.471Z"
   },
   {
    "duration": 10,
    "start_time": "2021-06-29T22:05:21.958Z"
   },
   {
    "duration": 15,
    "start_time": "2021-06-29T22:05:22.197Z"
   },
   {
    "duration": 11,
    "start_time": "2021-06-29T22:05:22.561Z"
   },
   {
    "duration": 13,
    "start_time": "2021-06-29T22:05:22.928Z"
   },
   {
    "duration": 11,
    "start_time": "2021-06-29T22:05:23.304Z"
   },
   {
    "duration": 15,
    "start_time": "2021-06-29T22:05:23.870Z"
   },
   {
    "duration": 9,
    "start_time": "2021-06-29T22:05:24.236Z"
   },
   {
    "duration": 15,
    "start_time": "2021-06-29T22:05:24.801Z"
   },
   {
    "duration": 21,
    "start_time": "2021-06-29T22:05:25.405Z"
   },
   {
    "duration": 8,
    "start_time": "2021-06-29T22:05:27.644Z"
   },
   {
    "duration": 357,
    "start_time": "2021-06-29T22:05:28.595Z"
   },
   {
    "duration": 309,
    "start_time": "2021-06-29T22:05:30.627Z"
   },
   {
    "duration": 339,
    "start_time": "2021-06-29T22:05:31.648Z"
   },
   {
    "duration": 430,
    "start_time": "2021-06-29T22:05:32.230Z"
   },
   {
    "duration": 413,
    "start_time": "2021-06-29T22:05:32.944Z"
   },
   {
    "duration": 352,
    "start_time": "2021-06-29T22:05:33.738Z"
   },
   {
    "duration": 319,
    "start_time": "2021-06-29T22:05:34.386Z"
   },
   {
    "duration": 300,
    "start_time": "2021-06-29T22:05:35.048Z"
   },
   {
    "duration": 384,
    "start_time": "2021-06-29T22:05:35.707Z"
   },
   {
    "duration": 2146,
    "start_time": "2021-06-29T22:05:36.094Z"
   },
   {
    "duration": 14,
    "start_time": "2021-06-29T22:05:38.243Z"
   },
   {
    "duration": 10,
    "start_time": "2021-06-29T22:05:38.260Z"
   },
   {
    "duration": 39,
    "start_time": "2021-06-29T22:05:38.273Z"
   },
   {
    "duration": 10,
    "start_time": "2021-06-29T22:05:38.315Z"
   },
   {
    "duration": 13,
    "start_time": "2021-06-29T22:05:38.329Z"
   },
   {
    "duration": 8,
    "start_time": "2021-06-29T22:05:38.517Z"
   },
   {
    "duration": 10,
    "start_time": "2021-06-29T22:05:40.158Z"
   },
   {
    "duration": 9,
    "start_time": "2021-06-29T22:05:40.424Z"
   },
   {
    "duration": 99,
    "start_time": "2021-06-30T09:11:40.519Z"
   },
   {
    "duration": 98,
    "start_time": "2021-06-30T09:14:29.054Z"
   },
   {
    "duration": 93,
    "start_time": "2021-06-30T09:15:51.700Z"
   },
   {
    "duration": 85,
    "start_time": "2021-06-30T09:16:12.319Z"
   },
   {
    "duration": 84,
    "start_time": "2021-06-30T09:25:54.124Z"
   },
   {
    "duration": 84,
    "start_time": "2021-06-30T09:27:17.481Z"
   },
   {
    "duration": 85,
    "start_time": "2021-06-30T09:28:41.493Z"
   },
   {
    "duration": 88,
    "start_time": "2021-06-30T09:36:25.062Z"
   },
   {
    "duration": 1119,
    "start_time": "2021-09-04T11:56:54.002Z"
   },
   {
    "duration": 51,
    "start_time": "2021-09-04T11:56:55.123Z"
   },
   {
    "duration": 19,
    "start_time": "2021-09-04T11:56:55.176Z"
   },
   {
    "duration": 10,
    "start_time": "2021-09-04T11:56:55.197Z"
   },
   {
    "duration": 4,
    "start_time": "2021-09-04T11:56:55.454Z"
   },
   {
    "duration": 4,
    "start_time": "2021-09-04T11:56:55.858Z"
   },
   {
    "duration": 15,
    "start_time": "2021-09-04T11:56:56.282Z"
   },
   {
    "duration": 5,
    "start_time": "2021-09-04T11:56:56.726Z"
   },
   {
    "duration": 7,
    "start_time": "2021-09-04T11:56:57.146Z"
   },
   {
    "duration": 4,
    "start_time": "2021-09-04T11:56:59.024Z"
   },
   {
    "duration": 4,
    "start_time": "2021-09-04T11:56:59.326Z"
   },
   {
    "duration": 5,
    "start_time": "2021-09-04T11:57:00.598Z"
   },
   {
    "duration": 7,
    "start_time": "2021-09-04T11:57:00.802Z"
   },
   {
    "duration": 43,
    "start_time": "2021-09-04T11:57:01.455Z"
   },
   {
    "duration": 12,
    "start_time": "2021-09-04T11:57:02.023Z"
   },
   {
    "duration": 9,
    "start_time": "2021-09-04T11:57:02.618Z"
   },
   {
    "duration": 1002,
    "start_time": "2021-09-04T11:57:02.802Z"
   },
   {
    "duration": 7,
    "start_time": "2021-09-04T11:57:03.806Z"
   },
   {
    "duration": 8,
    "start_time": "2021-09-04T11:57:03.982Z"
   },
   {
    "duration": 9,
    "start_time": "2021-09-04T11:57:04.902Z"
   },
   {
    "duration": 11,
    "start_time": "2021-09-04T11:57:05.110Z"
   },
   {
    "duration": 7,
    "start_time": "2021-09-04T11:57:27.110Z"
   },
   {
    "duration": 11,
    "start_time": "2021-09-04T11:57:27.578Z"
   },
   {
    "duration": 7,
    "start_time": "2021-09-04T11:57:27.802Z"
   },
   {
    "duration": 11,
    "start_time": "2021-09-04T11:57:28.023Z"
   },
   {
    "duration": 7,
    "start_time": "2021-09-04T11:57:28.223Z"
   },
   {
    "duration": 11,
    "start_time": "2021-09-04T11:57:28.394Z"
   },
   {
    "duration": 17,
    "start_time": "2021-09-04T11:57:28.570Z"
   },
   {
    "duration": 6,
    "start_time": "2021-09-04T11:57:29.099Z"
   },
   {
    "duration": 246,
    "start_time": "2021-09-04T11:57:29.260Z"
   },
   {
    "duration": 245,
    "start_time": "2021-09-04T11:57:29.855Z"
   },
   {
    "duration": 362,
    "start_time": "2021-09-04T11:57:30.407Z"
   },
   {
    "duration": 315,
    "start_time": "2021-09-04T11:57:30.959Z"
   },
   {
    "duration": 327,
    "start_time": "2021-09-04T11:57:31.492Z"
   },
   {
    "duration": 251,
    "start_time": "2021-09-04T11:57:35.975Z"
   },
   {
    "duration": 210,
    "start_time": "2021-09-04T11:57:37.359Z"
   },
   {
    "duration": 190,
    "start_time": "2021-09-04T11:57:57.786Z"
   },
   {
    "duration": 222,
    "start_time": "2021-09-04T11:57:58.927Z"
   },
   {
    "duration": 1382,
    "start_time": "2021-09-04T11:57:59.659Z"
   },
   {
    "duration": 9,
    "start_time": "2021-09-04T11:58:01.043Z"
   },
   {
    "duration": 7,
    "start_time": "2021-09-04T11:58:01.055Z"
   },
   {
    "duration": 10,
    "start_time": "2021-09-04T11:58:01.911Z"
   },
   {
    "duration": 7,
    "start_time": "2021-09-04T11:58:02.091Z"
   },
   {
    "duration": 7,
    "start_time": "2021-09-04T11:58:03.167Z"
   },
   {
    "duration": 7,
    "start_time": "2021-09-04T11:58:03.347Z"
   },
   {
    "duration": 7,
    "start_time": "2021-09-04T11:58:04.507Z"
   },
   {
    "duration": 10,
    "start_time": "2021-09-04T11:58:04.695Z"
   }
  ],
  "kernelspec": {
   "display_name": "Python 3",
   "language": "python",
   "name": "python3"
  },
  "language_info": {
   "codemirror_mode": {
    "name": "ipython",
    "version": 3
   },
   "file_extension": ".py",
   "mimetype": "text/x-python",
   "name": "python",
   "nbconvert_exporter": "python",
   "pygments_lexer": "ipython3",
   "version": "3.7.8"
  },
  "toc": {
   "base_numbering": 1,
   "nav_menu": {},
   "number_sections": false,
   "sideBar": true,
   "skip_h1_title": true,
   "title_cell": "Table of Contents",
   "title_sidebar": "Contents",
   "toc_cell": false,
   "toc_position": {},
   "toc_section_display": true,
   "toc_window_display": true
  }
 },
 "nbformat": 4,
 "nbformat_minor": 2
}
