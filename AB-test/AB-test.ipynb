{
 "cells": [
  {
   "cell_type": "markdown",
   "metadata": {},
   "source": [
    "   ## Проект.  Приоритезация гипотез, анализ А/В - теста"
   ]
  },
  {
   "cell_type": "markdown",
   "metadata": {},
   "source": [
    "Совместно с отделом маркетинга был подготовлен список гипотез для увеличения выручки интернет - магазина."
   ]
  },
  {
   "cell_type": "markdown",
   "metadata": {},
   "source": [
    "Описание данных"
   ]
  },
  {
   "cell_type": "markdown",
   "metadata": {},
   "source": [
    "Данные для первой части"
   ]
  },
  {
   "cell_type": "markdown",
   "metadata": {},
   "source": [
    "Файл hypothesis: \n",
    " - Hypothesis — краткое описание гипотезы;\n",
    " - Reach — охват пользователей по 10-балльной шкале;\n",
    " - Impact — влияние на пользователей по 10-балльной шкале;\n",
    " - Confidence — уверенность в гипотезе по 10-балльной шкале;\n",
    " - Efforts — затраты ресурсов на проверку гипотезы по 10-балльной шкале. Чем больше значение Efforts, тем дороже проверка гипотезы."
   ]
  },
  {
   "cell_type": "markdown",
   "metadata": {},
   "source": [
    "Данные для второй части"
   ]
  },
  {
   "cell_type": "markdown",
   "metadata": {},
   "source": [
    "Файл orders: \n",
    " - transactionId — идентификатор заказа;\n",
    " - visitorId — идентификатор пользователя, совершившего заказ;\n",
    " - date — дата, когда был совершён заказ;\n",
    " - revenue — выручка заказа;\n",
    " - group — группа A/B-теста, в которую попал заказ."
   ]
  },
  {
   "cell_type": "markdown",
   "metadata": {},
   "source": [
    "Файл visitors \n",
    " - date — дата;\n",
    " - group — группа A/B-теста;\n",
    " - visitors — количество пользователей в указанную дату в указанной группе A/B-теста"
   ]
  },
  {
   "cell_type": "markdown",
   "metadata": {},
   "source": [
    "### Часть 1. Приоритезация гипотез."
   ]
  },
  {
   "cell_type": "code",
   "execution_count": 1,
   "metadata": {},
   "outputs": [],
   "source": [
    "import pandas as pd\n",
    "import scipy.stats as stats\n",
    "import datetime as dt\n",
    "import numpy as np\n",
    "import matplotlib.pyplot as plt\n",
    "import warnings\n",
    "warnings.filterwarnings('ignore')"
   ]
  },
  {
   "cell_type": "code",
   "execution_count": 2,
   "metadata": {},
   "outputs": [],
   "source": [
    "hypothesis = pd.read_csv('/datasets/hypothesis.csv')"
   ]
  },
  {
   "cell_type": "code",
   "execution_count": 3,
   "metadata": {},
   "outputs": [
    {
     "data": {
      "text/html": [
       "<div>\n",
       "<style scoped>\n",
       "    .dataframe tbody tr th:only-of-type {\n",
       "        vertical-align: middle;\n",
       "    }\n",
       "\n",
       "    .dataframe tbody tr th {\n",
       "        vertical-align: top;\n",
       "    }\n",
       "\n",
       "    .dataframe thead th {\n",
       "        text-align: right;\n",
       "    }\n",
       "</style>\n",
       "<table border=\"1\" class=\"dataframe\">\n",
       "  <thead>\n",
       "    <tr style=\"text-align: right;\">\n",
       "      <th></th>\n",
       "      <th>Hypothesis</th>\n",
       "      <th>Reach</th>\n",
       "      <th>Impact</th>\n",
       "      <th>Confidence</th>\n",
       "      <th>Efforts</th>\n",
       "    </tr>\n",
       "  </thead>\n",
       "  <tbody>\n",
       "    <tr>\n",
       "      <td>0</td>\n",
       "      <td>Добавить два новых канала привлечения трафика,...</td>\n",
       "      <td>3</td>\n",
       "      <td>10</td>\n",
       "      <td>8</td>\n",
       "      <td>6</td>\n",
       "    </tr>\n",
       "    <tr>\n",
       "      <td>1</td>\n",
       "      <td>Запустить собственную службу доставки, что сок...</td>\n",
       "      <td>2</td>\n",
       "      <td>5</td>\n",
       "      <td>4</td>\n",
       "      <td>10</td>\n",
       "    </tr>\n",
       "    <tr>\n",
       "      <td>2</td>\n",
       "      <td>Добавить блоки рекомендаций товаров на сайт ин...</td>\n",
       "      <td>8</td>\n",
       "      <td>3</td>\n",
       "      <td>7</td>\n",
       "      <td>3</td>\n",
       "    </tr>\n",
       "    <tr>\n",
       "      <td>3</td>\n",
       "      <td>Изменить структура категорий, что увеличит кон...</td>\n",
       "      <td>8</td>\n",
       "      <td>3</td>\n",
       "      <td>3</td>\n",
       "      <td>8</td>\n",
       "    </tr>\n",
       "    <tr>\n",
       "      <td>4</td>\n",
       "      <td>Изменить цвет фона главной страницы, чтобы уве...</td>\n",
       "      <td>3</td>\n",
       "      <td>1</td>\n",
       "      <td>1</td>\n",
       "      <td>1</td>\n",
       "    </tr>\n",
       "    <tr>\n",
       "      <td>5</td>\n",
       "      <td>Добавить страницу отзывов клиентов о магазине,...</td>\n",
       "      <td>3</td>\n",
       "      <td>2</td>\n",
       "      <td>2</td>\n",
       "      <td>3</td>\n",
       "    </tr>\n",
       "    <tr>\n",
       "      <td>6</td>\n",
       "      <td>Показать на главной странице баннеры с актуаль...</td>\n",
       "      <td>5</td>\n",
       "      <td>3</td>\n",
       "      <td>8</td>\n",
       "      <td>3</td>\n",
       "    </tr>\n",
       "    <tr>\n",
       "      <td>7</td>\n",
       "      <td>Добавить форму подписки на все основные страни...</td>\n",
       "      <td>10</td>\n",
       "      <td>7</td>\n",
       "      <td>8</td>\n",
       "      <td>5</td>\n",
       "    </tr>\n",
       "    <tr>\n",
       "      <td>8</td>\n",
       "      <td>Запустить акцию, дающую скидку на товар в день...</td>\n",
       "      <td>1</td>\n",
       "      <td>9</td>\n",
       "      <td>9</td>\n",
       "      <td>5</td>\n",
       "    </tr>\n",
       "  </tbody>\n",
       "</table>\n",
       "</div>"
      ],
      "text/plain": [
       "                                          Hypothesis  Reach  Impact  \\\n",
       "0  Добавить два новых канала привлечения трафика,...      3      10   \n",
       "1  Запустить собственную службу доставки, что сок...      2       5   \n",
       "2  Добавить блоки рекомендаций товаров на сайт ин...      8       3   \n",
       "3  Изменить структура категорий, что увеличит кон...      8       3   \n",
       "4  Изменить цвет фона главной страницы, чтобы уве...      3       1   \n",
       "5  Добавить страницу отзывов клиентов о магазине,...      3       2   \n",
       "6  Показать на главной странице баннеры с актуаль...      5       3   \n",
       "7  Добавить форму подписки на все основные страни...     10       7   \n",
       "8  Запустить акцию, дающую скидку на товар в день...      1       9   \n",
       "\n",
       "   Confidence  Efforts  \n",
       "0           8        6  \n",
       "1           4       10  \n",
       "2           7        3  \n",
       "3           3        8  \n",
       "4           1        1  \n",
       "5           2        3  \n",
       "6           8        3  \n",
       "7           8        5  \n",
       "8           9        5  "
      ]
     },
     "execution_count": 3,
     "metadata": {},
     "output_type": "execute_result"
    }
   ],
   "source": [
    "hypothesis"
   ]
  },
  {
   "cell_type": "code",
   "execution_count": 4,
   "metadata": {},
   "outputs": [],
   "source": [
    "hypothesis.columns = hypothesis.columns.str.lower()"
   ]
  },
  {
   "cell_type": "code",
   "execution_count": 5,
   "metadata": {},
   "outputs": [],
   "source": [
    "pd.set_option('max_colwidth', -1)"
   ]
  },
  {
   "cell_type": "markdown",
   "metadata": {},
   "source": [
    "Рассмотрим приоритезацию способом ICE - влияние, уверенность, простота:"
   ]
  },
  {
   "cell_type": "code",
   "execution_count": 6,
   "metadata": {},
   "outputs": [
    {
     "data": {
      "text/html": [
       "<style  type=\"text/css\" >\n",
       "    #T_790c26de_0d84_11ec_85fa_02420a392433row0_col1 {\n",
       "            width:  10em;\n",
       "             height:  80%;\n",
       "            background:  linear-gradient(90deg,lightblue 100.0%, transparent 100.0%);\n",
       "        }    #T_790c26de_0d84_11ec_85fa_02420a392433row1_col1 {\n",
       "            width:  10em;\n",
       "             height:  80%;\n",
       "            background:  linear-gradient(90deg,lightblue 81.1%, transparent 81.1%);\n",
       "        }    #T_790c26de_0d84_11ec_85fa_02420a392433row2_col1 {\n",
       "            width:  10em;\n",
       "             height:  80%;\n",
       "            background:  linear-gradient(90deg,lightblue 67.1%, transparent 67.1%);\n",
       "        }    #T_790c26de_0d84_11ec_85fa_02420a392433row3_col1 {\n",
       "            width:  10em;\n",
       "             height:  80%;\n",
       "            background:  linear-gradient(90deg,lightblue 46.1%, transparent 46.1%);\n",
       "        }    #T_790c26de_0d84_11ec_85fa_02420a392433row4_col1 {\n",
       "            width:  10em;\n",
       "             height:  80%;\n",
       "            background:  linear-gradient(90deg,lightblue 39.5%, transparent 39.5%);\n",
       "        }    #T_790c26de_0d84_11ec_85fa_02420a392433row5_col1 {\n",
       "            width:  10em;\n",
       "             height:  80%;\n",
       "            background:  linear-gradient(90deg,lightblue 6.6%, transparent 6.6%);\n",
       "        }    #T_790c26de_0d84_11ec_85fa_02420a392433row6_col1 {\n",
       "            width:  10em;\n",
       "             height:  80%;\n",
       "            background:  linear-gradient(90deg,lightblue 2.2%, transparent 2.2%);\n",
       "        }    #T_790c26de_0d84_11ec_85fa_02420a392433row7_col1 {\n",
       "            width:  10em;\n",
       "             height:  80%;\n",
       "            background:  linear-gradient(90deg,lightblue 0.8%, transparent 0.8%);\n",
       "        }    #T_790c26de_0d84_11ec_85fa_02420a392433row8_col1 {\n",
       "            width:  10em;\n",
       "             height:  80%;\n",
       "        }</style><table id=\"T_790c26de_0d84_11ec_85fa_02420a392433\" ><caption>ICE</caption><thead>    <tr>        <th class=\"blank level0\" ></th>        <th class=\"col_heading level0 col0\" >hypothesis</th>        <th class=\"col_heading level0 col1\" >ICE</th>    </tr></thead><tbody>\n",
       "                <tr>\n",
       "                        <th id=\"T_790c26de_0d84_11ec_85fa_02420a392433level0_row0\" class=\"row_heading level0 row0\" >8</th>\n",
       "                        <td id=\"T_790c26de_0d84_11ec_85fa_02420a392433row0_col0\" class=\"data row0 col0\" >Запустить акцию, дающую скидку на товар в день рождения</td>\n",
       "                        <td id=\"T_790c26de_0d84_11ec_85fa_02420a392433row0_col1\" class=\"data row0 col1\" >16.2</td>\n",
       "            </tr>\n",
       "            <tr>\n",
       "                        <th id=\"T_790c26de_0d84_11ec_85fa_02420a392433level0_row1\" class=\"row_heading level0 row1\" >0</th>\n",
       "                        <td id=\"T_790c26de_0d84_11ec_85fa_02420a392433row1_col0\" class=\"data row1 col0\" >Добавить два новых канала привлечения трафика, что позволит привлекать на 30% больше пользователей</td>\n",
       "                        <td id=\"T_790c26de_0d84_11ec_85fa_02420a392433row1_col1\" class=\"data row1 col1\" >13.3</td>\n",
       "            </tr>\n",
       "            <tr>\n",
       "                        <th id=\"T_790c26de_0d84_11ec_85fa_02420a392433level0_row2\" class=\"row_heading level0 row2\" >7</th>\n",
       "                        <td id=\"T_790c26de_0d84_11ec_85fa_02420a392433row2_col0\" class=\"data row2 col0\" >Добавить форму подписки на все основные страницы, чтобы собрать базу клиентов для email-рассылок</td>\n",
       "                        <td id=\"T_790c26de_0d84_11ec_85fa_02420a392433row2_col1\" class=\"data row2 col1\" >11.2</td>\n",
       "            </tr>\n",
       "            <tr>\n",
       "                        <th id=\"T_790c26de_0d84_11ec_85fa_02420a392433level0_row3\" class=\"row_heading level0 row3\" >6</th>\n",
       "                        <td id=\"T_790c26de_0d84_11ec_85fa_02420a392433row3_col0\" class=\"data row3 col0\" >Показать на главной странице баннеры с актуальными акциями и распродажами, чтобы увеличить конверсию</td>\n",
       "                        <td id=\"T_790c26de_0d84_11ec_85fa_02420a392433row3_col1\" class=\"data row3 col1\" >8.0</td>\n",
       "            </tr>\n",
       "            <tr>\n",
       "                        <th id=\"T_790c26de_0d84_11ec_85fa_02420a392433level0_row4\" class=\"row_heading level0 row4\" >2</th>\n",
       "                        <td id=\"T_790c26de_0d84_11ec_85fa_02420a392433row4_col0\" class=\"data row4 col0\" >Добавить блоки рекомендаций товаров на сайт интернет магазина, чтобы повысить конверсию и средний чек заказа</td>\n",
       "                        <td id=\"T_790c26de_0d84_11ec_85fa_02420a392433row4_col1\" class=\"data row4 col1\" >7.0</td>\n",
       "            </tr>\n",
       "            <tr>\n",
       "                        <th id=\"T_790c26de_0d84_11ec_85fa_02420a392433level0_row5\" class=\"row_heading level0 row5\" >1</th>\n",
       "                        <td id=\"T_790c26de_0d84_11ec_85fa_02420a392433row5_col0\" class=\"data row5 col0\" >Запустить собственную службу доставки, что сократит срок доставки заказов</td>\n",
       "                        <td id=\"T_790c26de_0d84_11ec_85fa_02420a392433row5_col1\" class=\"data row5 col1\" >2.0</td>\n",
       "            </tr>\n",
       "            <tr>\n",
       "                        <th id=\"T_790c26de_0d84_11ec_85fa_02420a392433level0_row6\" class=\"row_heading level0 row6\" >5</th>\n",
       "                        <td id=\"T_790c26de_0d84_11ec_85fa_02420a392433row6_col0\" class=\"data row6 col0\" >Добавить страницу отзывов клиентов о магазине, что позволит увеличить количество заказов</td>\n",
       "                        <td id=\"T_790c26de_0d84_11ec_85fa_02420a392433row6_col1\" class=\"data row6 col1\" >1.33</td>\n",
       "            </tr>\n",
       "            <tr>\n",
       "                        <th id=\"T_790c26de_0d84_11ec_85fa_02420a392433level0_row7\" class=\"row_heading level0 row7\" >3</th>\n",
       "                        <td id=\"T_790c26de_0d84_11ec_85fa_02420a392433row7_col0\" class=\"data row7 col0\" >Изменить структура категорий, что увеличит конверсию, т.к. пользователи быстрее найдут нужный товар</td>\n",
       "                        <td id=\"T_790c26de_0d84_11ec_85fa_02420a392433row7_col1\" class=\"data row7 col1\" >1.12</td>\n",
       "            </tr>\n",
       "            <tr>\n",
       "                        <th id=\"T_790c26de_0d84_11ec_85fa_02420a392433level0_row8\" class=\"row_heading level0 row8\" >4</th>\n",
       "                        <td id=\"T_790c26de_0d84_11ec_85fa_02420a392433row8_col0\" class=\"data row8 col0\" >Изменить цвет фона главной страницы, чтобы увеличить вовлеченность пользователей</td>\n",
       "                        <td id=\"T_790c26de_0d84_11ec_85fa_02420a392433row8_col1\" class=\"data row8 col1\" >1.0</td>\n",
       "            </tr>\n",
       "    </tbody></table>"
      ],
      "text/plain": [
       "<pandas.io.formats.style.Styler at 0x7fa9957cc690>"
      ]
     },
     "metadata": {},
     "output_type": "display_data"
    }
   ],
   "source": [
    "hypothesis['ICE'] = (hypothesis['impact'] * hypothesis['confidence']) / hypothesis['efforts']\n",
    "display(hypothesis[['hypothesis', 'ICE']].sort_values(by='ICE', ascending=False)\\\n",
    "       .style.format({'ICE':'{:.3}'}).bar(subset=['ICE',], color='lightblue')\\\n",
    "       .set_caption('ICE'))"
   ]
  },
  {
   "cell_type": "markdown",
   "metadata": {},
   "source": [
    "Рассмотрим приоретизацию способом RICE - охват, влияние, уверенность, простота:"
   ]
  },
  {
   "cell_type": "code",
   "execution_count": 7,
   "metadata": {},
   "outputs": [
    {
     "data": {
      "text/html": [
       "<style  type=\"text/css\" >\n",
       "    #T_792ec2b6_0d84_11ec_85fa_02420a392433row0_col1 {\n",
       "            width:  10em;\n",
       "             height:  80%;\n",
       "            background:  linear-gradient(90deg,lightblue 100.0%, transparent 100.0%);\n",
       "        }    #T_792ec2b6_0d84_11ec_85fa_02420a392433row1_col1 {\n",
       "            width:  10em;\n",
       "             height:  80%;\n",
       "            background:  linear-gradient(90deg,lightblue 48.6%, transparent 48.6%);\n",
       "        }    #T_792ec2b6_0d84_11ec_85fa_02420a392433row2_col1 {\n",
       "            width:  10em;\n",
       "             height:  80%;\n",
       "            background:  linear-gradient(90deg,lightblue 33.9%, transparent 33.9%);\n",
       "        }    #T_792ec2b6_0d84_11ec_85fa_02420a392433row3_col1 {\n",
       "            width:  10em;\n",
       "             height:  80%;\n",
       "            background:  linear-gradient(90deg,lightblue 33.9%, transparent 33.9%);\n",
       "        }    #T_792ec2b6_0d84_11ec_85fa_02420a392433row4_col1 {\n",
       "            width:  10em;\n",
       "             height:  80%;\n",
       "            background:  linear-gradient(90deg,lightblue 12.1%, transparent 12.1%);\n",
       "        }    #T_792ec2b6_0d84_11ec_85fa_02420a392433row5_col1 {\n",
       "            width:  10em;\n",
       "             height:  80%;\n",
       "            background:  linear-gradient(90deg,lightblue 5.5%, transparent 5.5%);\n",
       "        }    #T_792ec2b6_0d84_11ec_85fa_02420a392433row6_col1 {\n",
       "            width:  10em;\n",
       "             height:  80%;\n",
       "            background:  linear-gradient(90deg,lightblue 0.9%, transparent 0.9%);\n",
       "        }    #T_792ec2b6_0d84_11ec_85fa_02420a392433row7_col1 {\n",
       "            width:  10em;\n",
       "             height:  80%;\n",
       "            background:  linear-gradient(90deg,lightblue 0.9%, transparent 0.9%);\n",
       "        }    #T_792ec2b6_0d84_11ec_85fa_02420a392433row8_col1 {\n",
       "            width:  10em;\n",
       "             height:  80%;\n",
       "        }</style><table id=\"T_792ec2b6_0d84_11ec_85fa_02420a392433\" ><caption>RICE</caption><thead>    <tr>        <th class=\"blank level0\" ></th>        <th class=\"col_heading level0 col0\" >hypothesis</th>        <th class=\"col_heading level0 col1\" >RICE</th>    </tr></thead><tbody>\n",
       "                <tr>\n",
       "                        <th id=\"T_792ec2b6_0d84_11ec_85fa_02420a392433level0_row0\" class=\"row_heading level0 row0\" >7</th>\n",
       "                        <td id=\"T_792ec2b6_0d84_11ec_85fa_02420a392433row0_col0\" class=\"data row0 col0\" >Добавить форму подписки на все основные страницы, чтобы собрать базу клиентов для email-рассылок</td>\n",
       "                        <td id=\"T_792ec2b6_0d84_11ec_85fa_02420a392433row0_col1\" class=\"data row0 col1\" >112.0</td>\n",
       "            </tr>\n",
       "            <tr>\n",
       "                        <th id=\"T_792ec2b6_0d84_11ec_85fa_02420a392433level0_row1\" class=\"row_heading level0 row1\" >2</th>\n",
       "                        <td id=\"T_792ec2b6_0d84_11ec_85fa_02420a392433row1_col0\" class=\"data row1 col0\" >Добавить блоки рекомендаций товаров на сайт интернет магазина, чтобы повысить конверсию и средний чек заказа</td>\n",
       "                        <td id=\"T_792ec2b6_0d84_11ec_85fa_02420a392433row1_col1\" class=\"data row1 col1\" >56.0</td>\n",
       "            </tr>\n",
       "            <tr>\n",
       "                        <th id=\"T_792ec2b6_0d84_11ec_85fa_02420a392433level0_row2\" class=\"row_heading level0 row2\" >0</th>\n",
       "                        <td id=\"T_792ec2b6_0d84_11ec_85fa_02420a392433row2_col0\" class=\"data row2 col0\" >Добавить два новых канала привлечения трафика, что позволит привлекать на 30% больше пользователей</td>\n",
       "                        <td id=\"T_792ec2b6_0d84_11ec_85fa_02420a392433row2_col1\" class=\"data row2 col1\" >40.0</td>\n",
       "            </tr>\n",
       "            <tr>\n",
       "                        <th id=\"T_792ec2b6_0d84_11ec_85fa_02420a392433level0_row3\" class=\"row_heading level0 row3\" >6</th>\n",
       "                        <td id=\"T_792ec2b6_0d84_11ec_85fa_02420a392433row3_col0\" class=\"data row3 col0\" >Показать на главной странице баннеры с актуальными акциями и распродажами, чтобы увеличить конверсию</td>\n",
       "                        <td id=\"T_792ec2b6_0d84_11ec_85fa_02420a392433row3_col1\" class=\"data row3 col1\" >40.0</td>\n",
       "            </tr>\n",
       "            <tr>\n",
       "                        <th id=\"T_792ec2b6_0d84_11ec_85fa_02420a392433level0_row4\" class=\"row_heading level0 row4\" >8</th>\n",
       "                        <td id=\"T_792ec2b6_0d84_11ec_85fa_02420a392433row4_col0\" class=\"data row4 col0\" >Запустить акцию, дающую скидку на товар в день рождения</td>\n",
       "                        <td id=\"T_792ec2b6_0d84_11ec_85fa_02420a392433row4_col1\" class=\"data row4 col1\" >16.2</td>\n",
       "            </tr>\n",
       "            <tr>\n",
       "                        <th id=\"T_792ec2b6_0d84_11ec_85fa_02420a392433level0_row5\" class=\"row_heading level0 row5\" >3</th>\n",
       "                        <td id=\"T_792ec2b6_0d84_11ec_85fa_02420a392433row5_col0\" class=\"data row5 col0\" >Изменить структура категорий, что увеличит конверсию, т.к. пользователи быстрее найдут нужный товар</td>\n",
       "                        <td id=\"T_792ec2b6_0d84_11ec_85fa_02420a392433row5_col1\" class=\"data row5 col1\" >9.0</td>\n",
       "            </tr>\n",
       "            <tr>\n",
       "                        <th id=\"T_792ec2b6_0d84_11ec_85fa_02420a392433level0_row6\" class=\"row_heading level0 row6\" >1</th>\n",
       "                        <td id=\"T_792ec2b6_0d84_11ec_85fa_02420a392433row6_col0\" class=\"data row6 col0\" >Запустить собственную службу доставки, что сократит срок доставки заказов</td>\n",
       "                        <td id=\"T_792ec2b6_0d84_11ec_85fa_02420a392433row6_col1\" class=\"data row6 col1\" >4.0</td>\n",
       "            </tr>\n",
       "            <tr>\n",
       "                        <th id=\"T_792ec2b6_0d84_11ec_85fa_02420a392433level0_row7\" class=\"row_heading level0 row7\" >5</th>\n",
       "                        <td id=\"T_792ec2b6_0d84_11ec_85fa_02420a392433row7_col0\" class=\"data row7 col0\" >Добавить страницу отзывов клиентов о магазине, что позволит увеличить количество заказов</td>\n",
       "                        <td id=\"T_792ec2b6_0d84_11ec_85fa_02420a392433row7_col1\" class=\"data row7 col1\" >4.0</td>\n",
       "            </tr>\n",
       "            <tr>\n",
       "                        <th id=\"T_792ec2b6_0d84_11ec_85fa_02420a392433level0_row8\" class=\"row_heading level0 row8\" >4</th>\n",
       "                        <td id=\"T_792ec2b6_0d84_11ec_85fa_02420a392433row8_col0\" class=\"data row8 col0\" >Изменить цвет фона главной страницы, чтобы увеличить вовлеченность пользователей</td>\n",
       "                        <td id=\"T_792ec2b6_0d84_11ec_85fa_02420a392433row8_col1\" class=\"data row8 col1\" >3.0</td>\n",
       "            </tr>\n",
       "    </tbody></table>"
      ],
      "text/plain": [
       "<pandas.io.formats.style.Styler at 0x7fa916370d50>"
      ]
     },
     "metadata": {},
     "output_type": "display_data"
    }
   ],
   "source": [
    "hypothesis['RICE'] = (hypothesis['reach'] * hypothesis['impact'] * hypothesis['confidence']) / hypothesis['efforts']\n",
    "display(hypothesis[['hypothesis', 'RICE']].sort_values(by='RICE', ascending=False)\\\n",
    "       .style.format({'RICE':'{:.4}'}).bar(subset=['RICE',], color='lightblue')\\\n",
    "       .set_caption('RICE'))"
   ]
  },
  {
   "cell_type": "markdown",
   "metadata": {},
   "source": [
    "Вывод: наиболее перспетивные гипотезы по ICE: 8, 0, 7. По RICE наиболее перспективные гипотезы 7, 2, 0, 6. Но на первом месте уже 7 гипотеза, так получилось потому что ее параметр Reach (скольких пользователей затронет изменение) равен 10, в то время как у других гипотез он меньше. Согласно проведенной приоритезации наиболее перспеткивной является гипотеза 7 (добавить форму подписки на все основные страницы, чтобы собрать базу клиентов для email-рассылок) так как она затронет большее количество пользователей и гипотеза 0.\t "
   ]
  },
  {
   "cell_type": "markdown",
   "metadata": {},
   "source": [
    "## Часть 2. Анализ А/В - теста."
   ]
  },
  {
   "cell_type": "code",
   "execution_count": 8,
   "metadata": {},
   "outputs": [],
   "source": [
    "orders = pd.read_csv('/datasets/orders.csv', sep=',')\n",
    "visitors = pd.read_csv('/datasets/visitors.csv', sep=',')"
   ]
  },
  {
   "cell_type": "markdown",
   "metadata": {},
   "source": [
    "                                               Таблица orders"
   ]
  },
  {
   "cell_type": "code",
   "execution_count": 9,
   "metadata": {},
   "outputs": [
    {
     "data": {
      "text/html": [
       "<div>\n",
       "<style scoped>\n",
       "    .dataframe tbody tr th:only-of-type {\n",
       "        vertical-align: middle;\n",
       "    }\n",
       "\n",
       "    .dataframe tbody tr th {\n",
       "        vertical-align: top;\n",
       "    }\n",
       "\n",
       "    .dataframe thead th {\n",
       "        text-align: right;\n",
       "    }\n",
       "</style>\n",
       "<table border=\"1\" class=\"dataframe\">\n",
       "  <thead>\n",
       "    <tr style=\"text-align: right;\">\n",
       "      <th></th>\n",
       "      <th>transactionId</th>\n",
       "      <th>visitorId</th>\n",
       "      <th>date</th>\n",
       "      <th>revenue</th>\n",
       "      <th>group</th>\n",
       "    </tr>\n",
       "  </thead>\n",
       "  <tbody>\n",
       "    <tr>\n",
       "      <td>0</td>\n",
       "      <td>3667963787</td>\n",
       "      <td>3312258926</td>\n",
       "      <td>2019-08-15</td>\n",
       "      <td>1650</td>\n",
       "      <td>B</td>\n",
       "    </tr>\n",
       "    <tr>\n",
       "      <td>1</td>\n",
       "      <td>2804400009</td>\n",
       "      <td>3642806036</td>\n",
       "      <td>2019-08-15</td>\n",
       "      <td>730</td>\n",
       "      <td>B</td>\n",
       "    </tr>\n",
       "    <tr>\n",
       "      <td>2</td>\n",
       "      <td>2961555356</td>\n",
       "      <td>4069496402</td>\n",
       "      <td>2019-08-15</td>\n",
       "      <td>400</td>\n",
       "      <td>A</td>\n",
       "    </tr>\n",
       "    <tr>\n",
       "      <td>3</td>\n",
       "      <td>3797467345</td>\n",
       "      <td>1196621759</td>\n",
       "      <td>2019-08-15</td>\n",
       "      <td>9759</td>\n",
       "      <td>B</td>\n",
       "    </tr>\n",
       "    <tr>\n",
       "      <td>4</td>\n",
       "      <td>2282983706</td>\n",
       "      <td>2322279887</td>\n",
       "      <td>2019-08-15</td>\n",
       "      <td>2308</td>\n",
       "      <td>B</td>\n",
       "    </tr>\n",
       "  </tbody>\n",
       "</table>\n",
       "</div>"
      ],
      "text/plain": [
       "   transactionId   visitorId        date  revenue group\n",
       "0  3667963787     3312258926  2019-08-15  1650     B   \n",
       "1  2804400009     3642806036  2019-08-15  730      B   \n",
       "2  2961555356     4069496402  2019-08-15  400      A   \n",
       "3  3797467345     1196621759  2019-08-15  9759     B   \n",
       "4  2282983706     2322279887  2019-08-15  2308     B   "
      ]
     },
     "execution_count": 9,
     "metadata": {},
     "output_type": "execute_result"
    }
   ],
   "source": [
    "orders.head()"
   ]
  },
  {
   "cell_type": "code",
   "execution_count": 10,
   "metadata": {},
   "outputs": [
    {
     "name": "stdout",
     "output_type": "stream",
     "text": [
      "<class 'pandas.core.frame.DataFrame'>\n",
      "RangeIndex: 1197 entries, 0 to 1196\n",
      "Data columns (total 5 columns):\n",
      "transactionId    1197 non-null int64\n",
      "visitorId        1197 non-null int64\n",
      "date             1197 non-null object\n",
      "revenue          1197 non-null int64\n",
      "group            1197 non-null object\n",
      "dtypes: int64(3), object(2)\n",
      "memory usage: 46.9+ KB\n"
     ]
    }
   ],
   "source": [
    "orders.info()"
   ]
  },
  {
   "cell_type": "code",
   "execution_count": 11,
   "metadata": {},
   "outputs": [
    {
     "data": {
      "text/plain": [
       "transactionId    0\n",
       "visitorId        0\n",
       "date             0\n",
       "revenue          0\n",
       "group            0\n",
       "dtype: int64"
      ]
     },
     "execution_count": 11,
     "metadata": {},
     "output_type": "execute_result"
    }
   ],
   "source": [
    "orders.isna().sum()"
   ]
  },
  {
   "cell_type": "code",
   "execution_count": 12,
   "metadata": {},
   "outputs": [
    {
     "data": {
      "text/plain": [
       "0"
      ]
     },
     "execution_count": 12,
     "metadata": {},
     "output_type": "execute_result"
    }
   ],
   "source": [
    "orders.duplicated().sum()"
   ]
  },
  {
   "cell_type": "markdown",
   "metadata": {},
   "source": [
    "                                             Таблица visitors"
   ]
  },
  {
   "cell_type": "code",
   "execution_count": 13,
   "metadata": {},
   "outputs": [
    {
     "data": {
      "text/html": [
       "<div>\n",
       "<style scoped>\n",
       "    .dataframe tbody tr th:only-of-type {\n",
       "        vertical-align: middle;\n",
       "    }\n",
       "\n",
       "    .dataframe tbody tr th {\n",
       "        vertical-align: top;\n",
       "    }\n",
       "\n",
       "    .dataframe thead th {\n",
       "        text-align: right;\n",
       "    }\n",
       "</style>\n",
       "<table border=\"1\" class=\"dataframe\">\n",
       "  <thead>\n",
       "    <tr style=\"text-align: right;\">\n",
       "      <th></th>\n",
       "      <th>date</th>\n",
       "      <th>group</th>\n",
       "      <th>visitors</th>\n",
       "    </tr>\n",
       "  </thead>\n",
       "  <tbody>\n",
       "    <tr>\n",
       "      <td>57</td>\n",
       "      <td>2019-08-27</td>\n",
       "      <td>B</td>\n",
       "      <td>720</td>\n",
       "    </tr>\n",
       "    <tr>\n",
       "      <td>58</td>\n",
       "      <td>2019-08-28</td>\n",
       "      <td>B</td>\n",
       "      <td>654</td>\n",
       "    </tr>\n",
       "    <tr>\n",
       "      <td>59</td>\n",
       "      <td>2019-08-29</td>\n",
       "      <td>B</td>\n",
       "      <td>531</td>\n",
       "    </tr>\n",
       "    <tr>\n",
       "      <td>60</td>\n",
       "      <td>2019-08-30</td>\n",
       "      <td>B</td>\n",
       "      <td>490</td>\n",
       "    </tr>\n",
       "    <tr>\n",
       "      <td>61</td>\n",
       "      <td>2019-08-31</td>\n",
       "      <td>B</td>\n",
       "      <td>718</td>\n",
       "    </tr>\n",
       "  </tbody>\n",
       "</table>\n",
       "</div>"
      ],
      "text/plain": [
       "          date group  visitors\n",
       "57  2019-08-27  B     720     \n",
       "58  2019-08-28  B     654     \n",
       "59  2019-08-29  B     531     \n",
       "60  2019-08-30  B     490     \n",
       "61  2019-08-31  B     718     "
      ]
     },
     "execution_count": 13,
     "metadata": {},
     "output_type": "execute_result"
    }
   ],
   "source": [
    "visitors.tail()"
   ]
  },
  {
   "cell_type": "code",
   "execution_count": 14,
   "metadata": {},
   "outputs": [
    {
     "name": "stdout",
     "output_type": "stream",
     "text": [
      "<class 'pandas.core.frame.DataFrame'>\n",
      "RangeIndex: 62 entries, 0 to 61\n",
      "Data columns (total 3 columns):\n",
      "date        62 non-null object\n",
      "group       62 non-null object\n",
      "visitors    62 non-null int64\n",
      "dtypes: int64(1), object(2)\n",
      "memory usage: 1.6+ KB\n"
     ]
    }
   ],
   "source": [
    "visitors.info()"
   ]
  },
  {
   "cell_type": "code",
   "execution_count": 15,
   "metadata": {},
   "outputs": [
    {
     "data": {
      "text/plain": [
       "date        0\n",
       "group       0\n",
       "visitors    0\n",
       "dtype: int64"
      ]
     },
     "execution_count": 15,
     "metadata": {},
     "output_type": "execute_result"
    }
   ],
   "source": [
    "visitors.isna().sum()"
   ]
  },
  {
   "cell_type": "code",
   "execution_count": 16,
   "metadata": {},
   "outputs": [
    {
     "data": {
      "text/plain": [
       "0"
      ]
     },
     "execution_count": 16,
     "metadata": {},
     "output_type": "execute_result"
    }
   ],
   "source": [
    "visitors.duplicated().sum()"
   ]
  },
  {
   "cell_type": "markdown",
   "metadata": {},
   "source": [
    "Проверим равенство групп А и В"
   ]
  },
  {
   "cell_type": "code",
   "execution_count": 17,
   "metadata": {},
   "outputs": [
    {
     "name": "stdout",
     "output_type": "stream",
     "text": [
      "Число визитов группа А = 18736\n",
      "Число визитов группа B = 18916\n"
     ]
    }
   ],
   "source": [
    "print('Число визитов группа А = {0:.0f}'.format(visitors[visitors['group']=='A']['visitors'].sum()))\n",
    "print('Число визитов группа B = {0:.0f}'.format(visitors[visitors['group']=='B']['visitors'].sum()))"
   ]
  },
  {
   "cell_type": "markdown",
   "metadata": {},
   "source": [
    "Разница между группами чуть менее 1%, это допустимое отклонение. "
   ]
  },
  {
   "cell_type": "markdown",
   "metadata": {},
   "source": [
    "Проверим количество посетителей попавших в обе группы "
   ]
  },
  {
   "cell_type": "code",
   "execution_count": 18,
   "metadata": {},
   "outputs": [
    {
     "data": {
      "text/plain": [
       "group    58\n",
       "dtype: int64"
      ]
     },
     "execution_count": 18,
     "metadata": {},
     "output_type": "execute_result"
    }
   ],
   "source": [
    "orders.groupby('visitorId').agg({'group':'nunique'}).query('group == 2').count()"
   ]
  },
  {
   "cell_type": "markdown",
   "metadata": {},
   "source": [
    "Имеем 58 пользователей, которые состоят в группе А и В. Это ошибка и надо сообщить разработчикам, чтобы они правили систему распределения пользователей по группам. Преподаватель сказал, что в этом проекте их исключать не нужно, поэтому дальнейший анализ продолжим с ними."
   ]
  },
  {
   "cell_type": "markdown",
   "metadata": {},
   "source": [
    "Вывод: данные проверены, пропуски, дубликаты отсутствуют. Присутствует несоответствие типа данных в обоих таблицах в столбцах date, приведем их в нужный формат ниже."
   ]
  },
  {
   "cell_type": "markdown",
   "metadata": {},
   "source": [
    " ### График кумулятивной выручки по группам"
   ]
  },
  {
   "cell_type": "markdown",
   "metadata": {},
   "source": [
    "Создадим массив уникальных пар значений дат и групп теста"
   ]
  },
  {
   "cell_type": "code",
   "execution_count": 19,
   "metadata": {},
   "outputs": [],
   "source": [
    "orders['date'] = orders['date'].map(lambda x: dt.datetime.strptime(x, '%Y-%m-%d'))\n",
    "visitors['date'] = visitors['date'].map(lambda x: dt.datetime.strptime(x, '%Y-%m-%d'))"
   ]
  },
  {
   "cell_type": "code",
   "execution_count": 20,
   "metadata": {},
   "outputs": [],
   "source": [
    "datesGroups = orders[['date','group']].drop_duplicates()"
   ]
  },
  {
   "cell_type": "markdown",
   "metadata": {},
   "source": [
    "Получим агрегированные кумулятивные по дням данные о заказах"
   ]
  },
  {
   "cell_type": "code",
   "execution_count": 21,
   "metadata": {},
   "outputs": [],
   "source": [
    "ordersAggregated = datesGroups.apply(lambda x: orders[np.logical_and(orders['date'] <= x['date'],\\\n",
    "                                                                     orders['group'] == x['group'])]\\\n",
    "                                    .agg({'date' : 'max', 'group' : 'max', 'transactionId' : pd.Series.nunique,\\\n",
    "                                          'visitorId' : pd.Series.nunique, 'revenue' : 'sum'}), axis=1)\\\n",
    "                               .sort_values(by=['date','group'])"
   ]
  },
  {
   "cell_type": "markdown",
   "metadata": {},
   "source": [
    "Получим агрегированные кумулятивные по дням данные о посетителях интернет-магазина "
   ]
  },
  {
   "cell_type": "code",
   "execution_count": 22,
   "metadata": {},
   "outputs": [],
   "source": [
    "visitorsAggregated = datesGroups.apply(lambda x: visitors[np.logical_and(visitors['date'] <= x['date'],\\\n",
    "                                                                         visitors['group'] == x['group'])]\\\n",
    "                                       .agg({'date' : 'max', 'group' : 'max', 'visitors' : 'sum'}), axis=1)\\\n",
    "                                .sort_values(by=['date','group'])"
   ]
  },
  {
   "cell_type": "markdown",
   "metadata": {},
   "source": [
    "Объединяем кумулятивные данные в одной таблице и присваиваем ее столбцам понятные названия"
   ]
  },
  {
   "cell_type": "code",
   "execution_count": 23,
   "metadata": {},
   "outputs": [],
   "source": [
    "cumulativeData = ordersAggregated.merge(visitorsAggregated, left_on = ['date', 'group'], right_on = ['date', 'group'])\n",
    "cumulativeData.columns = ['date', 'group', 'orders', 'buyers', 'revenue', 'visitors']"
   ]
  },
  {
   "cell_type": "markdown",
   "metadata": {},
   "source": [
    "Построим графики кумулятивной выручки по группам A/B-тестирования:"
   ]
  },
  {
   "cell_type": "code",
   "execution_count": 24,
   "metadata": {},
   "outputs": [],
   "source": [
    "cumulativeRevenueA = cumulativeData[cumulativeData['group'] == 'A'][['date', 'revenue', 'orders']]"
   ]
  },
  {
   "cell_type": "code",
   "execution_count": 25,
   "metadata": {},
   "outputs": [],
   "source": [
    "cumulativeRevenueB = cumulativeData[cumulativeData['group'] == 'B'][['date', 'revenue', 'orders']]"
   ]
  },
  {
   "cell_type": "markdown",
   "metadata": {},
   "source": [
    "<a id='1'></a> "
   ]
  },
  {
   "cell_type": "code",
   "execution_count": 26,
   "metadata": {},
   "outputs": [
    {
     "data": {
      "image/png": "[encoded data removed]",
      "text/plain": [
       "<Figure size 864x432 with 1 Axes>"
      ]
     },
     "metadata": {
      "needs_background": "light"
     },
     "output_type": "display_data"
    }
   ],
   "source": [
    "plt.figure(figsize = (12, 6))\n",
    "plt.plot(cumulativeRevenueA['date'], cumulativeRevenueA['revenue'], label = 'A')\n",
    "plt.plot(cumulativeRevenueB['date'], cumulativeRevenueB['revenue'], label = 'B')\n",
    "plt.xlabel('Дата', color = \"grey\")\n",
    "plt.ylabel('Кумулятивная выручка', color = \"grey\")\n",
    "plt.title('График кумулятивной выручки по группам', color = \"grey\")\n",
    "plt.xticks(rotation=45)\n",
    "plt.legend();"
   ]
  },
  {
   "cell_type": "markdown",
   "metadata": {},
   "source": [
    "Выручка почти равномерно увеличивается в течение всего теста.Однако график группы В имеет резкий рост, это может говорить о появлении дорогих заказов или всплеске числа заказов. "
   ]
  },
  {
   "cell_type": "markdown",
   "metadata": {},
   "source": [
    "### График кумулятивного среднего чека по группам"
   ]
  },
  {
   "cell_type": "markdown",
   "metadata": {},
   "source": [
    "<a id='2'></a> "
   ]
  },
  {
   "cell_type": "code",
   "execution_count": 27,
   "metadata": {},
   "outputs": [
    {
     "data": {
      "image/png": "[encoded data removed]",
      "text/plain": [
       "<Figure size 864x432 with 1 Axes>"
      ]
     },
     "metadata": {
      "needs_background": "light"
     },
     "output_type": "display_data"
    }
   ],
   "source": [
    "plt.figure(figsize = (12, 6))\n",
    "plt.plot(cumulativeRevenueA['date'], cumulativeRevenueA['revenue']/cumulativeRevenueA['orders'], label='A')\n",
    "plt.plot(cumulativeRevenueB['date'], cumulativeRevenueB['revenue']/cumulativeRevenueB['orders'], label='B')\n",
    "plt.xlabel('Дата', color = \"grey\")\n",
    "plt.ylabel('Кумулятивный средний чек ', color = \"grey\")\n",
    "plt.title('График кумулятивного среднего чека по группам', color = \"grey\")\n",
    "plt.xticks(rotation=45)\n",
    "plt.legend(); "
   ]
  },
  {
   "cell_type": "markdown",
   "metadata": {},
   "source": [
    "Наблюдаем рост среднего чека для группы А и его дальнейшую стабилизацию, у группы В график имеет больше всплесков. Возможно в группу В попали крупные заказы."
   ]
  },
  {
   "cell_type": "markdown",
   "metadata": {},
   "source": [
    "### График относительного изменения кумулятивного среднего чека группы B к группе A"
   ]
  },
  {
   "cell_type": "markdown",
   "metadata": {},
   "source": [
    "Собираем данные в одном датафрейме."
   ]
  },
  {
   "cell_type": "code",
   "execution_count": 29,
   "metadata": {},
   "outputs": [],
   "source": [
    "mergedCumulativeRevenue = cumulativeRevenueA.merge(cumulativeRevenueB, left_on = 'date',\\\n",
    "                                                   right_on = 'date', how = 'left', suffixes = ['A', 'B'])"
   ]
  },
  {
   "cell_type": "markdown",
   "metadata": {},
   "source": [
    "<a id='3'></a> "
   ]
  },
  {
   "cell_type": "code",
   "execution_count": 30,
   "metadata": {},
   "outputs": [
    {
     "data": {
      "image/png": "[encoded data removed]",
      "text/plain": [
       "<Figure size 864x432 with 1 Axes>"
      ]
     },
     "metadata": {
      "needs_background": "light"
     },
     "output_type": "display_data"
    }
   ],
   "source": [
    "plt.figure(figsize = (12, 6))\n",
    "plt.plot(mergedCumulativeRevenue['date'], (mergedCumulativeRevenue['revenueB'] / mergedCumulativeRevenue['ordersB']) /\\\n",
    "         (mergedCumulativeRevenue['revenueA']  /mergedCumulativeRevenue['ordersA']) - 1)\n",
    "plt.xlabel('Дата', color = \"grey\")\n",
    "plt.title('График относительного изменения кумулятивного среднего чека группы В к группе А', color = \"grey\")\n",
    "plt.xticks(rotation = 45)\n",
    "plt.axhline(y = 0, color = 'black', linestyle = '--'); "
   ]
  },
  {
   "cell_type": "markdown",
   "metadata": {},
   "source": [
    "В нескольких точках график различия между сегментами резко меняется. Вероятно это крупные заказы и выбросы."
   ]
  },
  {
   "cell_type": "markdown",
   "metadata": {},
   "source": [
    "### График кумулятивной конверсии по группам"
   ]
  },
  {
   "cell_type": "markdown",
   "metadata": {},
   "source": [
    "Считаем кумулятивную конверсию."
   ]
  },
  {
   "cell_type": "code",
   "execution_count": 31,
   "metadata": {},
   "outputs": [],
   "source": [
    "cumulativeData['conversion'] = cumulativeData['orders'] / cumulativeData['visitors']"
   ]
  },
  {
   "cell_type": "markdown",
   "metadata": {},
   "source": [
    "Отделяем данные по группе А и группе В."
   ]
  },
  {
   "cell_type": "code",
   "execution_count": 32,
   "metadata": {},
   "outputs": [],
   "source": [
    "cumulativeDataA = cumulativeData[cumulativeData['group'] == 'A']\n",
    "cumulativeDataB = cumulativeData[cumulativeData['group'] == 'B']"
   ]
  },
  {
   "cell_type": "markdown",
   "metadata": {},
   "source": [
    "<a id='4'></a> "
   ]
  },
  {
   "cell_type": "code",
   "execution_count": 33,
   "metadata": {},
   "outputs": [
    {
     "data": {
      "image/png": "[encoded data removed]",
      "text/plain": [
       "<Figure size 864x432 with 1 Axes>"
      ]
     },
     "metadata": {
      "needs_background": "light"
     },
     "output_type": "display_data"
    }
   ],
   "source": [
    "plt.figure(figsize = (12, 6))\n",
    "plt.plot(cumulativeDataA['date'], cumulativeDataA['conversion'], label = 'A')\n",
    "plt.plot(cumulativeDataB['date'], cumulativeDataB['conversion'], label = 'B')\n",
    "plt.xlabel('Дата', color = \"grey\")\n",
    "plt.ylabel('Кумулятивная конверсия', color = \"grey\")\n",
    "plt.title('График кумулятивной конверсии по группам', color = \"grey\")\n",
    "plt.xticks(rotation = 45)\n",
    "plt.legend();"
   ]
  },
  {
   "cell_type": "markdown",
   "metadata": {},
   "source": [
    "Получился почти симмитричный график, конверсия группы В выше, хотя по началу лирдировала группа А. "
   ]
  },
  {
   "cell_type": "markdown",
   "metadata": {},
   "source": [
    "### График относительного изменения кумулятивной конверсии группы B к группе A"
   ]
  },
  {
   "cell_type": "markdown",
   "metadata": {},
   "source": [
    "<a id='5'></a> "
   ]
  },
  {
   "cell_type": "code",
   "execution_count": 34,
   "metadata": {},
   "outputs": [
    {
     "data": {
      "image/png": "[encoded data removed]",
      "text/plain": [
       "<Figure size 864x432 with 1 Axes>"
      ]
     },
     "metadata": {
      "needs_background": "light"
     },
     "output_type": "display_data"
    }
   ],
   "source": [
    "mergedCumulativeConversions = cumulativeDataA[['date','conversion']]\\\n",
    "                                             .merge(cumulativeDataB[['date','conversion']],\\\n",
    "                                              left_on = 'date', right_on = 'date', how = 'left', suffixes = ['A', 'B'])\n",
    "plt.figure(figsize = (12, 6))\n",
    "plt.plot(mergedCumulativeConversions['date'], mergedCumulativeConversions['conversionB']/\\\n",
    "         mergedCumulativeConversions['conversionA'] - 1, \\\n",
    "         label=\"Относительный прирост конверсии группы B относительно группы A\")\n",
    "\n",
    "plt.legend()\n",
    "plt.xlabel('Дата', color = \"grey\")\n",
    "plt.title('Относительный прирост конверсии группы B относительно группы A', color = \"grey\")\n",
    "plt.xticks(rotation = 45)\n",
    "plt.axis([\"2019-08-01\", '2019-09-01', -0.2, 0.3])\n",
    "plt.axhline(y = 0, color = 'black', linestyle = '--')\n",
    "plt.axhline(y = 0.1, color = 'grey', linestyle = '--');"
   ]
  },
  {
   "cell_type": "markdown",
   "metadata": {},
   "source": [
    "Почти с самого начала теста группа В лидирует по конверсии, показатель стабилизировался в районе 0.1 и потом пошел вверх о гарантированной стабилицаии пока говорить рано."
   ]
  },
  {
   "cell_type": "markdown",
   "metadata": {},
   "source": [
    "### Точечный график количества заказов по пользователям"
   ]
  },
  {
   "cell_type": "markdown",
   "metadata": {},
   "source": [
    "Подсчитаем количество заказов по пользователям. "
   ]
  },
  {
   "cell_type": "code",
   "execution_count": 35,
   "metadata": {},
   "outputs": [],
   "source": [
    "ordersByUsers = (orders.drop(['group', 'revenue', 'date'], axis=1).groupby('visitorId', as_index=False)\\\n",
    "                 .agg({'transactionId': pd.Series.nunique}))"
   ]
  },
  {
   "cell_type": "code",
   "execution_count": 36,
   "metadata": {},
   "outputs": [
    {
     "data": {
      "text/html": [
       "<div>\n",
       "<style scoped>\n",
       "    .dataframe tbody tr th:only-of-type {\n",
       "        vertical-align: middle;\n",
       "    }\n",
       "\n",
       "    .dataframe tbody tr th {\n",
       "        vertical-align: top;\n",
       "    }\n",
       "\n",
       "    .dataframe thead th {\n",
       "        text-align: right;\n",
       "    }\n",
       "</style>\n",
       "<table border=\"1\" class=\"dataframe\">\n",
       "  <thead>\n",
       "    <tr style=\"text-align: right;\">\n",
       "      <th></th>\n",
       "      <th>visitorId</th>\n",
       "      <th>orders</th>\n",
       "    </tr>\n",
       "  </thead>\n",
       "  <tbody>\n",
       "    <tr>\n",
       "      <td>1023</td>\n",
       "      <td>4256040402</td>\n",
       "      <td>11</td>\n",
       "    </tr>\n",
       "    <tr>\n",
       "      <td>591</td>\n",
       "      <td>2458001652</td>\n",
       "      <td>11</td>\n",
       "    </tr>\n",
       "    <tr>\n",
       "      <td>569</td>\n",
       "      <td>2378935119</td>\n",
       "      <td>9</td>\n",
       "    </tr>\n",
       "    <tr>\n",
       "      <td>487</td>\n",
       "      <td>2038680547</td>\n",
       "      <td>8</td>\n",
       "    </tr>\n",
       "    <tr>\n",
       "      <td>44</td>\n",
       "      <td>199603092</td>\n",
       "      <td>5</td>\n",
       "    </tr>\n",
       "  </tbody>\n",
       "</table>\n",
       "</div>"
      ],
      "text/plain": [
       "       visitorId  orders\n",
       "1023  4256040402  11    \n",
       "591   2458001652  11    \n",
       "569   2378935119  9     \n",
       "487   2038680547  8     \n",
       "44    199603092   5     "
      ]
     },
     "execution_count": 36,
     "metadata": {},
     "output_type": "execute_result"
    }
   ],
   "source": [
    "ordersByUsers.columns = ['visitorId', 'orders']\n",
    "ordersByUsers.sort_values(by='orders', ascending=False).head(5)"
   ]
  },
  {
   "cell_type": "markdown",
   "metadata": {},
   "source": [
    "<a id='6'></a> "
   ]
  },
  {
   "cell_type": "code",
   "execution_count": 37,
   "metadata": {},
   "outputs": [
    {
     "data": {
      "image/png": "[encoded data removed]",
      "text/plain": [
       "<Figure size 864x432 with 1 Axes>"
      ]
     },
     "metadata": {
      "needs_background": "light"
     },
     "output_type": "display_data"
    }
   ],
   "source": [
    "x_values = pd.Series(range(0,len(ordersByUsers)))\n",
    "plt.figure(figsize = (12, 6))\n",
    "plt.xlabel('Пользователи', color = \"grey\")\n",
    "plt.ylabel('Количество заказов', color = \"grey\")\n",
    "plt.title('Точечная диаграмма количества заказов на одного пользователя', color = \"grey\")\n",
    "plt.scatter(x_values, ordersByUsers['orders']); "
   ]
  },
  {
   "cell_type": "markdown",
   "metadata": {},
   "source": [
    "В основном пользователи совершают 1 покупку, но и есть фанаты по 11 покупок, также не мало тех кто и по 2 покупки делает."
   ]
  },
  {
   "cell_type": "markdown",
   "metadata": {},
   "source": [
    "### 95-й и 99-й перцентили количества заказов на пользователя"
   ]
  },
  {
   "cell_type": "code",
   "execution_count": 38,
   "metadata": {},
   "outputs": [
    {
     "name": "stdout",
     "output_type": "stream",
     "text": [
      "95 перцентиль: 2.00\n",
      "99 перцентиль: 4.00\n"
     ]
    }
   ],
   "source": [
    "print('95 перцентиль: %.2f' % np.percentile(ordersByUsers['orders'], [95]))\n",
    "print('99 перцентиль: %.2f' % np.percentile(ordersByUsers['orders'], [99]))"
   ]
  },
  {
   "cell_type": "markdown",
   "metadata": {},
   "source": [
    "Не более 5% пользователей оформляли больше чем 2 заказа. И 1% пользователей заказывали более четырех раз. Границей для отбрасывания аномального количества заказов выберем 5%, т.е. 2 заказа включительно. "
   ]
  },
  {
   "cell_type": "markdown",
   "metadata": {},
   "source": [
    "### Точечный график стоимостей заказов"
   ]
  },
  {
   "cell_type": "markdown",
   "metadata": {},
   "source": [
    "<a id='7'></a> "
   ]
  },
  {
   "cell_type": "code",
   "execution_count": 39,
   "metadata": {},
   "outputs": [
    {
     "data": {
      "image/png": "[encoded data removed]",
      "text/plain": [
       "<Figure size 864x432 with 1 Axes>"
      ]
     },
     "metadata": {
      "needs_background": "light"
     },
     "output_type": "display_data"
    }
   ],
   "source": [
    "x_values = pd.Series(range(0,len(orders['revenue'])))\n",
    "plt.figure(figsize = (12, 6))\n",
    "plt.xlabel('Пользователи', color = \"grey\")\n",
    "plt.ylabel('Стоимость заказа', color = \"grey\")\n",
    "plt.title('Точечная диаграмма стоимости заказа', color = \"grey\")\n",
    "plt.scatter(x_values, orders['revenue']); "
   ]
  },
  {
   "cell_type": "markdown",
   "metadata": {},
   "source": [
    "Наблюдаем анамальных покупателей, со стоимостью заказа более 1,2 млн и около 200 тыс."
   ]
  },
  {
   "cell_type": "markdown",
   "metadata": {},
   "source": [
    "Построим график без аномальных пользователей."
   ]
  },
  {
   "cell_type": "code",
   "execution_count": 40,
   "metadata": {},
   "outputs": [
    {
     "data": {
      "image/png": "[encoded data removed]",
      "text/plain": [
       "<Figure size 864x432 with 1 Axes>"
      ]
     },
     "metadata": {
      "needs_background": "light"
     },
     "output_type": "display_data"
    }
   ],
   "source": [
    "x_values = pd.Series(range(0,len(orders['revenue'])))\n",
    "plt.figure(figsize = (12, 6))\n",
    "plt.ylim([-10000, 100000])\n",
    "plt.xlabel('Пользователи', color = \"grey\")\n",
    "plt.ylabel('Стоимость заказа', color = \"grey\")\n",
    "plt.title('Точечная диаграмма стоимости заказа', color = \"grey\")\n",
    "plt.scatter(x_values, orders['revenue']); "
   ]
  },
  {
   "cell_type": "markdown",
   "metadata": {},
   "source": [
    "На графике хорошо видно что большая часть заказов распологается до 20 000."
   ]
  },
  {
   "cell_type": "markdown",
   "metadata": {},
   "source": [
    "### 95-й и 99-й перцентили стоимости заказов"
   ]
  },
  {
   "cell_type": "code",
   "execution_count": 41,
   "metadata": {},
   "outputs": [
    {
     "name": "stdout",
     "output_type": "stream",
     "text": [
      "95 перцентиль: 28000.00\n",
      "99 перцентиль: 58233.20\n"
     ]
    }
   ],
   "source": [
    "print('95 перцентиль: %.2f' % np.percentile(orders['revenue'], [95]))\n",
    "print('99 перцентиль: %.2f' % np.percentile(orders['revenue'], [99]))"
   ]
  },
  {
   "cell_type": "markdown",
   "metadata": {},
   "source": [
    "Не более 5% пользователей оформляли больше чем 28000. И 1% пользователей заказывали более 58233. Границей для отбрасывания аномальной стоимости заказа выберем 5%, т.е. 28000 включительно. "
   ]
  },
  {
   "cell_type": "markdown",
   "metadata": {},
   "source": [
    "<div class = \"alert alert-success\">\n",
    "<b> Комментарии ревьюера </b>\n",
    "\n",
    "Выбор по аномальному количеству заказов и по аномальной стоимости заказов для очистки данных от выбросов сделан, отлично!\n",
    "\n",
    "</div>"
   ]
  },
  {
   "cell_type": "markdown",
   "metadata": {},
   "source": [
    "### Расчет статистической значимости различий в конверсии между группами по «сырым» данным"
   ]
  },
  {
   "cell_type": "markdown",
   "metadata": {},
   "source": [
    "Нулевая гипотеза: статистически значимых различий в конверсии между группами нет"
   ]
  },
  {
   "cell_type": "markdown",
   "metadata": {},
   "source": [
    "Альтернативная гипотеза: статистически значимых различий в конверсии между группами есть"
   ]
  },
  {
   "cell_type": "code",
   "execution_count": 42,
   "metadata": {},
   "outputs": [],
   "source": [
    "visitorsADaily = visitors[visitors['group'] == 'A'][['date', 'visitors']]\n",
    "visitorsADaily.columns = ['date', 'visitorsPerDateA']"
   ]
  },
  {
   "cell_type": "code",
   "execution_count": 43,
   "metadata": {},
   "outputs": [],
   "source": [
    "visitorsBDaily = visitors[visitors['group'] == 'B'][['date', 'visitors']]\n",
    "visitorsBDaily.columns = ['date', 'visitorsPerDateB']"
   ]
  },
  {
   "cell_type": "code",
   "execution_count": 44,
   "metadata": {},
   "outputs": [
    {
     "data": {
      "text/html": [
       "<div>\n",
       "<style scoped>\n",
       "    .dataframe tbody tr th:only-of-type {\n",
       "        vertical-align: middle;\n",
       "    }\n",
       "\n",
       "    .dataframe tbody tr th {\n",
       "        vertical-align: top;\n",
       "    }\n",
       "\n",
       "    .dataframe thead th {\n",
       "        text-align: right;\n",
       "    }\n",
       "</style>\n",
       "<table border=\"1\" class=\"dataframe\">\n",
       "  <thead>\n",
       "    <tr style=\"text-align: right;\">\n",
       "      <th></th>\n",
       "      <th>date</th>\n",
       "      <th>visitorsPerDateA</th>\n",
       "      <th>visitorsPerDateB</th>\n",
       "    </tr>\n",
       "  </thead>\n",
       "  <tbody>\n",
       "    <tr>\n",
       "      <td>0</td>\n",
       "      <td>2019-08-01</td>\n",
       "      <td>719</td>\n",
       "      <td>713</td>\n",
       "    </tr>\n",
       "    <tr>\n",
       "      <td>1</td>\n",
       "      <td>2019-08-02</td>\n",
       "      <td>619</td>\n",
       "      <td>581</td>\n",
       "    </tr>\n",
       "    <tr>\n",
       "      <td>2</td>\n",
       "      <td>2019-08-03</td>\n",
       "      <td>507</td>\n",
       "      <td>509</td>\n",
       "    </tr>\n",
       "    <tr>\n",
       "      <td>3</td>\n",
       "      <td>2019-08-04</td>\n",
       "      <td>717</td>\n",
       "      <td>770</td>\n",
       "    </tr>\n",
       "    <tr>\n",
       "      <td>4</td>\n",
       "      <td>2019-08-05</td>\n",
       "      <td>756</td>\n",
       "      <td>707</td>\n",
       "    </tr>\n",
       "  </tbody>\n",
       "</table>\n",
       "</div>"
      ],
      "text/plain": [
       "        date  visitorsPerDateA  visitorsPerDateB\n",
       "0 2019-08-01  719               713             \n",
       "1 2019-08-02  619               581             \n",
       "2 2019-08-03  507               509             \n",
       "3 2019-08-04  717               770             \n",
       "4 2019-08-05  756               707             "
      ]
     },
     "execution_count": 44,
     "metadata": {},
     "output_type": "execute_result"
    }
   ],
   "source": [
    "data = (visitorsADaily.merge(visitorsBDaily, left_on = 'date', right_on = 'date', how = 'left'))\n",
    "\n",
    "\n",
    "data.head(5)"
   ]
  },
  {
   "cell_type": "markdown",
   "metadata": {},
   "source": [
    "Создадим переменные."
   ]
  },
  {
   "cell_type": "code",
   "execution_count": 45,
   "metadata": {},
   "outputs": [],
   "source": [
    "ordersByUsersA = (orders[orders['group'] == 'A'].groupby('visitorId', as_index=False).agg({'transactionId': pd.Series.nunique}))\n",
    "ordersByUsersA.columns = ['visitorId', 'orders']\n",
    "\n",
    "ordersByUsersB = (orders[orders['group'] == 'B'].groupby('visitorId', as_index=False).agg({'transactionId': pd.Series.nunique}))\n",
    "ordersByUsersB.columns = ['visitorId', 'orders'] "
   ]
  },
  {
   "cell_type": "markdown",
   "metadata": {},
   "source": [
    "Объявим переменные sampleA и sampleB, в которых пользователям из разных групп будет соответствовать количество заказов."
   ]
  },
  {
   "cell_type": "code",
   "execution_count": 46,
   "metadata": {},
   "outputs": [],
   "source": [
    "sampleA = pd.concat([ordersByUsersA['orders'], pd.Series(0,index=np.arange(data['visitorsPerDateA'].sum() - \\\n",
    "                                                                           len(ordersByUsersA['orders'])),\\\n",
    "                                                         name = 'orders')], axis = 0)\n",
    "sampleB = pd.concat([ordersByUsersB['orders'], pd.Series(0,index=np.arange(data['visitorsPerDateB'].sum() - \\\n",
    "                                                                           len(ordersByUsersB['orders'])),\\\n",
    "                                                         name = 'orders')], axis = 0)                                        "
   ]
  },
  {
   "cell_type": "code",
   "execution_count": 47,
   "metadata": {},
   "outputs": [
    {
     "name": "stdout",
     "output_type": "stream",
     "text": [
      "Р-value = 0.017\n",
      "Относительная разница = 0.138\n"
     ]
    }
   ],
   "source": [
    "print('Р-value = {0:.3f}'.format(stats.mannwhitneyu(sampleA, sampleB, alternative = 'two-sided')[1]))\n",
    "\n",
    "print('Относительная разница = {0:.3f}'.format(sampleB.mean() / sampleA.mean() - 1))"
   ]
  },
  {
   "cell_type": "markdown",
   "metadata": {},
   "source": [
    "По \"сырым\" данным различия в конверсии групп А и В есть. Значит, нулевую гипотезу о том, что статистически значимых различий в конверсии между группами нет, отвергаем. Относительный прирост конверсии группы В к конверсии группы А равен 13,8%. "
   ]
  },
  {
   "cell_type": "markdown",
   "metadata": {},
   "source": [
    "### Расчет статистической значимости различий в среднем чеке заказа между группами по «сырым» данным"
   ]
  },
  {
   "cell_type": "markdown",
   "metadata": {},
   "source": [
    "Нулевая гипотеза: различия в среднем чеке есть"
   ]
  },
  {
   "cell_type": "markdown",
   "metadata": {},
   "source": [
    "Альтернативная гипотеза: различий в среднем чеке нет"
   ]
  },
  {
   "cell_type": "code",
   "execution_count": 48,
   "metadata": {},
   "outputs": [
    {
     "name": "stdout",
     "output_type": "stream",
     "text": [
      "Р-value = 0.729\n",
      "Относительная разница = 0.259\n",
      "Средний чек группа А = 7333.58 \n",
      "Средний чек группа B = 9230.88 \n"
     ]
    }
   ],
   "source": [
    "print('Р-value = {0:.3f}'.format(stats.mannwhitneyu(orders[orders['group'] == 'A']['revenue'], \\\n",
    "                                                    orders[orders['group'] == 'B']['revenue'], alternative = 'two-sided') [1]))\n",
    "print('Относительная разница = {0:.3f}'.format(orders[orders['group'] == 'B']['revenue'].mean() /\\\n",
    "                                               orders[orders['group'] == 'A']['revenue'].mean() - 1)) \n",
    "print('Средний чек группа А = {0:.2f} '.format(orders[orders['group'] == 'A']['revenue'].mean()))\n",
    "print('Средний чек группа B = {0:.2f} '.format(orders[orders['group'] == 'B']['revenue'].mean()))"
   ]
  },
  {
   "cell_type": "markdown",
   "metadata": {},
   "source": [
    "P-value значительно больше 0.05. Значит, причин отвергать нулевую гипотезу и считать, что в среднем чеке есть различия, нет. Кроме того относительное различие чека между группами 25,9%. Вероятно эти те крупные покупки, что мы выявили ранее."
   ]
  },
  {
   "cell_type": "markdown",
   "metadata": {},
   "source": [
    "### Расчет статистической значимости различий в конверсии между группами по «очищенным» данным"
   ]
  },
  {
   "cell_type": "markdown",
   "metadata": {},
   "source": [
    "Нулевая гипотеза: статистически значимых различий в конверсии между группами нет"
   ]
  },
  {
   "cell_type": "markdown",
   "metadata": {},
   "source": [
    "Альтернативная гипотеза: статистически значимых различий в конверсии между группами есть"
   ]
  },
  {
   "cell_type": "markdown",
   "metadata": {},
   "source": [
    "Примем за аномальных пользователей, тех кто совершил от 2 заказов и дороже 28 000.  "
   ]
  },
  {
   "cell_type": "code",
   "execution_count": 49,
   "metadata": {},
   "outputs": [],
   "source": [
    "usersWithManyOrders = pd.concat([ordersByUsersA[ordersByUsersA['orders'] > 2]['visitorId'],\\\n",
    "                                 ordersByUsersB[ordersByUsersB['orders'] > 2]['visitorId']], axis = 0)"
   ]
  },
  {
   "cell_type": "code",
   "execution_count": 50,
   "metadata": {},
   "outputs": [],
   "source": [
    "usersWithExpensiveOrders = orders[orders['revenue'] > 28000]['visitorId']"
   ]
  },
  {
   "cell_type": "code",
   "execution_count": 51,
   "metadata": {},
   "outputs": [
    {
     "data": {
      "text/plain": [
       "1099    148427295\n",
       "18      199603092\n",
       "928     204675465\n",
       "23      237748145\n",
       "37      249864742\n",
       "Name: visitorId, dtype: int64"
      ]
     },
     "execution_count": 51,
     "metadata": {},
     "output_type": "execute_result"
    }
   ],
   "source": [
    "abnormalUsers = (pd.concat([usersWithManyOrders, usersWithExpensiveOrders], axis = 0).drop_duplicates().sort_values())\n",
    "abnormalUsers.head()"
   ]
  },
  {
   "cell_type": "code",
   "execution_count": 52,
   "metadata": {},
   "outputs": [
    {
     "data": {
      "text/plain": [
       "(74,)"
      ]
     },
     "execution_count": 52,
     "metadata": {},
     "output_type": "execute_result"
    }
   ],
   "source": [
    "abnormalUsers.shape"
   ]
  },
  {
   "cell_type": "markdown",
   "metadata": {},
   "source": [
    "Имеем 74 аномальных пользователя."
   ]
  },
  {
   "cell_type": "code",
   "execution_count": 53,
   "metadata": {},
   "outputs": [],
   "source": [
    "sampleAFiltered = pd.concat([ordersByUsersA[np.logical_not(ordersByUsersA['visitorId'].isin(abnormalUsers))]['orders'],\\\n",
    "                             pd.Series(0,index = np.arange(data['visitorsPerDateA'].sum() - len(ordersByUsersA['orders'])),\\\n",
    "                                       name = 'orders')], axis = 0)\n"
   ]
  },
  {
   "cell_type": "code",
   "execution_count": 54,
   "metadata": {},
   "outputs": [],
   "source": [
    "sampleBFiltered = pd.concat([ordersByUsersB[np.logical_not(ordersByUsersB['visitorId'].isin(abnormalUsers))]['orders'],\\\n",
    "                             pd.Series(0, index = np.arange(data['visitorsPerDateB'].sum() - len(ordersByUsersB['orders'])),\\\n",
    "                                       name = 'orders')],axis = 0) "
   ]
  },
  {
   "cell_type": "markdown",
   "metadata": {},
   "source": [
    "Применим статистический критерий Манна-Уитни к полученным выборкам."
   ]
  },
  {
   "cell_type": "code",
   "execution_count": 55,
   "metadata": {},
   "outputs": [
    {
     "name": "stdout",
     "output_type": "stream",
     "text": [
      "Р-value = 0.013\n",
      "Относительная разница = 0.173\n"
     ]
    }
   ],
   "source": [
    "print('Р-value = {0:.3f}'.format(stats.mannwhitneyu(sampleAFiltered, sampleBFiltered, alternative = 'two-sided')[1]))\n",
    "print('Относительная разница = {0:.3f}'.format(sampleBFiltered.mean() / sampleAFiltered.mean() - 1)) "
   ]
  },
  {
   "cell_type": "markdown",
   "metadata": {},
   "source": [
    "Результаты по конверсии практически не изменились."
   ]
  },
  {
   "cell_type": "markdown",
   "metadata": {},
   "source": [
    "### Расчет статистической значимости различий в среднем чеке заказа между группами по «очищенным» данным"
   ]
  },
  {
   "cell_type": "markdown",
   "metadata": {},
   "source": [
    "Нулевая гипотеза: различия в среднем чеке есть"
   ]
  },
  {
   "cell_type": "markdown",
   "metadata": {},
   "source": [
    "Альтернативная гипотеза: различий в среднем чеке нет"
   ]
  },
  {
   "cell_type": "code",
   "execution_count": 56,
   "metadata": {},
   "outputs": [
    {
     "name": "stdout",
     "output_type": "stream",
     "text": [
      "Р-value = 0.738\n",
      "Относительная разница = -0.020\n",
      "Средний чек группа А = 5166.61 \n",
      "Средний чек группа B = 5065.22 \n"
     ]
    }
   ],
   "source": [
    "print('Р-value = {0:.3f}'.format(stats.mannwhitneyu(orders[np.logical_and(orders['group'] == 'A',\\\n",
    "                                                                          np.logical_not(orders['visitorId']\\\n",
    "                                                                                        .isin(abnormalUsers)))]['revenue'],\\\n",
    "                                                    orders[np.logical_and(orders['group'] == 'B',\\\n",
    "                                                                          np.logical_not(orders['visitorId']\\\n",
    "                                                                                        .isin(abnormalUsers)))]['revenue'],\\\n",
    "                                                    alternative = 'two-sided')[1]))\n",
    "print('Относительная разница = {0:.3f}'.format(orders[np.logical_and(orders['group'] == 'B',\\\n",
    "                                                                     np.logical_not(orders['visitorId']\\\n",
    "                                                                                .isin(abnormalUsers)))]['revenue'].mean() / \\\n",
    "                                               orders[np.logical_and(orders['group'] == 'A',\n",
    "                                                                     np.logical_not(orders['visitorId']\\\n",
    "                                                                                    .isin(abnormalUsers)))]['revenue']\n",
    "                                               .mean() - 1)) \n",
    "print('Средний чек группа А = {0:.2f} '.format(orders[np.logical_and(orders['group'] == 'A',\\\n",
    "                                                np.logical_not(orders['visitorId'].isin(abnormalUsers)))]['revenue'].mean()))\n",
    "print('Средний чек группа B = {0:.2f} '.format(orders[np.logical_and(orders['group'] == 'B',\\\n",
    "                                                np.logical_not(orders['visitorId'].isin(abnormalUsers)))]['revenue'].mean()))"
   ]
  },
  {
   "cell_type": "markdown",
   "metadata": {},
   "source": [
    "P-value практически не изменился, разница между сегментами сократилась с 25,9% до 2%."
   ]
  },
  {
   "cell_type": "markdown",
   "metadata": {},
   "source": [
    "### Решение по результатам теста"
   ]
  },
  {
   "cell_type": "markdown",
   "metadata": {},
   "source": [
    "   Перед нами стояла цель увеличить выручку, для этого необходимо приоритезировать гипотезы и провести А/В - тестирование. Были предоствелны данные: таблица с гипотезами, таблица с визитами и таблица с заказами. При обработке данных было выявлено не соответсвие дат типам данных, переведены надвания столбцов к строчным буквам в таблице с гипотезами, также было обнаружено 58 пользователей, которые состоят в группе А и В. Это ошибка и надо сообщить разработчикам, чтобы они правили систему распределения пользователей по группам, разница между тестовыми группами в пределах нормы до 1%."
   ]
  },
  {
   "cell_type": "markdown",
   "metadata": {},
   "source": [
    "Согласно проведенной приоритезации наиболее перспеткивной является гипотеза 7 (добавить форму подписки на все основные страницы, чтобы собрать базу клиентов для email-рассылок) так как она затронет большее количество пользователей и также гипотеза 0 (добавить два новых канала привлечения трафика, что позволит привлекать на 30% больше пользователей). \t "
   ]
  },
  {
   "cell_type": "markdown",
   "metadata": {},
   "source": [
    "При анализе А/В-теста мы произвели следующие действия:\n",
    "- построили [график кумулятивной выручки по группам](#1). Выручка в обоих группах растет, но группа В имеет реский рост, это может свидетельствовать о возможном попаднии крупных заказов в выборку;\n",
    "- построили [график кумулятивного среднего чека по группам](#2).Наблюдаем рост среднего чека для группы А и его дальнейшую стабилизацию, у группы В график имеет больше всплесков. Возможно в группу В попали крупные заказы;\n",
    "- построили [график относительного изменения кумулятивного среднего чека группы В к группе А](#3). В нескольких точках график различия между сегментами резко меняется. Вероятно это крупные заказы и выбросы;\n",
    "- построили [график кумулятивной конверсии по группам](#4). Конверсия группы В выше;\n",
    "- построили [график относительного изменения кумулятивной конверсии группы В к группе А](#5). Группа В лидирует по конверсии, показатель стабилизировался в районе 0.1, имеет тенденцию к росту;\n",
    "- посторили [точечный график количества заказов по пользователям](#6). В основном пользователи совершают 1 покупку, но и есть фанаты по 11 покупок;\n",
    "- посчитали 95 и 99 перцентили количества заказов на пользователя. Не более 5% пользователей оформляли больше чем 2 заказа. И 1% пользователей заказывали более четырех раз. Границей для отбрасывания аномального количества заказов выбрали 5%, т.е. 2 заказа включительно;\n",
    "- постороили [точечный график стоимостей заказов](#7). Наблюдаем анамальных покупателей, со стоимостью заказа более 1,2 млн и около 200 тыс., вообщем заказы укладывются до 20 000; \n",
    "- посчитали 95 и 99 перцентили стоимости заказов. Не более 5% пользователей оформляли больше чем на 28 000. И 1% пользователей заказывали более чем 58 233. Границей для отбрасывания аномальной стоимости заказа выберем 5%, т.е. 28 000 включительно;\n",
    "- рассчитали статистическую значимость различий в конверсии между группами по \"сырым\" данным. Различия в конверсии групп А и В есть и равны 1,7%. Относительный прирост конверсии группы В к конверсии группы А равен 13,8%;\n",
    "- рассчитали статистическую значимость различий в среднем чеке заказа между группами по \"сырым\" данным. P-value = 72,9 %. В среднем чеке есть различия. Кроме того относительное различие чека между группами 25,9%;\n",
    "- рассчитали статистическую значимость различий в конверсии между группами по \"очищенным\" данным. Было обнаружено 74 аномальных пользователя, результаты относительно \"сырых\" данных практически не изменились. Различия в конверсии групп А и В есть и равны 1,3%. Относительный прирост конверсии группы В к конверсии группы А равен 17,3%\n",
    "- рассчитали статистическую значимость различий в среднем чеке заказа между группами по \"очищенным\" данным. P-value практически не изменился и равен 73,8%. В среднем чеке есть различия, разница между сегментами сократилась с 25,9% до 2%."
   ]
  },
  {
   "cell_type": "markdown",
   "metadata": {},
   "source": [
    "По результатам принято решение остановить тест:"
   ]
  },
  {
   "cell_type": "markdown",
   "metadata": {},
   "source": [
    " - Есть статистически значимое различие по конверсии между группами как по сырым данным, так и после фильтрации аномалий;\n",
    " - По сырым данным есть статистически значимое различие по среднему чеку между группами.И после удаления аномалий статистически значимые различия есть;\n",
    " - График различия конверсии между группами сообщает, что результаты группы B лучше группы A: имеют тенденцию к росту, либо зафиксировались около среднего значения."
   ]
  }
 ],
 "metadata": {
  "ExecuteTimeLog": [
   {
    "duration": 975,
    "start_time": "2021-09-04T13:31:54.247Z"
   },
   {
    "duration": 17,
    "start_time": "2021-09-04T13:31:55.224Z"
   },
   {
    "duration": 14,
    "start_time": "2021-09-04T13:31:55.243Z"
   },
   {
    "duration": 5,
    "start_time": "2021-09-04T13:31:55.258Z"
   },
   {
    "duration": 7,
    "start_time": "2021-09-04T13:31:55.264Z"
   },
   {
    "duration": 278,
    "start_time": "2021-09-04T13:31:55.660Z"
   },
   {
    "duration": 17,
    "start_time": "2021-09-04T13:31:56.147Z"
   },
   {
    "duration": 52,
    "start_time": "2021-09-04T13:31:56.748Z"
   },
   {
    "duration": 8,
    "start_time": "2021-09-04T13:31:57.147Z"
   },
   {
    "duration": 7,
    "start_time": "2021-09-04T13:31:57.343Z"
   },
   {
    "duration": 6,
    "start_time": "2021-09-04T13:31:57.536Z"
   },
   {
    "duration": 6,
    "start_time": "2021-09-04T13:31:57.740Z"
   },
   {
    "duration": 8,
    "start_time": "2021-09-04T13:31:58.107Z"
   },
   {
    "duration": 7,
    "start_time": "2021-09-04T13:31:58.283Z"
   },
   {
    "duration": 7,
    "start_time": "2021-09-04T13:31:58.463Z"
   },
   {
    "duration": 6,
    "start_time": "2021-09-04T13:31:58.647Z"
   },
   {
    "duration": 7,
    "start_time": "2021-09-04T13:31:59.003Z"
   },
   {
    "duration": 11,
    "start_time": "2021-09-04T13:31:59.539Z"
   },
   {
    "duration": 14,
    "start_time": "2021-09-04T13:32:00.423Z"
   },
   {
    "duration": 7,
    "start_time": "2021-09-04T13:32:00.600Z"
   },
   {
    "duration": 197,
    "start_time": "2021-09-04T13:32:00.951Z"
   },
   {
    "duration": 156,
    "start_time": "2021-09-04T13:32:01.280Z"
   },
   {
    "duration": 7,
    "start_time": "2021-09-04T13:32:01.592Z"
   },
   {
    "duration": 6,
    "start_time": "2021-09-04T13:32:01.911Z"
   },
   {
    "duration": 7,
    "start_time": "2021-09-04T13:32:02.075Z"
   },
   {
    "duration": 265,
    "start_time": "2021-09-04T13:32:02.419Z"
   },
   {
    "duration": 260,
    "start_time": "2021-09-04T13:32:03.159Z"
   },
   {
    "duration": 6,
    "start_time": "2021-09-04T13:32:14.240Z"
   },
   {
    "duration": 6,
    "start_time": "2021-09-04T13:32:27.668Z"
   },
   {
    "duration": 420,
    "start_time": "2021-09-04T13:32:28.571Z"
   },
   {
    "duration": 4,
    "start_time": "2021-09-04T13:32:34.024Z"
   },
   {
    "duration": 5,
    "start_time": "2021-09-04T13:32:35.022Z"
   },
   {
    "duration": 269,
    "start_time": "2021-09-04T13:32:36.124Z"
   },
   {
    "duration": 356,
    "start_time": "2021-09-04T13:32:40.140Z"
   },
   {
    "duration": 101,
    "start_time": "2021-09-04T13:32:42.636Z"
   },
   {
    "duration": 8,
    "start_time": "2021-09-04T13:32:43.056Z"
   },
   {
    "duration": 308,
    "start_time": "2021-09-04T13:32:43.920Z"
   },
   {
    "duration": 5,
    "start_time": "2021-09-04T13:32:45.560Z"
   },
   {
    "duration": 413,
    "start_time": "2021-09-04T13:32:47.136Z"
   },
   {
    "duration": 353,
    "start_time": "2021-09-04T13:32:48.888Z"
   },
   {
    "duration": 4,
    "start_time": "2021-09-04T13:32:50.604Z"
   },
   {
    "duration": 5,
    "start_time": "2021-09-04T13:32:52.864Z"
   },
   {
    "duration": 5,
    "start_time": "2021-09-04T13:32:53.147Z"
   },
   {
    "duration": 10,
    "start_time": "2021-09-04T13:32:53.400Z"
   },
   {
    "duration": 122,
    "start_time": "2021-09-04T13:32:53.888Z"
   },
   {
    "duration": 6,
    "start_time": "2021-09-04T13:32:54.859Z"
   },
   {
    "duration": 8,
    "start_time": "2021-09-04T13:32:55.367Z"
   },
   {
    "duration": 14,
    "start_time": "2021-09-04T13:32:58.620Z"
   },
   {
    "duration": 5,
    "start_time": "2021-09-04T13:33:00.696Z"
   },
   {
    "duration": 4,
    "start_time": "2021-09-04T13:33:01.068Z"
   },
   {
    "duration": 6,
    "start_time": "2021-09-04T13:33:01.396Z"
   },
   {
    "duration": 4,
    "start_time": "2021-09-04T13:33:01.964Z"
   },
   {
    "duration": 6,
    "start_time": "2021-09-04T13:33:02.676Z"
   },
   {
    "duration": 6,
    "start_time": "2021-09-04T13:33:02.956Z"
   },
   {
    "duration": 8,
    "start_time": "2021-09-04T13:33:04.524Z"
   },
   {
    "duration": 18,
    "start_time": "2021-09-04T13:33:06.649Z"
   }
  ],
  "kernelspec": {
   "display_name": "Python 3",
   "language": "python",
   "name": "python3"
  },
  "language_info": {
   "codemirror_mode": {
    "name": "ipython",
    "version": 3
   },
   "file_extension": ".py",
   "mimetype": "text/x-python",
   "name": "python",
   "nbconvert_exporter": "python",
   "pygments_lexer": "ipython3",
   "version": "3.7.8"
  },
  "toc": {
   "base_numbering": 1,
   "nav_menu": {},
   "number_sections": false,
   "sideBar": true,
   "skip_h1_title": true,
   "title_cell": "Table of Contents",
   "title_sidebar": "Contents",
   "toc_cell": false,
   "toc_position": {
    "height": "calc(100% - 180px)",
    "left": "10px",
    "top": "150px",
    "width": "610.382px"
   },
   "toc_section_display": true,
   "toc_window_display": true
  }
 },
 "nbformat": 4,
 "nbformat_minor": 2
}
